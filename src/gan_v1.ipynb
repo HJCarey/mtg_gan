{
 "cells": [
  {
   "cell_type": "code",
   "execution_count": 1,
   "metadata": {
    "collapsed": false,
    "deletable": true,
    "editable": true
   },
   "outputs": [
    {
     "name": "stderr",
     "output_type": "stream",
     "text": [
      "Using TensorFlow backend.\n"
     ]
    }
   ],
   "source": [
    "import os\n",
    "import numpy as np\n",
    "import pandas as pd\n",
    "import sklearn as sk\n",
    "import PIL.Image as Image\n",
    "from IPython import display\n",
    "import pylab as pl\n",
    "import matplotlib.pyplot as plt\n",
    "import tensorflow as tf\n",
    "import keras\n",
    "from collections import Counter\n",
    "import operator\n",
    "import time\n",
    "from tqdm import tqdm\n",
    "from skimage.transform import resize, rescale, downscale_local_mean\n",
    "\n",
    "from keras.layers import Input\n",
    "from keras.models import Model, Sequential\n",
    "from keras.layers.core import Reshape, Dense, Dropout, Flatten\n",
    "from keras.layers.advanced_activations import LeakyReLU\n",
    "from keras.layers.convolutional import Conv2D, UpSampling2D\n",
    "from keras.layers.advanced_activations import LeakyReLU, PReLU\n",
    "from keras.layers.normalization import BatchNormalization\n",
    "from keras.regularizers import l1#, l1l2\n",
    "from keras.datasets import mnist\n",
    "from keras.optimizers import Adam\n",
    "from keras import backend as K\n",
    "from keras import initializers\n",
    "\n",
    "from sklearn.model_selection import train_test_split\n",
    "\n",
    "%matplotlib inline"
   ]
  },
  {
   "cell_type": "markdown",
   "metadata": {
    "deletable": true,
    "editable": true
   },
   "source": [
    "### Functions"
   ]
  },
  {
   "cell_type": "code",
   "execution_count": 2,
   "metadata": {
    "collapsed": true,
    "deletable": true,
    "editable": true
   },
   "outputs": [],
   "source": [
    "def load_sets(sets):\n",
    "    data = pd.DataFrame()\n",
    "    for set in sets:\n",
    "        try:\n",
    "            set_temp = pd.DataFrame(load_set(set))\n",
    "            data = data.append(set_temp)\n",
    "        except:\n",
    "            print(\"Set not found.\")\n",
    "        \n",
    "    return data\n",
    "\n",
    "def load_set(set):\n",
    "    if not \".csv\" in set:\n",
    "        csv_file_name = \"%s.csv\" % set\n",
    "    else:\n",
    "        csv_file_name = \"%s\" % set\n",
    "    csv_path = \"../data/card_data/csv\"\n",
    "    csv_file_path = \"%s/%s\" % (csv_path, csv_file_name)\n",
    "        \n",
    "    return pd.read_csv(csv_file_path)\n",
    "\n",
    "def get_subtype_df(set, subtype):\n",
    "    \"\"\"\n",
    "        Returns a dataframe containing all cards of the subtype \n",
    "        given from the sets given.\n",
    "    \"\"\"\n",
    "    data = set[set[\"type\"].str.contains(subtype,case=False)].drop_duplicates(\"name\")\n",
    "    return data.sort_values(\"printings\")\n",
    "\n",
    "def load_images_type_dim(sets, subtype, images_path_):\n",
    "    pics = []\n",
    "    x_dim = [20,203]\n",
    "    for index, set in sets.iterrows():\n",
    "        images_path = \"%s/%s\" % (images_path_, set['name'])\n",
    "        y_dim = [set['Ya'],set['Yb']]\n",
    "        \n",
    "        # Load subset type cards from csv lists\n",
    "        try: #Try to load the given set, if it doesn't exist, pass\n",
    "            card_names = get_subtype_df(load_set(set['name']),subtype)['name'].values\n",
    "            for image in card_names:\n",
    "                try:\n",
    "                    im_file_name = \"%s.full.jpg\" % image\n",
    "                    #print(set, \": \", im_file_name)\n",
    "                    im_file_path = \"%s/%s\" % (images_path, im_file_name)\n",
    "                    #print(im_file_path)\n",
    "                    image = np.asarray(Image.open(im_file_path))\n",
    "                    image = resize(image, (310,223), mode='reflect')\n",
    "                    pics.append(crop_image(image,x_dim,y_dim))\n",
    "                except OSError:\n",
    "                    pass\n",
    "        except:\n",
    "            pass\n",
    "    \n",
    "    return pics\n",
    "\n",
    "def crop_image(img, cropx, cropy):\n",
    "    return img[cropy[0]:cropy[1],cropx[0]:cropx[1]]"
   ]
  },
  {
   "cell_type": "markdown",
   "metadata": {
    "deletable": true,
    "editable": true
   },
   "source": [
    "### Load Card Data"
   ]
  },
  {
   "cell_type": "code",
   "execution_count": 3,
   "metadata": {
    "collapsed": true,
    "deletable": true,
    "editable": true
   },
   "outputs": [],
   "source": [
    "# Path to card csv data, not images\n",
    "csv_path = \"../data/card_data/csv\"\n",
    "\n",
    "# List of all files in the csv directory\n",
    "#  This is essentially a list of the names of all MTG sets\n",
    "#  We will loop through all the names of the files and load them into memory\n",
    "#  to have a single dataframe with every card from every set.\n",
    "filelist = os.listdir(csv_path)\n",
    "data_sets = load_sets(filelist).fillna(\"none\")"
   ]
  },
  {
   "cell_type": "code",
   "execution_count": 4,
   "metadata": {
    "collapsed": false,
    "deletable": true,
    "editable": true
   },
   "outputs": [
    {
     "data": {
      "text/html": [
       "<div>\n",
       "<table border=\"1\" class=\"dataframe\">\n",
       "  <thead>\n",
       "    <tr style=\"text-align: right;\">\n",
       "      <th></th>\n",
       "      <th>name</th>\n",
       "      <th>manaCost</th>\n",
       "      <th>cmc</th>\n",
       "      <th>colorIdentity</th>\n",
       "      <th>artist</th>\n",
       "      <th>number</th>\n",
       "      <th>type</th>\n",
       "      <th>text</th>\n",
       "      <th>printings</th>\n",
       "      <th>flavor</th>\n",
       "      <th>layout</th>\n",
       "      <th>multiverseid</th>\n",
       "      <th>power</th>\n",
       "      <th>toughness</th>\n",
       "      <th>rarity</th>\n",
       "      <th>subtypes</th>\n",
       "      <th>types</th>\n",
       "    </tr>\n",
       "  </thead>\n",
       "  <tbody>\n",
       "    <tr>\n",
       "      <th>0</th>\n",
       "      <td>Abolish</td>\n",
       "      <td>{1}{W}{W}</td>\n",
       "      <td>3</td>\n",
       "      <td>W</td>\n",
       "      <td>Kev Walker</td>\n",
       "      <td>1</td>\n",
       "      <td>Instant</td>\n",
       "      <td>You may discard a Plains card rather than pay ...</td>\n",
       "      <td>PCY,DDF</td>\n",
       "      <td>As war raged on, the young mages became more d...</td>\n",
       "      <td>normal</td>\n",
       "      <td>24561</td>\n",
       "      <td>none</td>\n",
       "      <td>none</td>\n",
       "      <td>Uncommon</td>\n",
       "      <td>none</td>\n",
       "      <td>Instant</td>\n",
       "    </tr>\n",
       "    <tr>\n",
       "      <th>1</th>\n",
       "      <td>Aura Fracture</td>\n",
       "      <td>{2}{W}</td>\n",
       "      <td>3</td>\n",
       "      <td>W</td>\n",
       "      <td>Rebecca Guay</td>\n",
       "      <td>2</td>\n",
       "      <td>Enchantment</td>\n",
       "      <td>Sacrifice a land: Destroy target enchantment.</td>\n",
       "      <td>PCY</td>\n",
       "      <td>Jamuraa's rhystic mages treat magic as their g...</td>\n",
       "      <td>normal</td>\n",
       "      <td>24560</td>\n",
       "      <td>none</td>\n",
       "      <td>none</td>\n",
       "      <td>Common</td>\n",
       "      <td>none</td>\n",
       "      <td>Enchantment</td>\n",
       "    </tr>\n",
       "    <tr>\n",
       "      <th>2</th>\n",
       "      <td>Avatar of Hope</td>\n",
       "      <td>{6}{W}{W}</td>\n",
       "      <td>8</td>\n",
       "      <td>W</td>\n",
       "      <td>rk post</td>\n",
       "      <td>3</td>\n",
       "      <td>Creature — Avatar</td>\n",
       "      <td>If you have 3 or less life, Avatar of Hope cos...</td>\n",
       "      <td>pPRE,PCY,8ED</td>\n",
       "      <td>none</td>\n",
       "      <td>normal</td>\n",
       "      <td>24564</td>\n",
       "      <td>4</td>\n",
       "      <td>9</td>\n",
       "      <td>Rare</td>\n",
       "      <td>Avatar</td>\n",
       "      <td>Creature</td>\n",
       "    </tr>\n",
       "    <tr>\n",
       "      <th>3</th>\n",
       "      <td>Blessed Wind</td>\n",
       "      <td>{7}{W}{W}</td>\n",
       "      <td>9</td>\n",
       "      <td>W</td>\n",
       "      <td>Anthony S. Waters</td>\n",
       "      <td>4</td>\n",
       "      <td>Sorcery</td>\n",
       "      <td>Target player's life total becomes 20.</td>\n",
       "      <td>PCY</td>\n",
       "      <td>\"The fourth wind of ascension is Anointer, dei...</td>\n",
       "      <td>normal</td>\n",
       "      <td>24569</td>\n",
       "      <td>none</td>\n",
       "      <td>none</td>\n",
       "      <td>Rare</td>\n",
       "      <td>none</td>\n",
       "      <td>Sorcery</td>\n",
       "    </tr>\n",
       "    <tr>\n",
       "      <th>4</th>\n",
       "      <td>Celestial Convergence</td>\n",
       "      <td>{2}{W}{W}</td>\n",
       "      <td>4</td>\n",
       "      <td>W</td>\n",
       "      <td>Ray Lago</td>\n",
       "      <td>5</td>\n",
       "      <td>Enchantment</td>\n",
       "      <td>Celestial Convergence enters the battlefield w...</td>\n",
       "      <td>PCY</td>\n",
       "      <td>none</td>\n",
       "      <td>normal</td>\n",
       "      <td>24567</td>\n",
       "      <td>none</td>\n",
       "      <td>none</td>\n",
       "      <td>Rare</td>\n",
       "      <td>none</td>\n",
       "      <td>Enchantment</td>\n",
       "    </tr>\n",
       "    <tr>\n",
       "      <th>5</th>\n",
       "      <td>Diving Griffin</td>\n",
       "      <td>{1}{W}{W}</td>\n",
       "      <td>3</td>\n",
       "      <td>W</td>\n",
       "      <td>John Howe</td>\n",
       "      <td>6</td>\n",
       "      <td>Creature — Griffin</td>\n",
       "      <td>Flying, vigilance</td>\n",
       "      <td>PCY,8ED</td>\n",
       "      <td>To outrace the griffin\\n—Kipamu expression mea...</td>\n",
       "      <td>normal</td>\n",
       "      <td>24548</td>\n",
       "      <td>2</td>\n",
       "      <td>2</td>\n",
       "      <td>Common</td>\n",
       "      <td>Griffin</td>\n",
       "      <td>Creature</td>\n",
       "    </tr>\n",
       "    <tr>\n",
       "      <th>6</th>\n",
       "      <td>Entangler</td>\n",
       "      <td>{2}{W}{W}</td>\n",
       "      <td>4</td>\n",
       "      <td>W</td>\n",
       "      <td>D. Alexander Gregory</td>\n",
       "      <td>7</td>\n",
       "      <td>Enchantment — Aura</td>\n",
       "      <td>Enchant creature\\nEnchanted creature can block...</td>\n",
       "      <td>PCY</td>\n",
       "      <td>\"Tell me again,\" said Latulla, raising her fis...</td>\n",
       "      <td>normal</td>\n",
       "      <td>24557</td>\n",
       "      <td>none</td>\n",
       "      <td>none</td>\n",
       "      <td>Uncommon</td>\n",
       "      <td>Aura</td>\n",
       "      <td>Enchantment</td>\n",
       "    </tr>\n",
       "    <tr>\n",
       "      <th>7</th>\n",
       "      <td>Excise</td>\n",
       "      <td>{X}{W}</td>\n",
       "      <td>1</td>\n",
       "      <td>W</td>\n",
       "      <td>Joel Biske</td>\n",
       "      <td>8</td>\n",
       "      <td>Instant</td>\n",
       "      <td>Exile target attacking creature unless its con...</td>\n",
       "      <td>PCY</td>\n",
       "      <td>\"Creation is no great feat. Anything you make,...</td>\n",
       "      <td>normal</td>\n",
       "      <td>24553</td>\n",
       "      <td>none</td>\n",
       "      <td>none</td>\n",
       "      <td>Common</td>\n",
       "      <td>none</td>\n",
       "      <td>Instant</td>\n",
       "    </tr>\n",
       "    <tr>\n",
       "      <th>8</th>\n",
       "      <td>Flowering Field</td>\n",
       "      <td>{1}{W}</td>\n",
       "      <td>2</td>\n",
       "      <td>W</td>\n",
       "      <td>Jeff Miracola</td>\n",
       "      <td>9</td>\n",
       "      <td>Enchantment — Aura</td>\n",
       "      <td>Enchant land\\nEnchanted land has \"{T}: Prevent...</td>\n",
       "      <td>PCY</td>\n",
       "      <td>Some lands are soothing, and their peace can b...</td>\n",
       "      <td>normal</td>\n",
       "      <td>24552</td>\n",
       "      <td>none</td>\n",
       "      <td>none</td>\n",
       "      <td>Uncommon</td>\n",
       "      <td>Aura</td>\n",
       "      <td>Enchantment</td>\n",
       "    </tr>\n",
       "    <tr>\n",
       "      <th>9</th>\n",
       "      <td>Glittering Lion</td>\n",
       "      <td>{2}{W}</td>\n",
       "      <td>3</td>\n",
       "      <td>W</td>\n",
       "      <td>Don Hazeltine</td>\n",
       "      <td>10</td>\n",
       "      <td>Creature — Cat</td>\n",
       "      <td>Prevent all damage that would be dealt to Glit...</td>\n",
       "      <td>PCY</td>\n",
       "      <td>none</td>\n",
       "      <td>normal</td>\n",
       "      <td>24558</td>\n",
       "      <td>2</td>\n",
       "      <td>2</td>\n",
       "      <td>Uncommon</td>\n",
       "      <td>Cat</td>\n",
       "      <td>Creature</td>\n",
       "    </tr>\n",
       "    <tr>\n",
       "      <th>10</th>\n",
       "      <td>Glittering Lynx</td>\n",
       "      <td>{W}</td>\n",
       "      <td>1</td>\n",
       "      <td>W</td>\n",
       "      <td>Dan Frazier</td>\n",
       "      <td>11</td>\n",
       "      <td>Creature — Cat</td>\n",
       "      <td>Prevent all damage that would be dealt to Glit...</td>\n",
       "      <td>PCY</td>\n",
       "      <td>none</td>\n",
       "      <td>normal</td>\n",
       "      <td>24549</td>\n",
       "      <td>1</td>\n",
       "      <td>1</td>\n",
       "      <td>Common</td>\n",
       "      <td>Cat</td>\n",
       "      <td>Creature</td>\n",
       "    </tr>\n",
       "    <tr>\n",
       "      <th>11</th>\n",
       "      <td>Jeweled Spirit</td>\n",
       "      <td>{3}{W}{W}</td>\n",
       "      <td>5</td>\n",
       "      <td>W</td>\n",
       "      <td>Christopher Moeller</td>\n",
       "      <td>12</td>\n",
       "      <td>Creature — Spirit</td>\n",
       "      <td>Flying\\nSacrifice two lands: Jeweled Spirit ga...</td>\n",
       "      <td>PCY</td>\n",
       "      <td>As he knows all the world completely, the worl...</td>\n",
       "      <td>normal</td>\n",
       "      <td>24566</td>\n",
       "      <td>3</td>\n",
       "      <td>3</td>\n",
       "      <td>Rare</td>\n",
       "      <td>Spirit</td>\n",
       "      <td>Creature</td>\n",
       "    </tr>\n",
       "    <tr>\n",
       "      <th>12</th>\n",
       "      <td>Mageta the Lion</td>\n",
       "      <td>{3}{W}{W}</td>\n",
       "      <td>5</td>\n",
       "      <td>W</td>\n",
       "      <td>Brom</td>\n",
       "      <td>13</td>\n",
       "      <td>Legendary Creature — Human Spellshaper</td>\n",
       "      <td>{2}{W}{W}, {T}, Discard two cards: Destroy all...</td>\n",
       "      <td>PCY</td>\n",
       "      <td>In the jungle of war there is always a Lion.</td>\n",
       "      <td>normal</td>\n",
       "      <td>24565</td>\n",
       "      <td>3</td>\n",
       "      <td>3</td>\n",
       "      <td>Rare</td>\n",
       "      <td>Human,Spellshaper</td>\n",
       "      <td>Creature</td>\n",
       "    </tr>\n",
       "    <tr>\n",
       "      <th>13</th>\n",
       "      <td>Mageta's Boon</td>\n",
       "      <td>{1}{W}</td>\n",
       "      <td>2</td>\n",
       "      <td>W</td>\n",
       "      <td>Bradley Williams</td>\n",
       "      <td>14</td>\n",
       "      <td>Enchantment — Aura</td>\n",
       "      <td>Flash\\nEnchant creature\\nEnchanted creature ge...</td>\n",
       "      <td>PCY</td>\n",
       "      <td>When the Lion roars, his cubs grow stronger.\\n...</td>\n",
       "      <td>normal</td>\n",
       "      <td>24550</td>\n",
       "      <td>none</td>\n",
       "      <td>none</td>\n",
       "      <td>Common</td>\n",
       "      <td>Aura</td>\n",
       "      <td>Enchantment</td>\n",
       "    </tr>\n",
       "    <tr>\n",
       "      <th>14</th>\n",
       "      <td>Mercenary Informer</td>\n",
       "      <td>{2}{W}</td>\n",
       "      <td>3</td>\n",
       "      <td>W</td>\n",
       "      <td>Nelson DeCastro</td>\n",
       "      <td>15</td>\n",
       "      <td>Creature — Human Rebel Mercenary</td>\n",
       "      <td>Mercenary Informer can't be the target of blac...</td>\n",
       "      <td>PCY</td>\n",
       "      <td>The problem with rebels is that they so quickl...</td>\n",
       "      <td>normal</td>\n",
       "      <td>24563</td>\n",
       "      <td>2</td>\n",
       "      <td>1</td>\n",
       "      <td>Rare</td>\n",
       "      <td>Human,Rebel,Mercenary</td>\n",
       "      <td>Creature</td>\n",
       "    </tr>\n",
       "    <tr>\n",
       "      <th>15</th>\n",
       "      <td>Mine Bearer</td>\n",
       "      <td>{2}{W}</td>\n",
       "      <td>3</td>\n",
       "      <td>W</td>\n",
       "      <td>D. Alexander Gregory</td>\n",
       "      <td>16</td>\n",
       "      <td>Creature — Human Soldier</td>\n",
       "      <td>{T}, Sacrifice Mine Bearer: Destroy target att...</td>\n",
       "      <td>PCY</td>\n",
       "      <td>\"The Keldons may have explosive tempers, but I...</td>\n",
       "      <td>normal</td>\n",
       "      <td>24555</td>\n",
       "      <td>1</td>\n",
       "      <td>1</td>\n",
       "      <td>Common</td>\n",
       "      <td>Human,Soldier</td>\n",
       "      <td>Creature</td>\n",
       "    </tr>\n",
       "    <tr>\n",
       "      <th>16</th>\n",
       "      <td>Mirror Strike</td>\n",
       "      <td>{3}{W}</td>\n",
       "      <td>4</td>\n",
       "      <td>W</td>\n",
       "      <td>Dave Dorman</td>\n",
       "      <td>17</td>\n",
       "      <td>Instant</td>\n",
       "      <td>All combat damage that would be dealt to you t...</td>\n",
       "      <td>PCY</td>\n",
       "      <td>\"Enemies can be your weapons or your shields. ...</td>\n",
       "      <td>normal</td>\n",
       "      <td>24554</td>\n",
       "      <td>none</td>\n",
       "      <td>none</td>\n",
       "      <td>Uncommon</td>\n",
       "      <td>none</td>\n",
       "      <td>Instant</td>\n",
       "    </tr>\n",
       "    <tr>\n",
       "      <th>17</th>\n",
       "      <td>Reveille Squad</td>\n",
       "      <td>{2}{W}{W}</td>\n",
       "      <td>4</td>\n",
       "      <td>W</td>\n",
       "      <td>Greg &amp; Tim Hildebrandt</td>\n",
       "      <td>18</td>\n",
       "      <td>Creature — Human Rebel</td>\n",
       "      <td>Whenever one or more creatures attack you, if ...</td>\n",
       "      <td>PCY</td>\n",
       "      <td>\"To arms! To arms! The Lion roars!\"</td>\n",
       "      <td>normal</td>\n",
       "      <td>24559</td>\n",
       "      <td>3</td>\n",
       "      <td>3</td>\n",
       "      <td>Uncommon</td>\n",
       "      <td>Human,Rebel</td>\n",
       "      <td>Creature</td>\n",
       "    </tr>\n",
       "    <tr>\n",
       "      <th>18</th>\n",
       "      <td>Rhystic Circle</td>\n",
       "      <td>{2}{W}{W}</td>\n",
       "      <td>4</td>\n",
       "      <td>W</td>\n",
       "      <td>Alan Pollack</td>\n",
       "      <td>19</td>\n",
       "      <td>Enchantment</td>\n",
       "      <td>{1}: Any player may pay {1}. If no one does, t...</td>\n",
       "      <td>PCY</td>\n",
       "      <td>The circle buys time—an important commodity in...</td>\n",
       "      <td>normal</td>\n",
       "      <td>24562</td>\n",
       "      <td>none</td>\n",
       "      <td>none</td>\n",
       "      <td>Common</td>\n",
       "      <td>none</td>\n",
       "      <td>Enchantment</td>\n",
       "    </tr>\n",
       "    <tr>\n",
       "      <th>19</th>\n",
       "      <td>Rhystic Shield</td>\n",
       "      <td>{1}{W}</td>\n",
       "      <td>2</td>\n",
       "      <td>W</td>\n",
       "      <td>Kev Walker</td>\n",
       "      <td>20</td>\n",
       "      <td>Instant</td>\n",
       "      <td>Creatures you control get +0/+1 until end of t...</td>\n",
       "      <td>PCY</td>\n",
       "      <td>A shield for one is good. A shield for everyon...</td>\n",
       "      <td>normal</td>\n",
       "      <td>24551</td>\n",
       "      <td>none</td>\n",
       "      <td>none</td>\n",
       "      <td>Common</td>\n",
       "      <td>none</td>\n",
       "      <td>Instant</td>\n",
       "    </tr>\n",
       "    <tr>\n",
       "      <th>20</th>\n",
       "      <td>Samite Sanctuary</td>\n",
       "      <td>{2}{W}</td>\n",
       "      <td>3</td>\n",
       "      <td>W</td>\n",
       "      <td>Ben Thompson</td>\n",
       "      <td>21</td>\n",
       "      <td>Enchantment</td>\n",
       "      <td>{2}: Prevent the next 1 damage that would be d...</td>\n",
       "      <td>PCY</td>\n",
       "      <td>Our war is against suffering, not against thos...</td>\n",
       "      <td>normal</td>\n",
       "      <td>24570</td>\n",
       "      <td>none</td>\n",
       "      <td>none</td>\n",
       "      <td>Rare</td>\n",
       "      <td>none</td>\n",
       "      <td>Enchantment</td>\n",
       "    </tr>\n",
       "    <tr>\n",
       "      <th>21</th>\n",
       "      <td>Sheltering Prayers</td>\n",
       "      <td>{W}</td>\n",
       "      <td>1</td>\n",
       "      <td>W</td>\n",
       "      <td>Nelson DeCastro</td>\n",
       "      <td>22</td>\n",
       "      <td>Enchantment</td>\n",
       "      <td>Basic lands each player controls have shroud a...</td>\n",
       "      <td>PCY</td>\n",
       "      <td>\"It matters not if the gods hear my prayers. J...</td>\n",
       "      <td>normal</td>\n",
       "      <td>24568</td>\n",
       "      <td>none</td>\n",
       "      <td>none</td>\n",
       "      <td>Rare</td>\n",
       "      <td>none</td>\n",
       "      <td>Enchantment</td>\n",
       "    </tr>\n",
       "    <tr>\n",
       "      <th>22</th>\n",
       "      <td>Shield Dancer</td>\n",
       "      <td>{2}{W}</td>\n",
       "      <td>3</td>\n",
       "      <td>W</td>\n",
       "      <td>Mike Ploog</td>\n",
       "      <td>23</td>\n",
       "      <td>Creature — Human Rebel</td>\n",
       "      <td>{2}{W}: The next time target attacking creatur...</td>\n",
       "      <td>PCY</td>\n",
       "      <td>The harder your strike, the stronger her defense.</td>\n",
       "      <td>normal</td>\n",
       "      <td>24556</td>\n",
       "      <td>1</td>\n",
       "      <td>3</td>\n",
       "      <td>Uncommon</td>\n",
       "      <td>Human,Rebel</td>\n",
       "      <td>Creature</td>\n",
       "    </tr>\n",
       "    <tr>\n",
       "      <th>23</th>\n",
       "      <td>Soul Charmer</td>\n",
       "      <td>{2}{W}</td>\n",
       "      <td>3</td>\n",
       "      <td>W</td>\n",
       "      <td>Glen Angus</td>\n",
       "      <td>24</td>\n",
       "      <td>Creature — Human Rebel</td>\n",
       "      <td>Whenever Soul Charmer deals combat damage to a...</td>\n",
       "      <td>PCY</td>\n",
       "      <td>She seeks the warmth of the living.</td>\n",
       "      <td>normal</td>\n",
       "      <td>24611</td>\n",
       "      <td>2</td>\n",
       "      <td>2</td>\n",
       "      <td>Common</td>\n",
       "      <td>Human,Rebel</td>\n",
       "      <td>Creature</td>\n",
       "    </tr>\n",
       "    <tr>\n",
       "      <th>24</th>\n",
       "      <td>Sword Dancer</td>\n",
       "      <td>{1}{W}</td>\n",
       "      <td>2</td>\n",
       "      <td>W</td>\n",
       "      <td>Roger Raupp</td>\n",
       "      <td>25</td>\n",
       "      <td>Creature — Human Rebel</td>\n",
       "      <td>{W}{W}: Target attacking creature gets -1/-0 u...</td>\n",
       "      <td>PCY,8ED</td>\n",
       "      <td>Most soldiers think of the sword as a weapon. ...</td>\n",
       "      <td>normal</td>\n",
       "      <td>24544</td>\n",
       "      <td>1</td>\n",
       "      <td>2</td>\n",
       "      <td>Uncommon</td>\n",
       "      <td>Human,Rebel</td>\n",
       "      <td>Creature</td>\n",
       "    </tr>\n",
       "    <tr>\n",
       "      <th>25</th>\n",
       "      <td>Trenching Steed</td>\n",
       "      <td>{3}{W}</td>\n",
       "      <td>4</td>\n",
       "      <td>W</td>\n",
       "      <td>Greg &amp; Tim Hildebrandt</td>\n",
       "      <td>26</td>\n",
       "      <td>Creature — Horse Rebel</td>\n",
       "      <td>Sacrifice a land: Trenching Steed gets +0/+3 u...</td>\n",
       "      <td>PCY</td>\n",
       "      <td>The Keldons took several of the steeds as trop...</td>\n",
       "      <td>normal</td>\n",
       "      <td>24546</td>\n",
       "      <td>2</td>\n",
       "      <td>3</td>\n",
       "      <td>Common</td>\n",
       "      <td>Horse,Rebel</td>\n",
       "      <td>Creature</td>\n",
       "    </tr>\n",
       "    <tr>\n",
       "      <th>26</th>\n",
       "      <td>Troubled Healer</td>\n",
       "      <td>{2}{W}</td>\n",
       "      <td>3</td>\n",
       "      <td>W</td>\n",
       "      <td>Terese Nielsen</td>\n",
       "      <td>27</td>\n",
       "      <td>Creature — Human Cleric</td>\n",
       "      <td>Sacrifice a land: Prevent the next 2 damage th...</td>\n",
       "      <td>PCY</td>\n",
       "      <td>\"Which is worse: nothing to defend, or no one ...</td>\n",
       "      <td>normal</td>\n",
       "      <td>24547</td>\n",
       "      <td>1</td>\n",
       "      <td>2</td>\n",
       "      <td>Common</td>\n",
       "      <td>Human,Cleric</td>\n",
       "      <td>Creature</td>\n",
       "    </tr>\n",
       "    <tr>\n",
       "      <th>27</th>\n",
       "      <td>Alexi, Zephyr Mage</td>\n",
       "      <td>{3}{U}{U}</td>\n",
       "      <td>5</td>\n",
       "      <td>U</td>\n",
       "      <td>Mark Zug</td>\n",
       "      <td>28</td>\n",
       "      <td>Legendary Creature — Human Spellshaper</td>\n",
       "      <td>{X}{U}, {T}, Discard two cards: Return X targe...</td>\n",
       "      <td>PCY</td>\n",
       "      <td>The Keldons didn't know her name, but they sti...</td>\n",
       "      <td>normal</td>\n",
       "      <td>24591</td>\n",
       "      <td>3</td>\n",
       "      <td>3</td>\n",
       "      <td>Rare</td>\n",
       "      <td>Human,Spellshaper</td>\n",
       "      <td>Creature</td>\n",
       "    </tr>\n",
       "    <tr>\n",
       "      <th>28</th>\n",
       "      <td>Alexi's Cloak</td>\n",
       "      <td>{1}{U}</td>\n",
       "      <td>2</td>\n",
       "      <td>U</td>\n",
       "      <td>Alan Rabinowitz</td>\n",
       "      <td>29</td>\n",
       "      <td>Enchantment — Aura</td>\n",
       "      <td>Flash\\nEnchant creature\\nEnchanted creature ha...</td>\n",
       "      <td>PCY</td>\n",
       "      <td>\"Doesn't look like much, does it?\"\\n—Alexi, ze...</td>\n",
       "      <td>normal</td>\n",
       "      <td>24579</td>\n",
       "      <td>none</td>\n",
       "      <td>none</td>\n",
       "      <td>Common</td>\n",
       "      <td>Aura</td>\n",
       "      <td>Enchantment</td>\n",
       "    </tr>\n",
       "    <tr>\n",
       "      <th>29</th>\n",
       "      <td>Avatar of Will</td>\n",
       "      <td>{6}{U}{U}</td>\n",
       "      <td>8</td>\n",
       "      <td>U</td>\n",
       "      <td>rk post</td>\n",
       "      <td>30</td>\n",
       "      <td>Creature — Avatar</td>\n",
       "      <td>If an opponent has no cards in hand, Avatar of...</td>\n",
       "      <td>PCY</td>\n",
       "      <td>none</td>\n",
       "      <td>normal</td>\n",
       "      <td>24590</td>\n",
       "      <td>5</td>\n",
       "      <td>6</td>\n",
       "      <td>Rare</td>\n",
       "      <td>Avatar</td>\n",
       "      <td>Creature</td>\n",
       "    </tr>\n",
       "    <tr>\n",
       "      <th>...</th>\n",
       "      <td>...</td>\n",
       "      <td>...</td>\n",
       "      <td>...</td>\n",
       "      <td>...</td>\n",
       "      <td>...</td>\n",
       "      <td>...</td>\n",
       "      <td>...</td>\n",
       "      <td>...</td>\n",
       "      <td>...</td>\n",
       "      <td>...</td>\n",
       "      <td>...</td>\n",
       "      <td>...</td>\n",
       "      <td>...</td>\n",
       "      <td>...</td>\n",
       "      <td>...</td>\n",
       "      <td>...</td>\n",
       "      <td>...</td>\n",
       "    </tr>\n",
       "    <tr>\n",
       "      <th>18</th>\n",
       "      <td>Formless Nurturing</td>\n",
       "      <td>{3}{G}</td>\n",
       "      <td>4</td>\n",
       "      <td>G</td>\n",
       "      <td>Cliff Childs</td>\n",
       "      <td>129</td>\n",
       "      <td>Sorcery</td>\n",
       "      <td>Manifest the top card of your library, then pu...</td>\n",
       "      <td>FRF_UGIN,FRF</td>\n",
       "      <td>none</td>\n",
       "      <td>normal</td>\n",
       "      <td>394073</td>\n",
       "      <td>none</td>\n",
       "      <td>none</td>\n",
       "      <td>Common</td>\n",
       "      <td>none</td>\n",
       "      <td>Sorcery</td>\n",
       "    </tr>\n",
       "    <tr>\n",
       "      <th>19</th>\n",
       "      <td>Dragonscale Boon</td>\n",
       "      <td>{3}{G}</td>\n",
       "      <td>4</td>\n",
       "      <td>G</td>\n",
       "      <td>Mark Winters</td>\n",
       "      <td>131</td>\n",
       "      <td>Instant</td>\n",
       "      <td>Put two +1/+1 counters on target creature and ...</td>\n",
       "      <td>KTK,FRF_UGIN</td>\n",
       "      <td>Only those who have proved themselves worthy a...</td>\n",
       "      <td>normal</td>\n",
       "      <td>394071</td>\n",
       "      <td>none</td>\n",
       "      <td>none</td>\n",
       "      <td>Common</td>\n",
       "      <td>none</td>\n",
       "      <td>Instant</td>\n",
       "    </tr>\n",
       "    <tr>\n",
       "      <th>20</th>\n",
       "      <td>Wildcall</td>\n",
       "      <td>{X}{G}{G}</td>\n",
       "      <td>2</td>\n",
       "      <td>G</td>\n",
       "      <td>Adam Paquette</td>\n",
       "      <td>146</td>\n",
       "      <td>Sorcery</td>\n",
       "      <td>Manifest the top card of your library, then pu...</td>\n",
       "      <td>FRF_UGIN,FRF</td>\n",
       "      <td>A howl on the wind hides many dangers.</td>\n",
       "      <td>normal</td>\n",
       "      <td>394089</td>\n",
       "      <td>none</td>\n",
       "      <td>none</td>\n",
       "      <td>Rare</td>\n",
       "      <td>none</td>\n",
       "      <td>Sorcery</td>\n",
       "    </tr>\n",
       "    <tr>\n",
       "      <th>21</th>\n",
       "      <td>Hewed Stone Retainers</td>\n",
       "      <td>{3}</td>\n",
       "      <td>3</td>\n",
       "      <td>none</td>\n",
       "      <td>David Seguin</td>\n",
       "      <td>161</td>\n",
       "      <td>Artifact Creature — Golem</td>\n",
       "      <td>Cast Hewed Stone Retainers only if you've cast...</td>\n",
       "      <td>FRF_UGIN,FRF</td>\n",
       "      <td>\"Their origins are shrouded in mystery. I beli...</td>\n",
       "      <td>normal</td>\n",
       "      <td>394076</td>\n",
       "      <td>4</td>\n",
       "      <td>4</td>\n",
       "      <td>Uncommon</td>\n",
       "      <td>Golem</td>\n",
       "      <td>Artifact,Creature</td>\n",
       "    </tr>\n",
       "    <tr>\n",
       "      <th>22</th>\n",
       "      <td>Ugin's Construct</td>\n",
       "      <td>{4}</td>\n",
       "      <td>4</td>\n",
       "      <td>none</td>\n",
       "      <td>Peter Mohrbacher</td>\n",
       "      <td>164</td>\n",
       "      <td>Artifact Creature — Construct</td>\n",
       "      <td>When Ugin's Construct enters the battlefield, ...</td>\n",
       "      <td>FRF_UGIN,FRF</td>\n",
       "      <td>While trapping the Eldrazi on Zendikar, Ugin l...</td>\n",
       "      <td>normal</td>\n",
       "      <td>394087</td>\n",
       "      <td>4</td>\n",
       "      <td>5</td>\n",
       "      <td>Uncommon</td>\n",
       "      <td>Construct</td>\n",
       "      <td>Artifact,Creature</td>\n",
       "    </tr>\n",
       "    <tr>\n",
       "      <th>23</th>\n",
       "      <td>Altar of the Brood</td>\n",
       "      <td>{1}</td>\n",
       "      <td>1</td>\n",
       "      <td>none</td>\n",
       "      <td>Erica Yang</td>\n",
       "      <td>216</td>\n",
       "      <td>Artifact</td>\n",
       "      <td>Whenever another permanent enters the battlefi...</td>\n",
       "      <td>KTK,FRF_UGIN</td>\n",
       "      <td>Supplicants offer flesh and silver, flowers an...</td>\n",
       "      <td>normal</td>\n",
       "      <td>394066</td>\n",
       "      <td>none</td>\n",
       "      <td>none</td>\n",
       "      <td>Rare</td>\n",
       "      <td>none</td>\n",
       "      <td>Artifact</td>\n",
       "    </tr>\n",
       "    <tr>\n",
       "      <th>24</th>\n",
       "      <td>Briber's Purse</td>\n",
       "      <td>{X}</td>\n",
       "      <td>none</td>\n",
       "      <td>none</td>\n",
       "      <td>Steve Argyle</td>\n",
       "      <td>217</td>\n",
       "      <td>Artifact</td>\n",
       "      <td>Briber's Purse enters the battlefield with X g...</td>\n",
       "      <td>KTK,FRF_UGIN</td>\n",
       "      <td>The bigger the hand, the higher the price.</td>\n",
       "      <td>normal</td>\n",
       "      <td>394069</td>\n",
       "      <td>none</td>\n",
       "      <td>none</td>\n",
       "      <td>Uncommon</td>\n",
       "      <td>none</td>\n",
       "      <td>Artifact</td>\n",
       "    </tr>\n",
       "    <tr>\n",
       "      <th>25</th>\n",
       "      <td>Ghostfire Blade</td>\n",
       "      <td>{1}</td>\n",
       "      <td>1</td>\n",
       "      <td>none</td>\n",
       "      <td>Cyril Van Der Haegen</td>\n",
       "      <td>220</td>\n",
       "      <td>Artifact — Equipment</td>\n",
       "      <td>Equipped creature gets +2/+2.\\nEquip {3}\\nGhos...</td>\n",
       "      <td>KTK,FRF_UGIN</td>\n",
       "      <td>If you fear the dragon's fire, you are unworth...</td>\n",
       "      <td>normal</td>\n",
       "      <td>394074</td>\n",
       "      <td>none</td>\n",
       "      <td>none</td>\n",
       "      <td>Rare</td>\n",
       "      <td>Equipment</td>\n",
       "      <td>Artifact</td>\n",
       "    </tr>\n",
       "    <tr>\n",
       "      <th>0</th>\n",
       "      <td>Armored Pegasus</td>\n",
       "      <td>{1}{W}</td>\n",
       "      <td>2</td>\n",
       "      <td>none</td>\n",
       "      <td>Andrew Robinson</td>\n",
       "      <td>1</td>\n",
       "      <td>Creature — Pegasus</td>\n",
       "      <td>Flying</td>\n",
       "      <td>POR,pPOD,TMP,ATH,6ED,BRB,S00,TPR</td>\n",
       "      <td>Asked how it survived a run-in with a bog imp,...</td>\n",
       "      <td>normal</td>\n",
       "      <td>none</td>\n",
       "      <td>1</td>\n",
       "      <td>2</td>\n",
       "      <td>Special</td>\n",
       "      <td>Pegasus</td>\n",
       "      <td>Creature</td>\n",
       "    </tr>\n",
       "    <tr>\n",
       "      <th>1</th>\n",
       "      <td>Bull Hippo</td>\n",
       "      <td>{3}{G}</td>\n",
       "      <td>4</td>\n",
       "      <td>none</td>\n",
       "      <td>Roger Raupp</td>\n",
       "      <td>2</td>\n",
       "      <td>Creature — Hippo</td>\n",
       "      <td>Islandwalk (This creature can't be blocked as ...</td>\n",
       "      <td>POR,pPOD,USG,S99,7ED</td>\n",
       "      <td>none</td>\n",
       "      <td>normal</td>\n",
       "      <td>none</td>\n",
       "      <td>3</td>\n",
       "      <td>3</td>\n",
       "      <td>Special</td>\n",
       "      <td>Hippo</td>\n",
       "      <td>Creature</td>\n",
       "    </tr>\n",
       "    <tr>\n",
       "      <th>2</th>\n",
       "      <td>Cloud Pirates</td>\n",
       "      <td>{U}</td>\n",
       "      <td>1</td>\n",
       "      <td>none</td>\n",
       "      <td>Phil Foglio</td>\n",
       "      <td>3</td>\n",
       "      <td>Creature — Human Pirate</td>\n",
       "      <td>Flying\\nCloud Pirates can block only creatures...</td>\n",
       "      <td>POR,pPOD</td>\n",
       "      <td>none</td>\n",
       "      <td>normal</td>\n",
       "      <td>none</td>\n",
       "      <td>1</td>\n",
       "      <td>1</td>\n",
       "      <td>Special</td>\n",
       "      <td>Human,Pirate</td>\n",
       "      <td>Creature</td>\n",
       "    </tr>\n",
       "    <tr>\n",
       "      <th>3</th>\n",
       "      <td>Feral Shadow</td>\n",
       "      <td>{2}{B}</td>\n",
       "      <td>3</td>\n",
       "      <td>none</td>\n",
       "      <td>Colin MacNeil</td>\n",
       "      <td>4</td>\n",
       "      <td>Creature — Nightstalker</td>\n",
       "      <td>Flying</td>\n",
       "      <td>MIR,POR,pPOD,6ED,S99,BTD</td>\n",
       "      <td>Not all shadows are cast by light—some are cas...</td>\n",
       "      <td>normal</td>\n",
       "      <td>none</td>\n",
       "      <td>2</td>\n",
       "      <td>1</td>\n",
       "      <td>Special</td>\n",
       "      <td>Nightstalker</td>\n",
       "      <td>Creature</td>\n",
       "    </tr>\n",
       "    <tr>\n",
       "      <th>4</th>\n",
       "      <td>Snapping Drake</td>\n",
       "      <td>{3}{U}</td>\n",
       "      <td>4</td>\n",
       "      <td>none</td>\n",
       "      <td>Christopher Rush</td>\n",
       "      <td>5</td>\n",
       "      <td>Creature — Drake</td>\n",
       "      <td>Flying</td>\n",
       "      <td>POR,pPOD,S99,BTD,RAV,10E,M10,DPA</td>\n",
       "      <td>Drakes claim to be dragons—until the dragons s...</td>\n",
       "      <td>normal</td>\n",
       "      <td>none</td>\n",
       "      <td>3</td>\n",
       "      <td>2</td>\n",
       "      <td>Special</td>\n",
       "      <td>Drake</td>\n",
       "      <td>Creature</td>\n",
       "    </tr>\n",
       "    <tr>\n",
       "      <th>5</th>\n",
       "      <td>Storm Crow</td>\n",
       "      <td>{1}{U}</td>\n",
       "      <td>2</td>\n",
       "      <td>none</td>\n",
       "      <td>Una Fricker</td>\n",
       "      <td>6</td>\n",
       "      <td>Creature — Bird</td>\n",
       "      <td>Flying (This creature can't be blocked except ...</td>\n",
       "      <td>ALL,POR,pPOD,6ED,S99,7ED,8ED,9ED</td>\n",
       "      <td>Storm crow descending, winter unending. Storm ...</td>\n",
       "      <td>normal</td>\n",
       "      <td>none</td>\n",
       "      <td>1</td>\n",
       "      <td>2</td>\n",
       "      <td>Special</td>\n",
       "      <td>Bird</td>\n",
       "      <td>Creature</td>\n",
       "    </tr>\n",
       "    <tr>\n",
       "      <th>0</th>\n",
       "      <td>Aegis Angel</td>\n",
       "      <td>{4}{W}{W}</td>\n",
       "      <td>6</td>\n",
       "      <td>W</td>\n",
       "      <td>Aleksi Briclot</td>\n",
       "      <td>1</td>\n",
       "      <td>Creature — Angel</td>\n",
       "      <td>Flying (This creature can't be blocked except ...</td>\n",
       "      <td>M12,M15,ORI,W16</td>\n",
       "      <td>none</td>\n",
       "      <td>normal</td>\n",
       "      <td>413367</td>\n",
       "      <td>5</td>\n",
       "      <td>5</td>\n",
       "      <td>Rare</td>\n",
       "      <td>Angel</td>\n",
       "      <td>Creature</td>\n",
       "    </tr>\n",
       "    <tr>\n",
       "      <th>1</th>\n",
       "      <td>Marked by Honor</td>\n",
       "      <td>{3}{W}</td>\n",
       "      <td>4</td>\n",
       "      <td>W</td>\n",
       "      <td>David Palumbo</td>\n",
       "      <td>2</td>\n",
       "      <td>Enchantment — Aura</td>\n",
       "      <td>Enchant creature\\nEnchanted creature gets +2/+...</td>\n",
       "      <td>M15,W16</td>\n",
       "      <td>Stand your post for duty. Stand your ground fo...</td>\n",
       "      <td>normal</td>\n",
       "      <td>413368</td>\n",
       "      <td>none</td>\n",
       "      <td>none</td>\n",
       "      <td>Common</td>\n",
       "      <td>Aura</td>\n",
       "      <td>Enchantment</td>\n",
       "    </tr>\n",
       "    <tr>\n",
       "      <th>2</th>\n",
       "      <td>Serra Angel</td>\n",
       "      <td>{3}{W}{W}</td>\n",
       "      <td>5</td>\n",
       "      <td>W</td>\n",
       "      <td>Greg Staples</td>\n",
       "      <td>3</td>\n",
       "      <td>Creature — Angel</td>\n",
       "      <td>Flying (This creature can't be blocked except ...</td>\n",
       "      <td>LEA,LEB,2ED,CED,CEI,3ED,4ED,ATH,pWOS,7ED,8ED,9...</td>\n",
       "      <td>Follow the light. In its absence, follow her.</td>\n",
       "      <td>normal</td>\n",
       "      <td>413369</td>\n",
       "      <td>4</td>\n",
       "      <td>4</td>\n",
       "      <td>Uncommon</td>\n",
       "      <td>Angel</td>\n",
       "      <td>Creature</td>\n",
       "    </tr>\n",
       "    <tr>\n",
       "      <th>3</th>\n",
       "      <td>Air Servant</td>\n",
       "      <td>{4}{U}</td>\n",
       "      <td>5</td>\n",
       "      <td>U</td>\n",
       "      <td>Lars Grant-West</td>\n",
       "      <td>4</td>\n",
       "      <td>Creature — Elemental</td>\n",
       "      <td>Flying\\n{2}{U}: Tap target creature with flying.</td>\n",
       "      <td>M11,M14,CNS,MM2,W16</td>\n",
       "      <td>Wind is forceful, yet ephemeral. It can knock ...</td>\n",
       "      <td>normal</td>\n",
       "      <td>413370</td>\n",
       "      <td>4</td>\n",
       "      <td>3</td>\n",
       "      <td>Uncommon</td>\n",
       "      <td>Elemental</td>\n",
       "      <td>Creature</td>\n",
       "    </tr>\n",
       "    <tr>\n",
       "      <th>4</th>\n",
       "      <td>Disperse</td>\n",
       "      <td>{1}{U}</td>\n",
       "      <td>2</td>\n",
       "      <td>U</td>\n",
       "      <td>Ryan Yee</td>\n",
       "      <td>5</td>\n",
       "      <td>Instant</td>\n",
       "      <td>Return target nonland permanent to its owner's...</td>\n",
       "      <td>MOR,SOM,M14,ORI,W16</td>\n",
       "      <td>It's pointless to hold on when you have nothin...</td>\n",
       "      <td>normal</td>\n",
       "      <td>413371</td>\n",
       "      <td>none</td>\n",
       "      <td>none</td>\n",
       "      <td>Common</td>\n",
       "      <td>none</td>\n",
       "      <td>Instant</td>\n",
       "    </tr>\n",
       "    <tr>\n",
       "      <th>5</th>\n",
       "      <td>Sphinx of Magosi</td>\n",
       "      <td>{3}{U}{U}{U}</td>\n",
       "      <td>6</td>\n",
       "      <td>U</td>\n",
       "      <td>James Ryman</td>\n",
       "      <td>6</td>\n",
       "      <td>Creature — Sphinx</td>\n",
       "      <td>Flying\\n{2}{U}: Draw a card, then put a +1/+1 ...</td>\n",
       "      <td>ROE,C14,W16</td>\n",
       "      <td>\"A riddle is nothing more than a trap for smal...</td>\n",
       "      <td>normal</td>\n",
       "      <td>413372</td>\n",
       "      <td>6</td>\n",
       "      <td>6</td>\n",
       "      <td>Rare</td>\n",
       "      <td>Sphinx</td>\n",
       "      <td>Creature</td>\n",
       "    </tr>\n",
       "    <tr>\n",
       "      <th>6</th>\n",
       "      <td>Mind Rot</td>\n",
       "      <td>{2}{B}</td>\n",
       "      <td>3</td>\n",
       "      <td>B</td>\n",
       "      <td>Steve Luke</td>\n",
       "      <td>7</td>\n",
       "      <td>Sorcery</td>\n",
       "      <td>Target player discards two cards.</td>\n",
       "      <td>POR,PO2,S99,7ED,8ED,9ED,10E,M10,DPA,M11,M12,M1...</td>\n",
       "      <td>\"It saddens me to lose a source of inspiration...</td>\n",
       "      <td>normal</td>\n",
       "      <td>413373</td>\n",
       "      <td>none</td>\n",
       "      <td>none</td>\n",
       "      <td>Common</td>\n",
       "      <td>none</td>\n",
       "      <td>Sorcery</td>\n",
       "    </tr>\n",
       "    <tr>\n",
       "      <th>7</th>\n",
       "      <td>Nightmare</td>\n",
       "      <td>{5}{B}</td>\n",
       "      <td>6</td>\n",
       "      <td>B</td>\n",
       "      <td>Vance Kovacs</td>\n",
       "      <td>8</td>\n",
       "      <td>Creature — Nightmare Horse</td>\n",
       "      <td>Flying (This creature can't be blocked except ...</td>\n",
       "      <td>LEA,LEB,2ED,CED,CEI,3ED,4ED,5ED,6ED,7ED,8ED,9E...</td>\n",
       "      <td>The thunder of its hooves beats dreams into de...</td>\n",
       "      <td>normal</td>\n",
       "      <td>413374</td>\n",
       "      <td>*</td>\n",
       "      <td>*</td>\n",
       "      <td>Rare</td>\n",
       "      <td>Nightmare,Horse</td>\n",
       "      <td>Creature</td>\n",
       "    </tr>\n",
       "    <tr>\n",
       "      <th>8</th>\n",
       "      <td>Sengir Vampire</td>\n",
       "      <td>{3}{B}{B}</td>\n",
       "      <td>5</td>\n",
       "      <td>B</td>\n",
       "      <td>Kev Walker</td>\n",
       "      <td>9</td>\n",
       "      <td>Creature — Vampire</td>\n",
       "      <td>Flying (This creature can't be blocked except ...</td>\n",
       "      <td>LEA,LEB,2ED,CED,CEI,3ED,4ED,BRB,BTD,TOR,9ED,10...</td>\n",
       "      <td>Empires rise and fall, but evil is eternal.</td>\n",
       "      <td>normal</td>\n",
       "      <td>413375</td>\n",
       "      <td>4</td>\n",
       "      <td>4</td>\n",
       "      <td>Uncommon</td>\n",
       "      <td>Vampire</td>\n",
       "      <td>Creature</td>\n",
       "    </tr>\n",
       "    <tr>\n",
       "      <th>9</th>\n",
       "      <td>Walking Corpse</td>\n",
       "      <td>{1}{B}</td>\n",
       "      <td>2</td>\n",
       "      <td>B</td>\n",
       "      <td>Igor Kieryluk</td>\n",
       "      <td>10</td>\n",
       "      <td>Creature — Zombie</td>\n",
       "      <td>none</td>\n",
       "      <td>ISD,M13,M15,W16</td>\n",
       "      <td>\"Feeding a normal army is a problem of logisti...</td>\n",
       "      <td>normal</td>\n",
       "      <td>413376</td>\n",
       "      <td>2</td>\n",
       "      <td>2</td>\n",
       "      <td>Common</td>\n",
       "      <td>Zombie</td>\n",
       "      <td>Creature</td>\n",
       "    </tr>\n",
       "    <tr>\n",
       "      <th>10</th>\n",
       "      <td>Borderland Marauder</td>\n",
       "      <td>{1}{R}</td>\n",
       "      <td>2</td>\n",
       "      <td>R</td>\n",
       "      <td>Scott M. Fischer</td>\n",
       "      <td>11</td>\n",
       "      <td>Creature — Human Warrior</td>\n",
       "      <td>Whenever Borderland Marauder attacks, it gets ...</td>\n",
       "      <td>M15,W16,EMA</td>\n",
       "      <td>Though she is rightly feared, there are relati...</td>\n",
       "      <td>normal</td>\n",
       "      <td>413377</td>\n",
       "      <td>1</td>\n",
       "      <td>2</td>\n",
       "      <td>Common</td>\n",
       "      <td>Human,Warrior</td>\n",
       "      <td>Creature</td>\n",
       "    </tr>\n",
       "    <tr>\n",
       "      <th>11</th>\n",
       "      <td>Cone of Flame</td>\n",
       "      <td>{3}{R}{R}</td>\n",
       "      <td>5</td>\n",
       "      <td>R</td>\n",
       "      <td>Chippy</td>\n",
       "      <td>12</td>\n",
       "      <td>Sorcery</td>\n",
       "      <td>Cone of Flame deals 1 damage to target creatur...</td>\n",
       "      <td>WTH,10E,DD2,HOP,DDG,M15,DD3_JVC,W16</td>\n",
       "      <td>none</td>\n",
       "      <td>normal</td>\n",
       "      <td>413378</td>\n",
       "      <td>none</td>\n",
       "      <td>none</td>\n",
       "      <td>Uncommon</td>\n",
       "      <td>none</td>\n",
       "      <td>Sorcery</td>\n",
       "    </tr>\n",
       "    <tr>\n",
       "      <th>12</th>\n",
       "      <td>Shivan Dragon</td>\n",
       "      <td>{4}{R}{R}</td>\n",
       "      <td>6</td>\n",
       "      <td>R</td>\n",
       "      <td>Donato Giancola</td>\n",
       "      <td>13</td>\n",
       "      <td>Creature — Dragon</td>\n",
       "      <td>Flying (This creature can't be blocked except ...</td>\n",
       "      <td>LEA,LEB,2ED,CED,CEI,3ED,4ED,5ED,BTD,7ED,pREL,8...</td>\n",
       "      <td>The undisputed master of the mountains of Shiv.</td>\n",
       "      <td>normal</td>\n",
       "      <td>413379</td>\n",
       "      <td>5</td>\n",
       "      <td>5</td>\n",
       "      <td>Rare</td>\n",
       "      <td>Dragon</td>\n",
       "      <td>Creature</td>\n",
       "    </tr>\n",
       "    <tr>\n",
       "      <th>13</th>\n",
       "      <td>Incremental Growth</td>\n",
       "      <td>{3}{G}{G}</td>\n",
       "      <td>5</td>\n",
       "      <td>G</td>\n",
       "      <td>Chuck Lukacs</td>\n",
       "      <td>14</td>\n",
       "      <td>Sorcery</td>\n",
       "      <td>Put a +1/+1 counter on target creature, two +1...</td>\n",
       "      <td>LRW,MMA,KTK,W16</td>\n",
       "      <td>\"Tie a mouse under a bridge, and your cabbages...</td>\n",
       "      <td>normal</td>\n",
       "      <td>413380</td>\n",
       "      <td>none</td>\n",
       "      <td>none</td>\n",
       "      <td>Uncommon</td>\n",
       "      <td>none</td>\n",
       "      <td>Sorcery</td>\n",
       "    </tr>\n",
       "    <tr>\n",
       "      <th>14</th>\n",
       "      <td>Oakenform</td>\n",
       "      <td>{2}{G}</td>\n",
       "      <td>3</td>\n",
       "      <td>G</td>\n",
       "      <td>Wayne Reynolds</td>\n",
       "      <td>15</td>\n",
       "      <td>Enchantment — Aura</td>\n",
       "      <td>Enchant creature\\nEnchanted creature gets +3/+3.</td>\n",
       "      <td>M10,W16</td>\n",
       "      <td>\"When the beast cloaks itself in the mighty oa...</td>\n",
       "      <td>normal</td>\n",
       "      <td>413381</td>\n",
       "      <td>none</td>\n",
       "      <td>none</td>\n",
       "      <td>Common</td>\n",
       "      <td>Aura</td>\n",
       "      <td>Enchantment</td>\n",
       "    </tr>\n",
       "    <tr>\n",
       "      <th>15</th>\n",
       "      <td>Soul of the Harvest</td>\n",
       "      <td>{4}{G}{G}</td>\n",
       "      <td>6</td>\n",
       "      <td>G</td>\n",
       "      <td>Eytan Zana</td>\n",
       "      <td>16</td>\n",
       "      <td>Creature — Elemental</td>\n",
       "      <td>Trample\\nWhenever another nontoken creature en...</td>\n",
       "      <td>AVR,C14,W16</td>\n",
       "      <td>none</td>\n",
       "      <td>normal</td>\n",
       "      <td>413382</td>\n",
       "      <td>6</td>\n",
       "      <td>6</td>\n",
       "      <td>Rare</td>\n",
       "      <td>Elemental</td>\n",
       "      <td>Creature</td>\n",
       "    </tr>\n",
       "  </tbody>\n",
       "</table>\n",
       "<p>30833 rows × 17 columns</p>\n",
       "</div>"
      ],
      "text/plain": [
       "                     name      manaCost   cmc colorIdentity  \\\n",
       "0                 Abolish     {1}{W}{W}     3             W   \n",
       "1           Aura Fracture        {2}{W}     3             W   \n",
       "2          Avatar of Hope     {6}{W}{W}     8             W   \n",
       "3            Blessed Wind     {7}{W}{W}     9             W   \n",
       "4   Celestial Convergence     {2}{W}{W}     4             W   \n",
       "5          Diving Griffin     {1}{W}{W}     3             W   \n",
       "6               Entangler     {2}{W}{W}     4             W   \n",
       "7                  Excise        {X}{W}     1             W   \n",
       "8         Flowering Field        {1}{W}     2             W   \n",
       "9         Glittering Lion        {2}{W}     3             W   \n",
       "10        Glittering Lynx           {W}     1             W   \n",
       "11         Jeweled Spirit     {3}{W}{W}     5             W   \n",
       "12        Mageta the Lion     {3}{W}{W}     5             W   \n",
       "13          Mageta's Boon        {1}{W}     2             W   \n",
       "14     Mercenary Informer        {2}{W}     3             W   \n",
       "15            Mine Bearer        {2}{W}     3             W   \n",
       "16          Mirror Strike        {3}{W}     4             W   \n",
       "17         Reveille Squad     {2}{W}{W}     4             W   \n",
       "18         Rhystic Circle     {2}{W}{W}     4             W   \n",
       "19         Rhystic Shield        {1}{W}     2             W   \n",
       "20       Samite Sanctuary        {2}{W}     3             W   \n",
       "21     Sheltering Prayers           {W}     1             W   \n",
       "22          Shield Dancer        {2}{W}     3             W   \n",
       "23           Soul Charmer        {2}{W}     3             W   \n",
       "24           Sword Dancer        {1}{W}     2             W   \n",
       "25        Trenching Steed        {3}{W}     4             W   \n",
       "26        Troubled Healer        {2}{W}     3             W   \n",
       "27     Alexi, Zephyr Mage     {3}{U}{U}     5             U   \n",
       "28          Alexi's Cloak        {1}{U}     2             U   \n",
       "29         Avatar of Will     {6}{U}{U}     8             U   \n",
       "..                    ...           ...   ...           ...   \n",
       "18     Formless Nurturing        {3}{G}     4             G   \n",
       "19       Dragonscale Boon        {3}{G}     4             G   \n",
       "20               Wildcall     {X}{G}{G}     2             G   \n",
       "21  Hewed Stone Retainers           {3}     3          none   \n",
       "22       Ugin's Construct           {4}     4          none   \n",
       "23     Altar of the Brood           {1}     1          none   \n",
       "24         Briber's Purse           {X}  none          none   \n",
       "25        Ghostfire Blade           {1}     1          none   \n",
       "0         Armored Pegasus        {1}{W}     2          none   \n",
       "1              Bull Hippo        {3}{G}     4          none   \n",
       "2           Cloud Pirates           {U}     1          none   \n",
       "3            Feral Shadow        {2}{B}     3          none   \n",
       "4          Snapping Drake        {3}{U}     4          none   \n",
       "5              Storm Crow        {1}{U}     2          none   \n",
       "0             Aegis Angel     {4}{W}{W}     6             W   \n",
       "1         Marked by Honor        {3}{W}     4             W   \n",
       "2             Serra Angel     {3}{W}{W}     5             W   \n",
       "3             Air Servant        {4}{U}     5             U   \n",
       "4                Disperse        {1}{U}     2             U   \n",
       "5        Sphinx of Magosi  {3}{U}{U}{U}     6             U   \n",
       "6                Mind Rot        {2}{B}     3             B   \n",
       "7               Nightmare        {5}{B}     6             B   \n",
       "8          Sengir Vampire     {3}{B}{B}     5             B   \n",
       "9          Walking Corpse        {1}{B}     2             B   \n",
       "10    Borderland Marauder        {1}{R}     2             R   \n",
       "11          Cone of Flame     {3}{R}{R}     5             R   \n",
       "12          Shivan Dragon     {4}{R}{R}     6             R   \n",
       "13     Incremental Growth     {3}{G}{G}     5             G   \n",
       "14              Oakenform        {2}{G}     3             G   \n",
       "15    Soul of the Harvest     {4}{G}{G}     6             G   \n",
       "\n",
       "                    artist number                                    type  \\\n",
       "0               Kev Walker      1                                 Instant   \n",
       "1             Rebecca Guay      2                             Enchantment   \n",
       "2                  rk post      3                       Creature — Avatar   \n",
       "3        Anthony S. Waters      4                                 Sorcery   \n",
       "4                 Ray Lago      5                             Enchantment   \n",
       "5                John Howe      6                      Creature — Griffin   \n",
       "6     D. Alexander Gregory      7                      Enchantment — Aura   \n",
       "7               Joel Biske      8                                 Instant   \n",
       "8            Jeff Miracola      9                      Enchantment — Aura   \n",
       "9            Don Hazeltine     10                          Creature — Cat   \n",
       "10             Dan Frazier     11                          Creature — Cat   \n",
       "11     Christopher Moeller     12                       Creature — Spirit   \n",
       "12                    Brom     13  Legendary Creature — Human Spellshaper   \n",
       "13        Bradley Williams     14                      Enchantment — Aura   \n",
       "14         Nelson DeCastro     15        Creature — Human Rebel Mercenary   \n",
       "15    D. Alexander Gregory     16                Creature — Human Soldier   \n",
       "16             Dave Dorman     17                                 Instant   \n",
       "17  Greg & Tim Hildebrandt     18                  Creature — Human Rebel   \n",
       "18            Alan Pollack     19                             Enchantment   \n",
       "19              Kev Walker     20                                 Instant   \n",
       "20            Ben Thompson     21                             Enchantment   \n",
       "21         Nelson DeCastro     22                             Enchantment   \n",
       "22              Mike Ploog     23                  Creature — Human Rebel   \n",
       "23              Glen Angus     24                  Creature — Human Rebel   \n",
       "24             Roger Raupp     25                  Creature — Human Rebel   \n",
       "25  Greg & Tim Hildebrandt     26                  Creature — Horse Rebel   \n",
       "26          Terese Nielsen     27                 Creature — Human Cleric   \n",
       "27                Mark Zug     28  Legendary Creature — Human Spellshaper   \n",
       "28         Alan Rabinowitz     29                      Enchantment — Aura   \n",
       "29                 rk post     30                       Creature — Avatar   \n",
       "..                     ...    ...                                     ...   \n",
       "18            Cliff Childs    129                                 Sorcery   \n",
       "19            Mark Winters    131                                 Instant   \n",
       "20           Adam Paquette    146                                 Sorcery   \n",
       "21            David Seguin    161               Artifact Creature — Golem   \n",
       "22        Peter Mohrbacher    164           Artifact Creature — Construct   \n",
       "23              Erica Yang    216                                Artifact   \n",
       "24            Steve Argyle    217                                Artifact   \n",
       "25    Cyril Van Der Haegen    220                    Artifact — Equipment   \n",
       "0          Andrew Robinson      1                      Creature — Pegasus   \n",
       "1              Roger Raupp      2                        Creature — Hippo   \n",
       "2              Phil Foglio      3                 Creature — Human Pirate   \n",
       "3            Colin MacNeil      4                 Creature — Nightstalker   \n",
       "4         Christopher Rush      5                        Creature — Drake   \n",
       "5              Una Fricker      6                         Creature — Bird   \n",
       "0           Aleksi Briclot      1                        Creature — Angel   \n",
       "1            David Palumbo      2                      Enchantment — Aura   \n",
       "2             Greg Staples      3                        Creature — Angel   \n",
       "3          Lars Grant-West      4                    Creature — Elemental   \n",
       "4                 Ryan Yee      5                                 Instant   \n",
       "5              James Ryman      6                       Creature — Sphinx   \n",
       "6               Steve Luke      7                                 Sorcery   \n",
       "7             Vance Kovacs      8              Creature — Nightmare Horse   \n",
       "8               Kev Walker      9                      Creature — Vampire   \n",
       "9            Igor Kieryluk     10                       Creature — Zombie   \n",
       "10        Scott M. Fischer     11                Creature — Human Warrior   \n",
       "11                  Chippy     12                                 Sorcery   \n",
       "12         Donato Giancola     13                       Creature — Dragon   \n",
       "13            Chuck Lukacs     14                                 Sorcery   \n",
       "14          Wayne Reynolds     15                      Enchantment — Aura   \n",
       "15              Eytan Zana     16                    Creature — Elemental   \n",
       "\n",
       "                                                 text  \\\n",
       "0   You may discard a Plains card rather than pay ...   \n",
       "1       Sacrifice a land: Destroy target enchantment.   \n",
       "2   If you have 3 or less life, Avatar of Hope cos...   \n",
       "3              Target player's life total becomes 20.   \n",
       "4   Celestial Convergence enters the battlefield w...   \n",
       "5                                   Flying, vigilance   \n",
       "6   Enchant creature\\nEnchanted creature can block...   \n",
       "7   Exile target attacking creature unless its con...   \n",
       "8   Enchant land\\nEnchanted land has \"{T}: Prevent...   \n",
       "9   Prevent all damage that would be dealt to Glit...   \n",
       "10  Prevent all damage that would be dealt to Glit...   \n",
       "11  Flying\\nSacrifice two lands: Jeweled Spirit ga...   \n",
       "12  {2}{W}{W}, {T}, Discard two cards: Destroy all...   \n",
       "13  Flash\\nEnchant creature\\nEnchanted creature ge...   \n",
       "14  Mercenary Informer can't be the target of blac...   \n",
       "15  {T}, Sacrifice Mine Bearer: Destroy target att...   \n",
       "16  All combat damage that would be dealt to you t...   \n",
       "17  Whenever one or more creatures attack you, if ...   \n",
       "18  {1}: Any player may pay {1}. If no one does, t...   \n",
       "19  Creatures you control get +0/+1 until end of t...   \n",
       "20  {2}: Prevent the next 1 damage that would be d...   \n",
       "21  Basic lands each player controls have shroud a...   \n",
       "22  {2}{W}: The next time target attacking creatur...   \n",
       "23  Whenever Soul Charmer deals combat damage to a...   \n",
       "24  {W}{W}: Target attacking creature gets -1/-0 u...   \n",
       "25  Sacrifice a land: Trenching Steed gets +0/+3 u...   \n",
       "26  Sacrifice a land: Prevent the next 2 damage th...   \n",
       "27  {X}{U}, {T}, Discard two cards: Return X targe...   \n",
       "28  Flash\\nEnchant creature\\nEnchanted creature ha...   \n",
       "29  If an opponent has no cards in hand, Avatar of...   \n",
       "..                                                ...   \n",
       "18  Manifest the top card of your library, then pu...   \n",
       "19  Put two +1/+1 counters on target creature and ...   \n",
       "20  Manifest the top card of your library, then pu...   \n",
       "21  Cast Hewed Stone Retainers only if you've cast...   \n",
       "22  When Ugin's Construct enters the battlefield, ...   \n",
       "23  Whenever another permanent enters the battlefi...   \n",
       "24  Briber's Purse enters the battlefield with X g...   \n",
       "25  Equipped creature gets +2/+2.\\nEquip {3}\\nGhos...   \n",
       "0                                              Flying   \n",
       "1   Islandwalk (This creature can't be blocked as ...   \n",
       "2   Flying\\nCloud Pirates can block only creatures...   \n",
       "3                                              Flying   \n",
       "4                                              Flying   \n",
       "5   Flying (This creature can't be blocked except ...   \n",
       "0   Flying (This creature can't be blocked except ...   \n",
       "1   Enchant creature\\nEnchanted creature gets +2/+...   \n",
       "2   Flying (This creature can't be blocked except ...   \n",
       "3    Flying\\n{2}{U}: Tap target creature with flying.   \n",
       "4   Return target nonland permanent to its owner's...   \n",
       "5   Flying\\n{2}{U}: Draw a card, then put a +1/+1 ...   \n",
       "6                   Target player discards two cards.   \n",
       "7   Flying (This creature can't be blocked except ...   \n",
       "8   Flying (This creature can't be blocked except ...   \n",
       "9                                                none   \n",
       "10  Whenever Borderland Marauder attacks, it gets ...   \n",
       "11  Cone of Flame deals 1 damage to target creatur...   \n",
       "12  Flying (This creature can't be blocked except ...   \n",
       "13  Put a +1/+1 counter on target creature, two +1...   \n",
       "14   Enchant creature\\nEnchanted creature gets +3/+3.   \n",
       "15  Trample\\nWhenever another nontoken creature en...   \n",
       "\n",
       "                                            printings  \\\n",
       "0                                             PCY,DDF   \n",
       "1                                                 PCY   \n",
       "2                                        pPRE,PCY,8ED   \n",
       "3                                                 PCY   \n",
       "4                                                 PCY   \n",
       "5                                             PCY,8ED   \n",
       "6                                                 PCY   \n",
       "7                                                 PCY   \n",
       "8                                                 PCY   \n",
       "9                                                 PCY   \n",
       "10                                                PCY   \n",
       "11                                                PCY   \n",
       "12                                                PCY   \n",
       "13                                                PCY   \n",
       "14                                                PCY   \n",
       "15                                                PCY   \n",
       "16                                                PCY   \n",
       "17                                                PCY   \n",
       "18                                                PCY   \n",
       "19                                                PCY   \n",
       "20                                                PCY   \n",
       "21                                                PCY   \n",
       "22                                                PCY   \n",
       "23                                                PCY   \n",
       "24                                            PCY,8ED   \n",
       "25                                                PCY   \n",
       "26                                                PCY   \n",
       "27                                                PCY   \n",
       "28                                                PCY   \n",
       "29                                                PCY   \n",
       "..                                                ...   \n",
       "18                                       FRF_UGIN,FRF   \n",
       "19                                       KTK,FRF_UGIN   \n",
       "20                                       FRF_UGIN,FRF   \n",
       "21                                       FRF_UGIN,FRF   \n",
       "22                                       FRF_UGIN,FRF   \n",
       "23                                       KTK,FRF_UGIN   \n",
       "24                                       KTK,FRF_UGIN   \n",
       "25                                       KTK,FRF_UGIN   \n",
       "0                    POR,pPOD,TMP,ATH,6ED,BRB,S00,TPR   \n",
       "1                                POR,pPOD,USG,S99,7ED   \n",
       "2                                            POR,pPOD   \n",
       "3                            MIR,POR,pPOD,6ED,S99,BTD   \n",
       "4                    POR,pPOD,S99,BTD,RAV,10E,M10,DPA   \n",
       "5                    ALL,POR,pPOD,6ED,S99,7ED,8ED,9ED   \n",
       "0                                     M12,M15,ORI,W16   \n",
       "1                                             M15,W16   \n",
       "2   LEA,LEB,2ED,CED,CEI,3ED,4ED,ATH,pWOS,7ED,8ED,9...   \n",
       "3                                 M11,M14,CNS,MM2,W16   \n",
       "4                                 MOR,SOM,M14,ORI,W16   \n",
       "5                                         ROE,C14,W16   \n",
       "6   POR,PO2,S99,7ED,8ED,9ED,10E,M10,DPA,M11,M12,M1...   \n",
       "7   LEA,LEB,2ED,CED,CEI,3ED,4ED,5ED,6ED,7ED,8ED,9E...   \n",
       "8   LEA,LEB,2ED,CED,CEI,3ED,4ED,BRB,BTD,TOR,9ED,10...   \n",
       "9                                     ISD,M13,M15,W16   \n",
       "10                                        M15,W16,EMA   \n",
       "11                WTH,10E,DD2,HOP,DDG,M15,DD3_JVC,W16   \n",
       "12  LEA,LEB,2ED,CED,CEI,3ED,4ED,5ED,BTD,7ED,pREL,8...   \n",
       "13                                    LRW,MMA,KTK,W16   \n",
       "14                                            M10,W16   \n",
       "15                                        AVR,C14,W16   \n",
       "\n",
       "                                               flavor  layout multiverseid  \\\n",
       "0   As war raged on, the young mages became more d...  normal        24561   \n",
       "1   Jamuraa's rhystic mages treat magic as their g...  normal        24560   \n",
       "2                                                none  normal        24564   \n",
       "3   \"The fourth wind of ascension is Anointer, dei...  normal        24569   \n",
       "4                                                none  normal        24567   \n",
       "5   To outrace the griffin\\n—Kipamu expression mea...  normal        24548   \n",
       "6   \"Tell me again,\" said Latulla, raising her fis...  normal        24557   \n",
       "7   \"Creation is no great feat. Anything you make,...  normal        24553   \n",
       "8   Some lands are soothing, and their peace can b...  normal        24552   \n",
       "9                                                none  normal        24558   \n",
       "10                                               none  normal        24549   \n",
       "11  As he knows all the world completely, the worl...  normal        24566   \n",
       "12       In the jungle of war there is always a Lion.  normal        24565   \n",
       "13  When the Lion roars, his cubs grow stronger.\\n...  normal        24550   \n",
       "14  The problem with rebels is that they so quickl...  normal        24563   \n",
       "15  \"The Keldons may have explosive tempers, but I...  normal        24555   \n",
       "16  \"Enemies can be your weapons or your shields. ...  normal        24554   \n",
       "17                \"To arms! To arms! The Lion roars!\"  normal        24559   \n",
       "18  The circle buys time—an important commodity in...  normal        24562   \n",
       "19  A shield for one is good. A shield for everyon...  normal        24551   \n",
       "20  Our war is against suffering, not against thos...  normal        24570   \n",
       "21  \"It matters not if the gods hear my prayers. J...  normal        24568   \n",
       "22  The harder your strike, the stronger her defense.  normal        24556   \n",
       "23                She seeks the warmth of the living.  normal        24611   \n",
       "24  Most soldiers think of the sword as a weapon. ...  normal        24544   \n",
       "25  The Keldons took several of the steeds as trop...  normal        24546   \n",
       "26  \"Which is worse: nothing to defend, or no one ...  normal        24547   \n",
       "27  The Keldons didn't know her name, but they sti...  normal        24591   \n",
       "28  \"Doesn't look like much, does it?\"\\n—Alexi, ze...  normal        24579   \n",
       "29                                               none  normal        24590   \n",
       "..                                                ...     ...          ...   \n",
       "18                                               none  normal       394073   \n",
       "19  Only those who have proved themselves worthy a...  normal       394071   \n",
       "20             A howl on the wind hides many dangers.  normal       394089   \n",
       "21  \"Their origins are shrouded in mystery. I beli...  normal       394076   \n",
       "22  While trapping the Eldrazi on Zendikar, Ugin l...  normal       394087   \n",
       "23  Supplicants offer flesh and silver, flowers an...  normal       394066   \n",
       "24         The bigger the hand, the higher the price.  normal       394069   \n",
       "25  If you fear the dragon's fire, you are unworth...  normal       394074   \n",
       "0   Asked how it survived a run-in with a bog imp,...  normal         none   \n",
       "1                                                none  normal         none   \n",
       "2                                                none  normal         none   \n",
       "3   Not all shadows are cast by light—some are cas...  normal         none   \n",
       "4   Drakes claim to be dragons—until the dragons s...  normal         none   \n",
       "5   Storm crow descending, winter unending. Storm ...  normal         none   \n",
       "0                                                none  normal       413367   \n",
       "1   Stand your post for duty. Stand your ground fo...  normal       413368   \n",
       "2       Follow the light. In its absence, follow her.  normal       413369   \n",
       "3   Wind is forceful, yet ephemeral. It can knock ...  normal       413370   \n",
       "4   It's pointless to hold on when you have nothin...  normal       413371   \n",
       "5   \"A riddle is nothing more than a trap for smal...  normal       413372   \n",
       "6   \"It saddens me to lose a source of inspiration...  normal       413373   \n",
       "7   The thunder of its hooves beats dreams into de...  normal       413374   \n",
       "8         Empires rise and fall, but evil is eternal.  normal       413375   \n",
       "9   \"Feeding a normal army is a problem of logisti...  normal       413376   \n",
       "10  Though she is rightly feared, there are relati...  normal       413377   \n",
       "11                                               none  normal       413378   \n",
       "12    The undisputed master of the mountains of Shiv.  normal       413379   \n",
       "13  \"Tie a mouse under a bridge, and your cabbages...  normal       413380   \n",
       "14  \"When the beast cloaks itself in the mighty oa...  normal       413381   \n",
       "15                                               none  normal       413382   \n",
       "\n",
       "   power toughness    rarity               subtypes              types  \n",
       "0   none      none  Uncommon                   none            Instant  \n",
       "1   none      none    Common                   none        Enchantment  \n",
       "2      4         9      Rare                 Avatar           Creature  \n",
       "3   none      none      Rare                   none            Sorcery  \n",
       "4   none      none      Rare                   none        Enchantment  \n",
       "5      2         2    Common                Griffin           Creature  \n",
       "6   none      none  Uncommon                   Aura        Enchantment  \n",
       "7   none      none    Common                   none            Instant  \n",
       "8   none      none  Uncommon                   Aura        Enchantment  \n",
       "9      2         2  Uncommon                    Cat           Creature  \n",
       "10     1         1    Common                    Cat           Creature  \n",
       "11     3         3      Rare                 Spirit           Creature  \n",
       "12     3         3      Rare      Human,Spellshaper           Creature  \n",
       "13  none      none    Common                   Aura        Enchantment  \n",
       "14     2         1      Rare  Human,Rebel,Mercenary           Creature  \n",
       "15     1         1    Common          Human,Soldier           Creature  \n",
       "16  none      none  Uncommon                   none            Instant  \n",
       "17     3         3  Uncommon            Human,Rebel           Creature  \n",
       "18  none      none    Common                   none        Enchantment  \n",
       "19  none      none    Common                   none            Instant  \n",
       "20  none      none      Rare                   none        Enchantment  \n",
       "21  none      none      Rare                   none        Enchantment  \n",
       "22     1         3  Uncommon            Human,Rebel           Creature  \n",
       "23     2         2    Common            Human,Rebel           Creature  \n",
       "24     1         2  Uncommon            Human,Rebel           Creature  \n",
       "25     2         3    Common            Horse,Rebel           Creature  \n",
       "26     1         2    Common           Human,Cleric           Creature  \n",
       "27     3         3      Rare      Human,Spellshaper           Creature  \n",
       "28  none      none    Common                   Aura        Enchantment  \n",
       "29     5         6      Rare                 Avatar           Creature  \n",
       "..   ...       ...       ...                    ...                ...  \n",
       "18  none      none    Common                   none            Sorcery  \n",
       "19  none      none    Common                   none            Instant  \n",
       "20  none      none      Rare                   none            Sorcery  \n",
       "21     4         4  Uncommon                  Golem  Artifact,Creature  \n",
       "22     4         5  Uncommon              Construct  Artifact,Creature  \n",
       "23  none      none      Rare                   none           Artifact  \n",
       "24  none      none  Uncommon                   none           Artifact  \n",
       "25  none      none      Rare              Equipment           Artifact  \n",
       "0      1         2   Special                Pegasus           Creature  \n",
       "1      3         3   Special                  Hippo           Creature  \n",
       "2      1         1   Special           Human,Pirate           Creature  \n",
       "3      2         1   Special           Nightstalker           Creature  \n",
       "4      3         2   Special                  Drake           Creature  \n",
       "5      1         2   Special                   Bird           Creature  \n",
       "0      5         5      Rare                  Angel           Creature  \n",
       "1   none      none    Common                   Aura        Enchantment  \n",
       "2      4         4  Uncommon                  Angel           Creature  \n",
       "3      4         3  Uncommon              Elemental           Creature  \n",
       "4   none      none    Common                   none            Instant  \n",
       "5      6         6      Rare                 Sphinx           Creature  \n",
       "6   none      none    Common                   none            Sorcery  \n",
       "7      *         *      Rare        Nightmare,Horse           Creature  \n",
       "8      4         4  Uncommon                Vampire           Creature  \n",
       "9      2         2    Common                 Zombie           Creature  \n",
       "10     1         2    Common          Human,Warrior           Creature  \n",
       "11  none      none  Uncommon                   none            Sorcery  \n",
       "12     5         5      Rare                 Dragon           Creature  \n",
       "13  none      none  Uncommon                   none            Sorcery  \n",
       "14  none      none    Common                   Aura        Enchantment  \n",
       "15     6         6      Rare              Elemental           Creature  \n",
       "\n",
       "[30833 rows x 17 columns]"
      ]
     },
     "execution_count": 4,
     "metadata": {},
     "output_type": "execute_result"
    }
   ],
   "source": [
    "data_sets"
   ]
  },
  {
   "cell_type": "markdown",
   "metadata": {
    "deletable": true,
    "editable": true
   },
   "source": [
    "### Examine Specific Card Type\n",
    "We will be looking at the elf creature subtype. Filtering on all cards that contain the subtype elf, so we have a dataframe that contains only elves."
   ]
  },
  {
   "cell_type": "code",
   "execution_count": 5,
   "metadata": {
    "collapsed": false,
    "deletable": true,
    "editable": true
   },
   "outputs": [
    {
     "name": "stdout",
     "output_type": "stream",
     "text": [
      "Number of unique elf cards: 305\n"
     ]
    },
    {
     "data": {
      "text/html": [
       "<div>\n",
       "<table border=\"1\" class=\"dataframe\">\n",
       "  <thead>\n",
       "    <tr style=\"text-align: right;\">\n",
       "      <th></th>\n",
       "      <th>name</th>\n",
       "      <th>manaCost</th>\n",
       "      <th>cmc</th>\n",
       "      <th>colorIdentity</th>\n",
       "      <th>artist</th>\n",
       "      <th>number</th>\n",
       "      <th>type</th>\n",
       "      <th>text</th>\n",
       "      <th>printings</th>\n",
       "      <th>flavor</th>\n",
       "      <th>layout</th>\n",
       "      <th>multiverseid</th>\n",
       "      <th>power</th>\n",
       "      <th>toughness</th>\n",
       "      <th>rarity</th>\n",
       "      <th>subtypes</th>\n",
       "      <th>types</th>\n",
       "    </tr>\n",
       "  </thead>\n",
       "  <tbody>\n",
       "    <tr>\n",
       "      <th>98</th>\n",
       "      <td>Viridian Lorebearers</td>\n",
       "      <td>{3}{G}</td>\n",
       "      <td>4</td>\n",
       "      <td>G</td>\n",
       "      <td>Darrell Riche</td>\n",
       "      <td>99</td>\n",
       "      <td>Creature — Elf Shaman</td>\n",
       "      <td>{3}{G}, {T}: Target creature gets +X/+X until ...</td>\n",
       "      <td>5DN</td>\n",
       "      <td>A small band of elves pledged many years ago t...</td>\n",
       "      <td>normal</td>\n",
       "      <td>50188</td>\n",
       "      <td>3</td>\n",
       "      <td>3</td>\n",
       "      <td>Uncommon</td>\n",
       "      <td>Elf,Shaman</td>\n",
       "      <td>Creature</td>\n",
       "    </tr>\n",
       "    <tr>\n",
       "      <th>99</th>\n",
       "      <td>Viridian Scout</td>\n",
       "      <td>{3}{G}</td>\n",
       "      <td>4</td>\n",
       "      <td>G</td>\n",
       "      <td>Daren Bader</td>\n",
       "      <td>100</td>\n",
       "      <td>Creature — Elf Warrior Scout</td>\n",
       "      <td>{2}{G}, Sacrifice Viridian Scout: Viridian Sco...</td>\n",
       "      <td>5DN</td>\n",
       "      <td>They know a hoverguard's only blind spot is di...</td>\n",
       "      <td>normal</td>\n",
       "      <td>73583</td>\n",
       "      <td>1</td>\n",
       "      <td>2</td>\n",
       "      <td>Common</td>\n",
       "      <td>Elf,Warrior,Scout</td>\n",
       "      <td>Creature</td>\n",
       "    </tr>\n",
       "    <tr>\n",
       "      <th>88</th>\n",
       "      <td>Joiner Adept</td>\n",
       "      <td>{1}{G}</td>\n",
       "      <td>2</td>\n",
       "      <td>G</td>\n",
       "      <td>Christopher Rush</td>\n",
       "      <td>89</td>\n",
       "      <td>Creature — Elf Druid</td>\n",
       "      <td>Lands you control have \"{T}: Add one mana of a...</td>\n",
       "      <td>5DN,10E</td>\n",
       "      <td>A talented apprentice makes all things. The ma...</td>\n",
       "      <td>normal</td>\n",
       "      <td>72928</td>\n",
       "      <td>2</td>\n",
       "      <td>1</td>\n",
       "      <td>Rare</td>\n",
       "      <td>Elf,Druid</td>\n",
       "      <td>Creature</td>\n",
       "    </tr>\n",
       "    <tr>\n",
       "      <th>123</th>\n",
       "      <td>Behemoth's Herald</td>\n",
       "      <td>{G}</td>\n",
       "      <td>1</td>\n",
       "      <td>G</td>\n",
       "      <td>Paolo Parente</td>\n",
       "      <td>124</td>\n",
       "      <td>Creature — Elf Shaman</td>\n",
       "      <td>{2}{G}, {T}, Sacrifice a red creature, a green...</td>\n",
       "      <td>ALA</td>\n",
       "      <td>\"Mine is an insatiable god, with appetites as ...</td>\n",
       "      <td>normal</td>\n",
       "      <td>175263</td>\n",
       "      <td>1</td>\n",
       "      <td>1</td>\n",
       "      <td>Uncommon</td>\n",
       "      <td>Elf,Shaman</td>\n",
       "      <td>Creature</td>\n",
       "    </tr>\n",
       "    <tr>\n",
       "      <th>126</th>\n",
       "      <td>Cylian Elf</td>\n",
       "      <td>{1}{G}</td>\n",
       "      <td>2</td>\n",
       "      <td>G</td>\n",
       "      <td>Steve Prescott</td>\n",
       "      <td>127</td>\n",
       "      <td>Creature — Elf Scout</td>\n",
       "      <td>none</td>\n",
       "      <td>ALA</td>\n",
       "      <td>From her sunsail tent high above the forest fl...</td>\n",
       "      <td>normal</td>\n",
       "      <td>174935</td>\n",
       "      <td>2</td>\n",
       "      <td>2</td>\n",
       "      <td>Common</td>\n",
       "      <td>Elf,Scout</td>\n",
       "      <td>Creature</td>\n",
       "    </tr>\n",
       "    <tr>\n",
       "      <th>127</th>\n",
       "      <td>Druid of the Anima</td>\n",
       "      <td>{1}{G}</td>\n",
       "      <td>2</td>\n",
       "      <td>G,R,W</td>\n",
       "      <td>Jim Murray</td>\n",
       "      <td>128</td>\n",
       "      <td>Creature — Elf Druid</td>\n",
       "      <td>{T}: Add {R}, {G}, or {W} to your mana pool.</td>\n",
       "      <td>ALA</td>\n",
       "      <td>Although the Anima herself remains at the Sace...</td>\n",
       "      <td>normal</td>\n",
       "      <td>174903</td>\n",
       "      <td>1</td>\n",
       "      <td>1</td>\n",
       "      <td>Common</td>\n",
       "      <td>Elf,Druid</td>\n",
       "      <td>Creature</td>\n",
       "    </tr>\n",
       "    <tr>\n",
       "      <th>132</th>\n",
       "      <td>Godtoucher</td>\n",
       "      <td>{3}{G}</td>\n",
       "      <td>4</td>\n",
       "      <td>G,W</td>\n",
       "      <td>Jesper Ejsing</td>\n",
       "      <td>133</td>\n",
       "      <td>Creature — Elf Cleric</td>\n",
       "      <td>{1}{W}, {T}: Prevent all damage that would be ...</td>\n",
       "      <td>ALA</td>\n",
       "      <td>\"Gargantuans die not in moments but in moons. ...</td>\n",
       "      <td>normal</td>\n",
       "      <td>174822</td>\n",
       "      <td>2</td>\n",
       "      <td>2</td>\n",
       "      <td>Common</td>\n",
       "      <td>Elf,Cleric</td>\n",
       "      <td>Creature</td>\n",
       "    </tr>\n",
       "    <tr>\n",
       "      <th>134</th>\n",
       "      <td>Keeper of Progenitus</td>\n",
       "      <td>{3}{G}</td>\n",
       "      <td>4</td>\n",
       "      <td>G</td>\n",
       "      <td>Kev Walker</td>\n",
       "      <td>135</td>\n",
       "      <td>Creature — Elf Druid</td>\n",
       "      <td>Whenever a player taps a Mountain, Forest, or ...</td>\n",
       "      <td>ALA</td>\n",
       "      <td>He watches over the valley where Progenitus sl...</td>\n",
       "      <td>normal</td>\n",
       "      <td>175033</td>\n",
       "      <td>1</td>\n",
       "      <td>3</td>\n",
       "      <td>Rare</td>\n",
       "      <td>Elf,Druid</td>\n",
       "      <td>Creature</td>\n",
       "    </tr>\n",
       "    <tr>\n",
       "      <th>145</th>\n",
       "      <td>Sacellum Godspeaker</td>\n",
       "      <td>{2}{G}</td>\n",
       "      <td>3</td>\n",
       "      <td>G</td>\n",
       "      <td>Wayne Reynolds</td>\n",
       "      <td>146</td>\n",
       "      <td>Creature — Elf Druid</td>\n",
       "      <td>{T}: Reveal any number of creature cards with ...</td>\n",
       "      <td>ALA</td>\n",
       "      <td>Her connection to the gargantuans puts her in ...</td>\n",
       "      <td>normal</td>\n",
       "      <td>174828</td>\n",
       "      <td>2</td>\n",
       "      <td>2</td>\n",
       "      <td>Rare</td>\n",
       "      <td>Elf,Druid</td>\n",
       "      <td>Creature</td>\n",
       "    </tr>\n",
       "    <tr>\n",
       "      <th>178</th>\n",
       "      <td>Mayael the Anima</td>\n",
       "      <td>{R}{G}{W}</td>\n",
       "      <td>3</td>\n",
       "      <td>W,R,G</td>\n",
       "      <td>Jason Chan</td>\n",
       "      <td>179</td>\n",
       "      <td>Legendary Creature — Elf Shaman</td>\n",
       "      <td>{3}{R}{G}{W}, {T}: Look at the top five cards ...</td>\n",
       "      <td>ALA,C13</td>\n",
       "      <td>The sacred Anima's eyes are blind to all but t...</td>\n",
       "      <td>normal</td>\n",
       "      <td>175058</td>\n",
       "      <td>2</td>\n",
       "      <td>3</td>\n",
       "      <td>Mythic Rare</td>\n",
       "      <td>Elf,Shaman</td>\n",
       "      <td>Creature</td>\n",
       "    </tr>\n",
       "    <tr>\n",
       "      <th>56</th>\n",
       "      <td>Fyndhorn Druid</td>\n",
       "      <td>{2}{G}</td>\n",
       "      <td>3</td>\n",
       "      <td>G</td>\n",
       "      <td>Rob Alexander</td>\n",
       "      <td>none</td>\n",
       "      <td>Creature — Elf Druid</td>\n",
       "      <td>When Fyndhorn Druid dies, if it was blocked th...</td>\n",
       "      <td>ALL</td>\n",
       "      <td>\"Honor those who honor Fyndhorn above themselv...</td>\n",
       "      <td>normal</td>\n",
       "      <td>3135</td>\n",
       "      <td>2</td>\n",
       "      <td>2</td>\n",
       "      <td>Common</td>\n",
       "      <td>Elf,Druid</td>\n",
       "      <td>Creature</td>\n",
       "    </tr>\n",
       "    <tr>\n",
       "      <th>235</th>\n",
       "      <td>Elvish Bard</td>\n",
       "      <td>{3}{G}{G}</td>\n",
       "      <td>5</td>\n",
       "      <td>G</td>\n",
       "      <td>Rob Alexander</td>\n",
       "      <td>236</td>\n",
       "      <td>Creature — Elf Shaman</td>\n",
       "      <td>All creatures able to block Elvish Bard do so.</td>\n",
       "      <td>ALL,DKM,9ED</td>\n",
       "      <td>Helplessly drawn in, the bard's enemies quickl...</td>\n",
       "      <td>normal</td>\n",
       "      <td>82960</td>\n",
       "      <td>2</td>\n",
       "      <td>4</td>\n",
       "      <td>Uncommon</td>\n",
       "      <td>Elf,Shaman</td>\n",
       "      <td>Creature</td>\n",
       "    </tr>\n",
       "    <tr>\n",
       "      <th>158</th>\n",
       "      <td>Elvish Spirit Guide</td>\n",
       "      <td>{2}{G}</td>\n",
       "      <td>3</td>\n",
       "      <td>G</td>\n",
       "      <td>Julie Baroh</td>\n",
       "      <td>159</td>\n",
       "      <td>Creature — Elf Spirit</td>\n",
       "      <td>Exile Elvish Spirit Guide from your hand: Add ...</td>\n",
       "      <td>ALL,ME2</td>\n",
       "      <td>\"We are never without guidance, if we but seek...</td>\n",
       "      <td>normal</td>\n",
       "      <td>184542</td>\n",
       "      <td>2</td>\n",
       "      <td>2</td>\n",
       "      <td>Uncommon</td>\n",
       "      <td>Elf,Spirit</td>\n",
       "      <td>Creature</td>\n",
       "    </tr>\n",
       "    <tr>\n",
       "      <th>169</th>\n",
       "      <td>Kaysa</td>\n",
       "      <td>{3}{G}{G}</td>\n",
       "      <td>5</td>\n",
       "      <td>G</td>\n",
       "      <td>Rebecca Guay</td>\n",
       "      <td>170</td>\n",
       "      <td>Legendary Creature — Elf Druid</td>\n",
       "      <td>Green creatures you control get +1/+1.</td>\n",
       "      <td>ALL,ME2</td>\n",
       "      <td>Kaysa speaks as the elder druid, but Yavimaya ...</td>\n",
       "      <td>normal</td>\n",
       "      <td>184553</td>\n",
       "      <td>2</td>\n",
       "      <td>3</td>\n",
       "      <td>Rare</td>\n",
       "      <td>Elf,Druid</td>\n",
       "      <td>Creature</td>\n",
       "    </tr>\n",
       "    <tr>\n",
       "      <th>157</th>\n",
       "      <td>Elvish Ranger</td>\n",
       "      <td>{2}{G}</td>\n",
       "      <td>3</td>\n",
       "      <td>G</td>\n",
       "      <td>Terese Nielsen</td>\n",
       "      <td>158</td>\n",
       "      <td>Creature — Elf</td>\n",
       "      <td>none</td>\n",
       "      <td>ALL,POR,ME2</td>\n",
       "      <td>\"How can any human hope to match our skills? W...</td>\n",
       "      <td>normal</td>\n",
       "      <td>184691</td>\n",
       "      <td>4</td>\n",
       "      <td>1</td>\n",
       "      <td>Common</td>\n",
       "      <td>Elf</td>\n",
       "      <td>Creature</td>\n",
       "    </tr>\n",
       "    <tr>\n",
       "      <th>100</th>\n",
       "      <td>Gaea's Skyfolk</td>\n",
       "      <td>{G}{U}</td>\n",
       "      <td>2</td>\n",
       "      <td>U,G</td>\n",
       "      <td>Terese Nielsen</td>\n",
       "      <td>101</td>\n",
       "      <td>Creature — Elf Merfolk</td>\n",
       "      <td>Flying</td>\n",
       "      <td>APC</td>\n",
       "      <td>The grace of the forest and the spirit of the ...</td>\n",
       "      <td>normal</td>\n",
       "      <td>26757</td>\n",
       "      <td>2</td>\n",
       "      <td>2</td>\n",
       "      <td>Common</td>\n",
       "      <td>Elf,Merfolk</td>\n",
       "      <td>Creature</td>\n",
       "    </tr>\n",
       "    <tr>\n",
       "      <th>108</th>\n",
       "      <td>Llanowar Dead</td>\n",
       "      <td>{B}{G}</td>\n",
       "      <td>2</td>\n",
       "      <td>B,G</td>\n",
       "      <td>Ben Thompson</td>\n",
       "      <td>109</td>\n",
       "      <td>Creature — Zombie Elf</td>\n",
       "      <td>{T}: Add {B} to your mana pool.</td>\n",
       "      <td>APC</td>\n",
       "      <td>Just as leaves fall from the branches of a liv...</td>\n",
       "      <td>normal</td>\n",
       "      <td>26759</td>\n",
       "      <td>2</td>\n",
       "      <td>2</td>\n",
       "      <td>Common</td>\n",
       "      <td>Zombie,Elf</td>\n",
       "      <td>Creature</td>\n",
       "    </tr>\n",
       "    <tr>\n",
       "      <th>89</th>\n",
       "      <td>Urborg Elf</td>\n",
       "      <td>{1}{G}</td>\n",
       "      <td>2</td>\n",
       "      <td>G,U,B</td>\n",
       "      <td>Bob Petillo</td>\n",
       "      <td>90</td>\n",
       "      <td>Creature — Elf Druid</td>\n",
       "      <td>{T}: Add {G}, {U}, or {B} to your mana pool.</td>\n",
       "      <td>APC</td>\n",
       "      <td>The elves of Urborg are as deadly and capricio...</td>\n",
       "      <td>normal</td>\n",
       "      <td>26717</td>\n",
       "      <td>1</td>\n",
       "      <td>1</td>\n",
       "      <td>Common</td>\n",
       "      <td>Elf,Druid</td>\n",
       "      <td>Creature</td>\n",
       "    </tr>\n",
       "    <tr>\n",
       "      <th>11</th>\n",
       "      <td>Sylvan Messenger</td>\n",
       "      <td>{3}{G}</td>\n",
       "      <td>4</td>\n",
       "      <td>G</td>\n",
       "      <td>Heather Hudson</td>\n",
       "      <td>12</td>\n",
       "      <td>Creature — Elf</td>\n",
       "      <td>Trample (This creature can deal excess combat ...</td>\n",
       "      <td>APC,EVG,DD3_EVG,ORI</td>\n",
       "      <td>none</td>\n",
       "      <td>normal</td>\n",
       "      <td>393990</td>\n",
       "      <td>2</td>\n",
       "      <td>2</td>\n",
       "      <td>Uncommon</td>\n",
       "      <td>Elf</td>\n",
       "      <td>Creature</td>\n",
       "    </tr>\n",
       "    <tr>\n",
       "      <th>54</th>\n",
       "      <td>Godtracker of Jund</td>\n",
       "      <td>{1}{R}{G}</td>\n",
       "      <td>3</td>\n",
       "      <td>R,G</td>\n",
       "      <td>Justin Sweet</td>\n",
       "      <td>55</td>\n",
       "      <td>Creature — Elf Shaman</td>\n",
       "      <td>Whenever a creature with power 5 or greater en...</td>\n",
       "      <td>ARB</td>\n",
       "      <td>\"The behemoths are content to graze like cattl...</td>\n",
       "      <td>normal</td>\n",
       "      <td>183994</td>\n",
       "      <td>2</td>\n",
       "      <td>2</td>\n",
       "      <td>Common</td>\n",
       "      <td>Elf,Shaman</td>\n",
       "      <td>Creature</td>\n",
       "    </tr>\n",
       "    <tr>\n",
       "      <th>102</th>\n",
       "      <td>Sages of the Anima</td>\n",
       "      <td>{3}{G}{U}</td>\n",
       "      <td>5</td>\n",
       "      <td>U,G</td>\n",
       "      <td>Kev Walker</td>\n",
       "      <td>103</td>\n",
       "      <td>Creature — Elf Wizard</td>\n",
       "      <td>If you would draw a card, instead reveal the t...</td>\n",
       "      <td>ARB</td>\n",
       "      <td>Godtrackers found new pantheons of beast-gods ...</td>\n",
       "      <td>normal</td>\n",
       "      <td>180601</td>\n",
       "      <td>3</td>\n",
       "      <td>4</td>\n",
       "      <td>Rare</td>\n",
       "      <td>Elf,Wizard</td>\n",
       "      <td>Creature</td>\n",
       "    </tr>\n",
       "    <tr>\n",
       "      <th>140</th>\n",
       "      <td>Naya Hushblade</td>\n",
       "      <td>{R/W}{G}</td>\n",
       "      <td>2</td>\n",
       "      <td>W,R,G</td>\n",
       "      <td>Jason Chan</td>\n",
       "      <td>141</td>\n",
       "      <td>Creature — Elf Rogue</td>\n",
       "      <td>As long as you control another multicolored pe...</td>\n",
       "      <td>ARB</td>\n",
       "      <td>none</td>\n",
       "      <td>normal</td>\n",
       "      <td>188969</td>\n",
       "      <td>2</td>\n",
       "      <td>1</td>\n",
       "      <td>Common</td>\n",
       "      <td>Elf,Rogue</td>\n",
       "      <td>Creature</td>\n",
       "    </tr>\n",
       "    <tr>\n",
       "      <th>245</th>\n",
       "      <td>Beastcaller Savant</td>\n",
       "      <td>{1}{G}</td>\n",
       "      <td>2</td>\n",
       "      <td>none</td>\n",
       "      <td>Anthony Palumbo</td>\n",
       "      <td>244</td>\n",
       "      <td>Creature — Elf Shaman Ally</td>\n",
       "      <td>Haste\\n{T}: Add one mana of any color to your ...</td>\n",
       "      <td>BFZ</td>\n",
       "      <td>\"They come because I call. They stay because I...</td>\n",
       "      <td>normal</td>\n",
       "      <td>none</td>\n",
       "      <td>1</td>\n",
       "      <td>1</td>\n",
       "      <td>Special</td>\n",
       "      <td>Elf,Shaman,Ally</td>\n",
       "      <td>Creature</td>\n",
       "    </tr>\n",
       "    <tr>\n",
       "      <th>176</th>\n",
       "      <td>Lifespring Druid</td>\n",
       "      <td>{2}{G}</td>\n",
       "      <td>3</td>\n",
       "      <td>G</td>\n",
       "      <td>Willian Murai</td>\n",
       "      <td>177</td>\n",
       "      <td>Creature — Elf Druid</td>\n",
       "      <td>{T}: Add one mana of any color to your mana pool.</td>\n",
       "      <td>BFZ</td>\n",
       "      <td>\"The land is not dead, merely sick. I will nur...</td>\n",
       "      <td>normal</td>\n",
       "      <td>401940</td>\n",
       "      <td>2</td>\n",
       "      <td>1</td>\n",
       "      <td>Common</td>\n",
       "      <td>Elf,Druid</td>\n",
       "      <td>Creature</td>\n",
       "    </tr>\n",
       "    <tr>\n",
       "      <th>192</th>\n",
       "      <td>Tajuru Beastmaster</td>\n",
       "      <td>{5}{G}</td>\n",
       "      <td>6</td>\n",
       "      <td>G</td>\n",
       "      <td>Greg Opalinski</td>\n",
       "      <td>193</td>\n",
       "      <td>Creature — Elf Warrior Ally</td>\n",
       "      <td>Rally — Whenever Tajuru Beastmaster or another...</td>\n",
       "      <td>BFZ</td>\n",
       "      <td>\"My mount needs neither reins nor bridle. We b...</td>\n",
       "      <td>normal</td>\n",
       "      <td>402066</td>\n",
       "      <td>5</td>\n",
       "      <td>5</td>\n",
       "      <td>Common</td>\n",
       "      <td>Elf,Warrior,Ally</td>\n",
       "      <td>Creature</td>\n",
       "    </tr>\n",
       "    <tr>\n",
       "      <th>193</th>\n",
       "      <td>Tajuru Stalwart</td>\n",
       "      <td>{2}{G}</td>\n",
       "      <td>3</td>\n",
       "      <td>G</td>\n",
       "      <td>Wesley Burt</td>\n",
       "      <td>194</td>\n",
       "      <td>Creature — Elf Scout Ally</td>\n",
       "      <td>Converge — Tajuru Stalwart enters the battlefi...</td>\n",
       "      <td>BFZ</td>\n",
       "      <td>\"In its time of hardship, all of Zendikar crie...</td>\n",
       "      <td>normal</td>\n",
       "      <td>402067</td>\n",
       "      <td>0</td>\n",
       "      <td>1</td>\n",
       "      <td>Common</td>\n",
       "      <td>Elf,Scout,Ally</td>\n",
       "      <td>Creature</td>\n",
       "    </tr>\n",
       "    <tr>\n",
       "      <th>194</th>\n",
       "      <td>Tajuru Warcaller</td>\n",
       "      <td>{3}{G}{G}</td>\n",
       "      <td>5</td>\n",
       "      <td>G</td>\n",
       "      <td>Anastasia Ovchinnikova</td>\n",
       "      <td>195</td>\n",
       "      <td>Creature — Elf Warrior Ally</td>\n",
       "      <td>Rally — Whenever Tajuru Warcaller or another A...</td>\n",
       "      <td>BFZ</td>\n",
       "      <td>Her rallying cry reaches far beyond the Tajuru...</td>\n",
       "      <td>normal</td>\n",
       "      <td>402068</td>\n",
       "      <td>2</td>\n",
       "      <td>1</td>\n",
       "      <td>Uncommon</td>\n",
       "      <td>Elf,Warrior,Ally</td>\n",
       "      <td>Creature</td>\n",
       "    </tr>\n",
       "    <tr>\n",
       "      <th>211</th>\n",
       "      <td>Grovetender Druids</td>\n",
       "      <td>{2}{G}{W}</td>\n",
       "      <td>4</td>\n",
       "      <td>W,G</td>\n",
       "      <td>Chase Stone</td>\n",
       "      <td>212</td>\n",
       "      <td>Creature — Elf Druid Ally</td>\n",
       "      <td>Rally — Whenever Grovetender Druids or another...</td>\n",
       "      <td>BFZ</td>\n",
       "      <td>\"The seedlings scream for us to loose them upo...</td>\n",
       "      <td>normal</td>\n",
       "      <td>401904</td>\n",
       "      <td>3</td>\n",
       "      <td>3</td>\n",
       "      <td>Uncommon</td>\n",
       "      <td>Elf,Druid,Ally</td>\n",
       "      <td>Creature</td>\n",
       "    </tr>\n",
       "    <tr>\n",
       "      <th>219</th>\n",
       "      <td>Skyrider Elf</td>\n",
       "      <td>{X}{G}{U}</td>\n",
       "      <td>2</td>\n",
       "      <td>U,G</td>\n",
       "      <td>Dan Scott</td>\n",
       "      <td>220</td>\n",
       "      <td>Creature — Elf Warrior Ally</td>\n",
       "      <td>Flying\\nConverge — Skyrider Elf enters the bat...</td>\n",
       "      <td>BFZ</td>\n",
       "      <td>\"It may be unconventional, but I'll take any s...</td>\n",
       "      <td>normal</td>\n",
       "      <td>402039</td>\n",
       "      <td>0</td>\n",
       "      <td>0</td>\n",
       "      <td>Uncommon</td>\n",
       "      <td>Elf,Warrior,Ally</td>\n",
       "      <td>Creature</td>\n",
       "    </tr>\n",
       "    <tr>\n",
       "      <th>43</th>\n",
       "      <td>Ezuri, Claw of Progress</td>\n",
       "      <td>{2}{G}{U}</td>\n",
       "      <td>4</td>\n",
       "      <td>U,G</td>\n",
       "      <td>James Ryman</td>\n",
       "      <td>44</td>\n",
       "      <td>Legendary Creature — Elf Warrior</td>\n",
       "      <td>Whenever a creature with power 2 or less enter...</td>\n",
       "      <td>C15</td>\n",
       "      <td>none</td>\n",
       "      <td>normal</td>\n",
       "      <td>405221</td>\n",
       "      <td>3</td>\n",
       "      <td>3</td>\n",
       "      <td>Mythic Rare</td>\n",
       "      <td>Elf,Warrior</td>\n",
       "      <td>Creature</td>\n",
       "    </tr>\n",
       "    <tr>\n",
       "      <th>...</th>\n",
       "      <td>...</td>\n",
       "      <td>...</td>\n",
       "      <td>...</td>\n",
       "      <td>...</td>\n",
       "      <td>...</td>\n",
       "      <td>...</td>\n",
       "      <td>...</td>\n",
       "      <td>...</td>\n",
       "      <td>...</td>\n",
       "      <td>...</td>\n",
       "      <td>...</td>\n",
       "      <td>...</td>\n",
       "      <td>...</td>\n",
       "      <td>...</td>\n",
       "      <td>...</td>\n",
       "      <td>...</td>\n",
       "      <td>...</td>\n",
       "    </tr>\n",
       "    <tr>\n",
       "      <th>115</th>\n",
       "      <td>Vastwood Animist</td>\n",
       "      <td>{2}{G}</td>\n",
       "      <td>3</td>\n",
       "      <td>G</td>\n",
       "      <td>Raymond Swanland</td>\n",
       "      <td>116</td>\n",
       "      <td>Creature — Elf Shaman Ally</td>\n",
       "      <td>{T}: Target land you control becomes an X/X El...</td>\n",
       "      <td>WWK</td>\n",
       "      <td>He calls on the forests for counsel and summon...</td>\n",
       "      <td>normal</td>\n",
       "      <td>201566</td>\n",
       "      <td>1</td>\n",
       "      <td>1</td>\n",
       "      <td>Uncommon</td>\n",
       "      <td>Elf,Shaman,Ally</td>\n",
       "      <td>Creature</td>\n",
       "    </tr>\n",
       "    <tr>\n",
       "      <th>159</th>\n",
       "      <td>Arbor Elf</td>\n",
       "      <td>{G}</td>\n",
       "      <td>1</td>\n",
       "      <td>G</td>\n",
       "      <td>rk post</td>\n",
       "      <td>160</td>\n",
       "      <td>Creature — Elf Druid</td>\n",
       "      <td>{T}: Untap target Forest.</td>\n",
       "      <td>WWK,M13</td>\n",
       "      <td>\"The forest will surround you with its life if...</td>\n",
       "      <td>normal</td>\n",
       "      <td>249840</td>\n",
       "      <td>1</td>\n",
       "      <td>1</td>\n",
       "      <td>Common</td>\n",
       "      <td>Elf,Druid</td>\n",
       "      <td>Creature</td>\n",
       "    </tr>\n",
       "    <tr>\n",
       "      <th>190</th>\n",
       "      <td>Turntimber Ranger</td>\n",
       "      <td>{3}{G}{G}</td>\n",
       "      <td>5</td>\n",
       "      <td>G</td>\n",
       "      <td>Wayne Reynolds</td>\n",
       "      <td>191</td>\n",
       "      <td>Creature — Elf Scout Ally</td>\n",
       "      <td>Whenever Turntimber Ranger or another Ally ent...</td>\n",
       "      <td>ZEN</td>\n",
       "      <td>The lone wolf dies alone.</td>\n",
       "      <td>normal</td>\n",
       "      <td>169971</td>\n",
       "      <td>2</td>\n",
       "      <td>2</td>\n",
       "      <td>Rare</td>\n",
       "      <td>Elf,Scout,Ally</td>\n",
       "      <td>Creature</td>\n",
       "    </tr>\n",
       "    <tr>\n",
       "      <th>171</th>\n",
       "      <td>Oracle of Mul Daya</td>\n",
       "      <td>{3}{G}</td>\n",
       "      <td>4</td>\n",
       "      <td>G</td>\n",
       "      <td>Vance Kovacs</td>\n",
       "      <td>172</td>\n",
       "      <td>Creature — Elf Shaman</td>\n",
       "      <td>You may play an additional land on each of you...</td>\n",
       "      <td>ZEN</td>\n",
       "      <td>none</td>\n",
       "      <td>normal</td>\n",
       "      <td>185737</td>\n",
       "      <td>2</td>\n",
       "      <td>2</td>\n",
       "      <td>Rare</td>\n",
       "      <td>Elf,Shaman</td>\n",
       "      <td>Creature</td>\n",
       "    </tr>\n",
       "    <tr>\n",
       "      <th>22</th>\n",
       "      <td>Tajuru Archer</td>\n",
       "      <td>{2}{G}</td>\n",
       "      <td>3</td>\n",
       "      <td>G</td>\n",
       "      <td>Chris Rahn</td>\n",
       "      <td>23</td>\n",
       "      <td>Creature — Elf Archer Ally</td>\n",
       "      <td>Whenever Tajuru Archer or another Ally enters ...</td>\n",
       "      <td>ZEN,DDP</td>\n",
       "      <td>none</td>\n",
       "      <td>normal</td>\n",
       "      <td>401665</td>\n",
       "      <td>1</td>\n",
       "      <td>2</td>\n",
       "      <td>Uncommon</td>\n",
       "      <td>Elf,Archer,Ally</td>\n",
       "      <td>Creature</td>\n",
       "    </tr>\n",
       "    <tr>\n",
       "      <th>16</th>\n",
       "      <td>Joraga Bard</td>\n",
       "      <td>{3}{G}</td>\n",
       "      <td>4</td>\n",
       "      <td>G</td>\n",
       "      <td>Volkan Baga</td>\n",
       "      <td>17</td>\n",
       "      <td>Creature — Elf Rogue Ally</td>\n",
       "      <td>Whenever Joraga Bard or another Ally enters th...</td>\n",
       "      <td>ZEN,DDP</td>\n",
       "      <td>Adventuring bards recite Chanter's Epics, neve...</td>\n",
       "      <td>normal</td>\n",
       "      <td>401659</td>\n",
       "      <td>1</td>\n",
       "      <td>4</td>\n",
       "      <td>Common</td>\n",
       "      <td>Elf,Rogue,Ally</td>\n",
       "      <td>Creature</td>\n",
       "    </tr>\n",
       "    <tr>\n",
       "      <th>11</th>\n",
       "      <td>Frontier Guide</td>\n",
       "      <td>{1}{G}</td>\n",
       "      <td>2</td>\n",
       "      <td>G</td>\n",
       "      <td>Wayne Reynolds</td>\n",
       "      <td>12</td>\n",
       "      <td>Creature — Elf Scout</td>\n",
       "      <td>{3}{G}, {T}: Search your library for a basic l...</td>\n",
       "      <td>ZEN,DDP</td>\n",
       "      <td>\"The elders say Zendikar has no safe, peaceful...</td>\n",
       "      <td>normal</td>\n",
       "      <td>401654</td>\n",
       "      <td>1</td>\n",
       "      <td>1</td>\n",
       "      <td>Uncommon</td>\n",
       "      <td>Elf,Scout</td>\n",
       "      <td>Creature</td>\n",
       "    </tr>\n",
       "    <tr>\n",
       "      <th>163</th>\n",
       "      <td>Greenweaver Druid</td>\n",
       "      <td>{2}{G}</td>\n",
       "      <td>3</td>\n",
       "      <td>G</td>\n",
       "      <td>Justin Sweet</td>\n",
       "      <td>164</td>\n",
       "      <td>Creature — Elf Druid</td>\n",
       "      <td>{T}: Add {G}{G} to your mana pool.</td>\n",
       "      <td>ZEN,DPA</td>\n",
       "      <td>The other tribes call them fanatics, but none ...</td>\n",
       "      <td>normal</td>\n",
       "      <td>185694</td>\n",
       "      <td>1</td>\n",
       "      <td>1</td>\n",
       "      <td>Uncommon</td>\n",
       "      <td>Elf,Druid</td>\n",
       "      <td>Creature</td>\n",
       "    </tr>\n",
       "    <tr>\n",
       "      <th>81</th>\n",
       "      <td>Coiling Oracle</td>\n",
       "      <td>{G}{U}</td>\n",
       "      <td>2</td>\n",
       "      <td>none</td>\n",
       "      <td>Mark Zug</td>\n",
       "      <td>82</td>\n",
       "      <td>Creature — Snake Elf Druid</td>\n",
       "      <td>When Coiling Oracle enters the battlefield, re...</td>\n",
       "      <td>pARL,DIS,DDO,C15</td>\n",
       "      <td>Snaking remnants of nature directed by a body ...</td>\n",
       "      <td>normal</td>\n",
       "      <td>none</td>\n",
       "      <td>1</td>\n",
       "      <td>1</td>\n",
       "      <td>Special</td>\n",
       "      <td>Snake,Elf,Druid</td>\n",
       "      <td>Creature</td>\n",
       "    </tr>\n",
       "    <tr>\n",
       "      <th>50</th>\n",
       "      <td>Elvish Aberration</td>\n",
       "      <td>{5}{G}</td>\n",
       "      <td>6</td>\n",
       "      <td>none</td>\n",
       "      <td>Matt Cavotta</td>\n",
       "      <td>51</td>\n",
       "      <td>Creature — Elf Mutant</td>\n",
       "      <td>{T}: Add {G}{G}{G} to your mana pool.\\nForestc...</td>\n",
       "      <td>pARL,SCG,CMD,CNS,VMA</td>\n",
       "      <td>none</td>\n",
       "      <td>normal</td>\n",
       "      <td>none</td>\n",
       "      <td>4</td>\n",
       "      <td>5</td>\n",
       "      <td>Special</td>\n",
       "      <td>Elf,Mutant</td>\n",
       "      <td>Creature</td>\n",
       "    </tr>\n",
       "    <tr>\n",
       "      <th>201</th>\n",
       "      <td>Imperious Perfect</td>\n",
       "      <td>{2}{G}</td>\n",
       "      <td>3</td>\n",
       "      <td>G</td>\n",
       "      <td>Scott M. Fischer</td>\n",
       "      <td>202</td>\n",
       "      <td>Creature — Elf Warrior</td>\n",
       "      <td>Other Elf creatures you control get +1/+1.\\n{G...</td>\n",
       "      <td>pCMP,LRW,EVG,DPA,C14,DD3_EVG,EMA</td>\n",
       "      <td>In a culture of beauty, the most beautiful are...</td>\n",
       "      <td>normal</td>\n",
       "      <td>389554</td>\n",
       "      <td>2</td>\n",
       "      <td>2</td>\n",
       "      <td>Uncommon</td>\n",
       "      <td>Elf,Warrior</td>\n",
       "      <td>Creature</td>\n",
       "    </tr>\n",
       "    <tr>\n",
       "      <th>10</th>\n",
       "      <td>Bramblewood Paragon</td>\n",
       "      <td>{1}{G}</td>\n",
       "      <td>2</td>\n",
       "      <td>G</td>\n",
       "      <td>Jim Murray</td>\n",
       "      <td>11</td>\n",
       "      <td>Creature — Elf Warrior</td>\n",
       "      <td>Each other Warrior creature you control enters...</td>\n",
       "      <td>pCMP,MOR</td>\n",
       "      <td>none</td>\n",
       "      <td>normal</td>\n",
       "      <td>none</td>\n",
       "      <td>2</td>\n",
       "      <td>2</td>\n",
       "      <td>Special</td>\n",
       "      <td>Elf,Warrior</td>\n",
       "      <td>Creature</td>\n",
       "    </tr>\n",
       "    <tr>\n",
       "      <th>129</th>\n",
       "      <td>Elvish Visionary</td>\n",
       "      <td>{1}{G}</td>\n",
       "      <td>2</td>\n",
       "      <td>G</td>\n",
       "      <td>D. Alexander Gregory</td>\n",
       "      <td>130</td>\n",
       "      <td>Creature — Elf Shaman</td>\n",
       "      <td>When Elvish Visionary enters the battlefield, ...</td>\n",
       "      <td>pFNM,ALA,M10,DPA,M13,C14,ORI,C15</td>\n",
       "      <td>Before any major undertaking, a Cylian elf see...</td>\n",
       "      <td>normal</td>\n",
       "      <td>175124</td>\n",
       "      <td>1</td>\n",
       "      <td>1</td>\n",
       "      <td>Common</td>\n",
       "      <td>Elf,Shaman</td>\n",
       "      <td>Creature</td>\n",
       "    </tr>\n",
       "    <tr>\n",
       "      <th>49</th>\n",
       "      <td>Bloodbraid Elf</td>\n",
       "      <td>{2}{R}{G}</td>\n",
       "      <td>4</td>\n",
       "      <td>R,G</td>\n",
       "      <td>Dominick Domingo</td>\n",
       "      <td>50</td>\n",
       "      <td>Creature — Elf Berserker</td>\n",
       "      <td>Haste\\nCascade (When you cast this spell, exil...</td>\n",
       "      <td>pFNM,ARB,PC2,EMA</td>\n",
       "      <td>none</td>\n",
       "      <td>normal</td>\n",
       "      <td>185053</td>\n",
       "      <td>3</td>\n",
       "      <td>2</td>\n",
       "      <td>Uncommon</td>\n",
       "      <td>Elf,Berserker</td>\n",
       "      <td>Creature</td>\n",
       "    </tr>\n",
       "    <tr>\n",
       "      <th>18</th>\n",
       "      <td>Wren's Run Vanquisher</td>\n",
       "      <td>{1}{G}</td>\n",
       "      <td>2</td>\n",
       "      <td>G</td>\n",
       "      <td>Paolo Parente</td>\n",
       "      <td>19</td>\n",
       "      <td>Creature — Elf Warrior</td>\n",
       "      <td>As an additional cost to cast Wren's Run Vanqu...</td>\n",
       "      <td>pFNM,LRW,EVG,DD3_EVG</td>\n",
       "      <td>none</td>\n",
       "      <td>normal</td>\n",
       "      <td>394002</td>\n",
       "      <td>3</td>\n",
       "      <td>3</td>\n",
       "      <td>Uncommon</td>\n",
       "      <td>Elf,Warrior</td>\n",
       "      <td>Creature</td>\n",
       "    </tr>\n",
       "    <tr>\n",
       "      <th>172</th>\n",
       "      <td>Elvish Mystic</td>\n",
       "      <td>{G}</td>\n",
       "      <td>1</td>\n",
       "      <td>G</td>\n",
       "      <td>Wesley Burt</td>\n",
       "      <td>173</td>\n",
       "      <td>Creature — Elf Druid</td>\n",
       "      <td>{T}: Add {G} to your mana pool.</td>\n",
       "      <td>pFNM,M14,M15,C14</td>\n",
       "      <td>\"Life grows everywhere. My kin merely find tho...</td>\n",
       "      <td>normal</td>\n",
       "      <td>383229</td>\n",
       "      <td>1</td>\n",
       "      <td>1</td>\n",
       "      <td>Common</td>\n",
       "      <td>Elf,Druid</td>\n",
       "      <td>Creature</td>\n",
       "    </tr>\n",
       "    <tr>\n",
       "      <th>110</th>\n",
       "      <td>Glistener Elf</td>\n",
       "      <td>{G}</td>\n",
       "      <td>1</td>\n",
       "      <td>G</td>\n",
       "      <td>Steve Argyle</td>\n",
       "      <td>111</td>\n",
       "      <td>Creature — Elf Warrior</td>\n",
       "      <td>Infect (This creature deals damage to creature...</td>\n",
       "      <td>pFNM,NPH</td>\n",
       "      <td>\"Beg me for life, and I will fill you with the...</td>\n",
       "      <td>normal</td>\n",
       "      <td>233052</td>\n",
       "      <td>1</td>\n",
       "      <td>1</td>\n",
       "      <td>Common</td>\n",
       "      <td>Elf,Warrior</td>\n",
       "      <td>Creature</td>\n",
       "    </tr>\n",
       "    <tr>\n",
       "      <th>17</th>\n",
       "      <td>Wilt-Leaf Cavaliers</td>\n",
       "      <td>{G/W}{G/W}{G/W}</td>\n",
       "      <td>3</td>\n",
       "      <td>W,G</td>\n",
       "      <td>Steven Belledin</td>\n",
       "      <td>18</td>\n",
       "      <td>Creature — Elf Knight</td>\n",
       "      <td>Vigilance</td>\n",
       "      <td>pGTW,SHM,DDG</td>\n",
       "      <td>Every elf in Shadowmoor is charged from birth ...</td>\n",
       "      <td>normal</td>\n",
       "      <td>none</td>\n",
       "      <td>3</td>\n",
       "      <td>4</td>\n",
       "      <td>Special</td>\n",
       "      <td>Elf,Knight</td>\n",
       "      <td>Creature</td>\n",
       "    </tr>\n",
       "    <tr>\n",
       "      <th>100</th>\n",
       "      <td>Deranged Hermit</td>\n",
       "      <td>{3}{G}{G}</td>\n",
       "      <td>5</td>\n",
       "      <td>G</td>\n",
       "      <td>Kev Walker</td>\n",
       "      <td>101</td>\n",
       "      <td>Creature — Elf</td>\n",
       "      <td>Echo {3}{G}{G} (At the beginning of your upkee...</td>\n",
       "      <td>pJGP,ULG,VMA</td>\n",
       "      <td>none</td>\n",
       "      <td>normal</td>\n",
       "      <td>12458</td>\n",
       "      <td>1</td>\n",
       "      <td>1</td>\n",
       "      <td>Rare</td>\n",
       "      <td>Elf</td>\n",
       "      <td>Creature</td>\n",
       "    </tr>\n",
       "    <tr>\n",
       "      <th>202</th>\n",
       "      <td>Joraga Warcaller</td>\n",
       "      <td>{G}</td>\n",
       "      <td>1</td>\n",
       "      <td>G</td>\n",
       "      <td>Steven Belledin</td>\n",
       "      <td>203</td>\n",
       "      <td>Creature — Elf Warrior</td>\n",
       "      <td>Multikicker {1}{G} (You may pay an additional ...</td>\n",
       "      <td>pLPA,WWK,C14</td>\n",
       "      <td>none</td>\n",
       "      <td>normal</td>\n",
       "      <td>389569</td>\n",
       "      <td>1</td>\n",
       "      <td>1</td>\n",
       "      <td>Rare</td>\n",
       "      <td>Elf,Warrior</td>\n",
       "      <td>Creature</td>\n",
       "    </tr>\n",
       "    <tr>\n",
       "      <th>26</th>\n",
       "      <td>Trostani's Summoner</td>\n",
       "      <td>{5}{G}{W}</td>\n",
       "      <td>7</td>\n",
       "      <td>none</td>\n",
       "      <td>Nils Hamm</td>\n",
       "      <td>27</td>\n",
       "      <td>Creature — Elf Shaman</td>\n",
       "      <td>When Trostani's Summoner enters the battlefiel...</td>\n",
       "      <td>pMGD,DGM</td>\n",
       "      <td>none</td>\n",
       "      <td>normal</td>\n",
       "      <td>none</td>\n",
       "      <td>1</td>\n",
       "      <td>1</td>\n",
       "      <td>Special</td>\n",
       "      <td>Elf,Shaman</td>\n",
       "      <td>Creature</td>\n",
       "    </tr>\n",
       "    <tr>\n",
       "      <th>24</th>\n",
       "      <td>Zameck Guildmage</td>\n",
       "      <td>{G}{U}</td>\n",
       "      <td>2</td>\n",
       "      <td>none</td>\n",
       "      <td>Raymond Swanland</td>\n",
       "      <td>25</td>\n",
       "      <td>Creature — Elf Wizard</td>\n",
       "      <td>{G}{U}: This turn, each creature you control e...</td>\n",
       "      <td>pMGD,GTC</td>\n",
       "      <td>none</td>\n",
       "      <td>normal</td>\n",
       "      <td>none</td>\n",
       "      <td>2</td>\n",
       "      <td>2</td>\n",
       "      <td>Special</td>\n",
       "      <td>Elf,Wizard</td>\n",
       "      <td>Creature</td>\n",
       "    </tr>\n",
       "    <tr>\n",
       "      <th>193</th>\n",
       "      <td>Reclamation Sage</td>\n",
       "      <td>{2}{G}</td>\n",
       "      <td>3</td>\n",
       "      <td>G</td>\n",
       "      <td>Christopher Moeller</td>\n",
       "      <td>194</td>\n",
       "      <td>Creature — Elf Shaman</td>\n",
       "      <td>When Reclamation Sage enters the battlefield, ...</td>\n",
       "      <td>pMGD,M15,C14</td>\n",
       "      <td>\"What was once formed by masons, shaped by smi...</td>\n",
       "      <td>normal</td>\n",
       "      <td>383359</td>\n",
       "      <td>2</td>\n",
       "      <td>1</td>\n",
       "      <td>Uncommon</td>\n",
       "      <td>Elf,Shaman</td>\n",
       "      <td>Creature</td>\n",
       "    </tr>\n",
       "    <tr>\n",
       "      <th>100</th>\n",
       "      <td>Allosaurus Rider</td>\n",
       "      <td>{5}{G}{G}</td>\n",
       "      <td>7</td>\n",
       "      <td>G</td>\n",
       "      <td>Daren Bader</td>\n",
       "      <td>101</td>\n",
       "      <td>Creature — Elf Warrior</td>\n",
       "      <td>You may exile two green cards from your hand r...</td>\n",
       "      <td>pPRE,CSP,EVG,DD3_EVG</td>\n",
       "      <td>none</td>\n",
       "      <td>normal</td>\n",
       "      <td>121157</td>\n",
       "      <td>1+*</td>\n",
       "      <td>1+*</td>\n",
       "      <td>Rare</td>\n",
       "      <td>Elf,Warrior</td>\n",
       "      <td>Creature</td>\n",
       "    </tr>\n",
       "    <tr>\n",
       "      <th>226</th>\n",
       "      <td>Wren's Run Packmaster</td>\n",
       "      <td>{3}{G}</td>\n",
       "      <td>4</td>\n",
       "      <td>G</td>\n",
       "      <td>Mark Zug</td>\n",
       "      <td>227</td>\n",
       "      <td>Creature — Elf Warrior</td>\n",
       "      <td>Champion an Elf (When this creature enters the...</td>\n",
       "      <td>pPRE,LRW,C14</td>\n",
       "      <td>none</td>\n",
       "      <td>normal</td>\n",
       "      <td>389755</td>\n",
       "      <td>5</td>\n",
       "      <td>5</td>\n",
       "      <td>Rare</td>\n",
       "      <td>Elf,Warrior</td>\n",
       "      <td>Creature</td>\n",
       "    </tr>\n",
       "    <tr>\n",
       "      <th>95</th>\n",
       "      <td>Glissa, the Traitor</td>\n",
       "      <td>{B}{G}{G}</td>\n",
       "      <td>3</td>\n",
       "      <td>B,G</td>\n",
       "      <td>Chris Rahn</td>\n",
       "      <td>96</td>\n",
       "      <td>Legendary Creature — Zombie Elf</td>\n",
       "      <td>First strike, deathtouch\\nWhenever a creature ...</td>\n",
       "      <td>pPRE,MBS</td>\n",
       "      <td>none</td>\n",
       "      <td>normal</td>\n",
       "      <td>214072</td>\n",
       "      <td>3</td>\n",
       "      <td>3</td>\n",
       "      <td>Mythic Rare</td>\n",
       "      <td>Zombie,Elf</td>\n",
       "      <td>Creature</td>\n",
       "    </tr>\n",
       "    <tr>\n",
       "      <th>239</th>\n",
       "      <td>Elvish Champion</td>\n",
       "      <td>{1}{G}{G}</td>\n",
       "      <td>3</td>\n",
       "      <td>G</td>\n",
       "      <td>Paolo Parente</td>\n",
       "      <td>240</td>\n",
       "      <td>Creature — Elf</td>\n",
       "      <td>Other Elf creatures get +1/+1 and have forestw...</td>\n",
       "      <td>pSUS,INV,7ED,8ED,9ED,10E,DPA</td>\n",
       "      <td>\"For what are leaves but countless blades\\nTo ...</td>\n",
       "      <td>normal</td>\n",
       "      <td>11582</td>\n",
       "      <td>2</td>\n",
       "      <td>2</td>\n",
       "      <td>Rare</td>\n",
       "      <td>Elf</td>\n",
       "      <td>Creature</td>\n",
       "    </tr>\n",
       "    <tr>\n",
       "      <th>121</th>\n",
       "      <td>Naya Sojourners</td>\n",
       "      <td>{2}{R}{G}{W}</td>\n",
       "      <td>5</td>\n",
       "      <td>W,R,G</td>\n",
       "      <td>John Avon</td>\n",
       "      <td>122</td>\n",
       "      <td>Creature — Elf Shaman</td>\n",
       "      <td>When you cycle Naya Sojourners or it dies, you...</td>\n",
       "      <td>pWPN,ARB</td>\n",
       "      <td>The elves had entered a land like an open grav...</td>\n",
       "      <td>normal</td>\n",
       "      <td>188970</td>\n",
       "      <td>5</td>\n",
       "      <td>3</td>\n",
       "      <td>Common</td>\n",
       "      <td>Elf,Shaman</td>\n",
       "      <td>Creature</td>\n",
       "    </tr>\n",
       "    <tr>\n",
       "      <th>215</th>\n",
       "      <td>Sylvan Ranger</td>\n",
       "      <td>{1}{G}</td>\n",
       "      <td>2</td>\n",
       "      <td>G</td>\n",
       "      <td>Christopher Moeller</td>\n",
       "      <td>216</td>\n",
       "      <td>Creature — Elf Scout</td>\n",
       "      <td>When Sylvan Ranger enters the battlefield, you...</td>\n",
       "      <td>pWPN,M11,DDH,C14</td>\n",
       "      <td>\"Not all paths are found on the forest floor.\"</td>\n",
       "      <td>normal</td>\n",
       "      <td>389708</td>\n",
       "      <td>1</td>\n",
       "      <td>1</td>\n",
       "      <td>Common</td>\n",
       "      <td>Elf,Scout</td>\n",
       "      <td>Creature</td>\n",
       "    </tr>\n",
       "    <tr>\n",
       "      <th>12</th>\n",
       "      <td>Nissa's Chosen</td>\n",
       "      <td>{G}{G}</td>\n",
       "      <td>2</td>\n",
       "      <td>G</td>\n",
       "      <td>Sam Wood</td>\n",
       "      <td>34</td>\n",
       "      <td>Creature — Elf Warrior</td>\n",
       "      <td>If Nissa's Chosen would die, put it on the bot...</td>\n",
       "      <td>pWPN,ZEN</td>\n",
       "      <td>none</td>\n",
       "      <td>normal</td>\n",
       "      <td>none</td>\n",
       "      <td>2</td>\n",
       "      <td>3</td>\n",
       "      <td>Special</td>\n",
       "      <td>Elf,Warrior</td>\n",
       "      <td>Creature</td>\n",
       "    </tr>\n",
       "  </tbody>\n",
       "</table>\n",
       "<p>305 rows × 17 columns</p>\n",
       "</div>"
      ],
      "text/plain": [
       "                        name         manaCost cmc colorIdentity  \\\n",
       "98      Viridian Lorebearers           {3}{G}   4             G   \n",
       "99            Viridian Scout           {3}{G}   4             G   \n",
       "88              Joiner Adept           {1}{G}   2             G   \n",
       "123        Behemoth's Herald              {G}   1             G   \n",
       "126               Cylian Elf           {1}{G}   2             G   \n",
       "127       Druid of the Anima           {1}{G}   2         G,R,W   \n",
       "132               Godtoucher           {3}{G}   4           G,W   \n",
       "134     Keeper of Progenitus           {3}{G}   4             G   \n",
       "145      Sacellum Godspeaker           {2}{G}   3             G   \n",
       "178         Mayael the Anima        {R}{G}{W}   3         W,R,G   \n",
       "56            Fyndhorn Druid           {2}{G}   3             G   \n",
       "235              Elvish Bard        {3}{G}{G}   5             G   \n",
       "158      Elvish Spirit Guide           {2}{G}   3             G   \n",
       "169                    Kaysa        {3}{G}{G}   5             G   \n",
       "157            Elvish Ranger           {2}{G}   3             G   \n",
       "100           Gaea's Skyfolk           {G}{U}   2           U,G   \n",
       "108            Llanowar Dead           {B}{G}   2           B,G   \n",
       "89                Urborg Elf           {1}{G}   2         G,U,B   \n",
       "11          Sylvan Messenger           {3}{G}   4             G   \n",
       "54        Godtracker of Jund        {1}{R}{G}   3           R,G   \n",
       "102       Sages of the Anima        {3}{G}{U}   5           U,G   \n",
       "140           Naya Hushblade         {R/W}{G}   2         W,R,G   \n",
       "245       Beastcaller Savant           {1}{G}   2          none   \n",
       "176         Lifespring Druid           {2}{G}   3             G   \n",
       "192       Tajuru Beastmaster           {5}{G}   6             G   \n",
       "193          Tajuru Stalwart           {2}{G}   3             G   \n",
       "194         Tajuru Warcaller        {3}{G}{G}   5             G   \n",
       "211       Grovetender Druids        {2}{G}{W}   4           W,G   \n",
       "219             Skyrider Elf        {X}{G}{U}   2           U,G   \n",
       "43   Ezuri, Claw of Progress        {2}{G}{U}   4           U,G   \n",
       "..                       ...              ...  ..           ...   \n",
       "115         Vastwood Animist           {2}{G}   3             G   \n",
       "159                Arbor Elf              {G}   1             G   \n",
       "190        Turntimber Ranger        {3}{G}{G}   5             G   \n",
       "171       Oracle of Mul Daya           {3}{G}   4             G   \n",
       "22             Tajuru Archer           {2}{G}   3             G   \n",
       "16               Joraga Bard           {3}{G}   4             G   \n",
       "11            Frontier Guide           {1}{G}   2             G   \n",
       "163        Greenweaver Druid           {2}{G}   3             G   \n",
       "81            Coiling Oracle           {G}{U}   2          none   \n",
       "50         Elvish Aberration           {5}{G}   6          none   \n",
       "201        Imperious Perfect           {2}{G}   3             G   \n",
       "10       Bramblewood Paragon           {1}{G}   2             G   \n",
       "129         Elvish Visionary           {1}{G}   2             G   \n",
       "49            Bloodbraid Elf        {2}{R}{G}   4           R,G   \n",
       "18     Wren's Run Vanquisher           {1}{G}   2             G   \n",
       "172            Elvish Mystic              {G}   1             G   \n",
       "110            Glistener Elf              {G}   1             G   \n",
       "17       Wilt-Leaf Cavaliers  {G/W}{G/W}{G/W}   3           W,G   \n",
       "100          Deranged Hermit        {3}{G}{G}   5             G   \n",
       "202         Joraga Warcaller              {G}   1             G   \n",
       "26       Trostani's Summoner        {5}{G}{W}   7          none   \n",
       "24          Zameck Guildmage           {G}{U}   2          none   \n",
       "193         Reclamation Sage           {2}{G}   3             G   \n",
       "100         Allosaurus Rider        {5}{G}{G}   7             G   \n",
       "226    Wren's Run Packmaster           {3}{G}   4             G   \n",
       "95       Glissa, the Traitor        {B}{G}{G}   3           B,G   \n",
       "239          Elvish Champion        {1}{G}{G}   3             G   \n",
       "121          Naya Sojourners     {2}{R}{G}{W}   5         W,R,G   \n",
       "215            Sylvan Ranger           {1}{G}   2             G   \n",
       "12            Nissa's Chosen           {G}{G}   2             G   \n",
       "\n",
       "                     artist number                              type  \\\n",
       "98            Darrell Riche     99             Creature — Elf Shaman   \n",
       "99              Daren Bader    100      Creature — Elf Warrior Scout   \n",
       "88         Christopher Rush     89              Creature — Elf Druid   \n",
       "123           Paolo Parente    124             Creature — Elf Shaman   \n",
       "126          Steve Prescott    127              Creature — Elf Scout   \n",
       "127              Jim Murray    128              Creature — Elf Druid   \n",
       "132           Jesper Ejsing    133             Creature — Elf Cleric   \n",
       "134              Kev Walker    135              Creature — Elf Druid   \n",
       "145          Wayne Reynolds    146              Creature — Elf Druid   \n",
       "178              Jason Chan    179   Legendary Creature — Elf Shaman   \n",
       "56            Rob Alexander   none              Creature — Elf Druid   \n",
       "235           Rob Alexander    236             Creature — Elf Shaman   \n",
       "158             Julie Baroh    159             Creature — Elf Spirit   \n",
       "169            Rebecca Guay    170    Legendary Creature — Elf Druid   \n",
       "157          Terese Nielsen    158                    Creature — Elf   \n",
       "100          Terese Nielsen    101            Creature — Elf Merfolk   \n",
       "108            Ben Thompson    109             Creature — Zombie Elf   \n",
       "89              Bob Petillo     90              Creature — Elf Druid   \n",
       "11           Heather Hudson     12                    Creature — Elf   \n",
       "54             Justin Sweet     55             Creature — Elf Shaman   \n",
       "102              Kev Walker    103             Creature — Elf Wizard   \n",
       "140              Jason Chan    141              Creature — Elf Rogue   \n",
       "245         Anthony Palumbo    244        Creature — Elf Shaman Ally   \n",
       "176           Willian Murai    177              Creature — Elf Druid   \n",
       "192          Greg Opalinski    193       Creature — Elf Warrior Ally   \n",
       "193             Wesley Burt    194         Creature — Elf Scout Ally   \n",
       "194  Anastasia Ovchinnikova    195       Creature — Elf Warrior Ally   \n",
       "211             Chase Stone    212         Creature — Elf Druid Ally   \n",
       "219               Dan Scott    220       Creature — Elf Warrior Ally   \n",
       "43              James Ryman     44  Legendary Creature — Elf Warrior   \n",
       "..                      ...    ...                               ...   \n",
       "115        Raymond Swanland    116        Creature — Elf Shaman Ally   \n",
       "159                 rk post    160              Creature — Elf Druid   \n",
       "190          Wayne Reynolds    191         Creature — Elf Scout Ally   \n",
       "171            Vance Kovacs    172             Creature — Elf Shaman   \n",
       "22               Chris Rahn     23        Creature — Elf Archer Ally   \n",
       "16              Volkan Baga     17         Creature — Elf Rogue Ally   \n",
       "11           Wayne Reynolds     12              Creature — Elf Scout   \n",
       "163            Justin Sweet    164              Creature — Elf Druid   \n",
       "81                 Mark Zug     82        Creature — Snake Elf Druid   \n",
       "50             Matt Cavotta     51             Creature — Elf Mutant   \n",
       "201        Scott M. Fischer    202            Creature — Elf Warrior   \n",
       "10               Jim Murray     11            Creature — Elf Warrior   \n",
       "129    D. Alexander Gregory    130             Creature — Elf Shaman   \n",
       "49         Dominick Domingo     50          Creature — Elf Berserker   \n",
       "18            Paolo Parente     19            Creature — Elf Warrior   \n",
       "172             Wesley Burt    173              Creature — Elf Druid   \n",
       "110            Steve Argyle    111            Creature — Elf Warrior   \n",
       "17          Steven Belledin     18             Creature — Elf Knight   \n",
       "100              Kev Walker    101                    Creature — Elf   \n",
       "202         Steven Belledin    203            Creature — Elf Warrior   \n",
       "26                Nils Hamm     27             Creature — Elf Shaman   \n",
       "24         Raymond Swanland     25             Creature — Elf Wizard   \n",
       "193     Christopher Moeller    194             Creature — Elf Shaman   \n",
       "100             Daren Bader    101            Creature — Elf Warrior   \n",
       "226                Mark Zug    227            Creature — Elf Warrior   \n",
       "95               Chris Rahn     96   Legendary Creature — Zombie Elf   \n",
       "239           Paolo Parente    240                    Creature — Elf   \n",
       "121               John Avon    122             Creature — Elf Shaman   \n",
       "215     Christopher Moeller    216              Creature — Elf Scout   \n",
       "12                 Sam Wood     34            Creature — Elf Warrior   \n",
       "\n",
       "                                                  text  \\\n",
       "98   {3}{G}, {T}: Target creature gets +X/+X until ...   \n",
       "99   {2}{G}, Sacrifice Viridian Scout: Viridian Sco...   \n",
       "88   Lands you control have \"{T}: Add one mana of a...   \n",
       "123  {2}{G}, {T}, Sacrifice a red creature, a green...   \n",
       "126                                               none   \n",
       "127       {T}: Add {R}, {G}, or {W} to your mana pool.   \n",
       "132  {1}{W}, {T}: Prevent all damage that would be ...   \n",
       "134  Whenever a player taps a Mountain, Forest, or ...   \n",
       "145  {T}: Reveal any number of creature cards with ...   \n",
       "178  {3}{R}{G}{W}, {T}: Look at the top five cards ...   \n",
       "56   When Fyndhorn Druid dies, if it was blocked th...   \n",
       "235     All creatures able to block Elvish Bard do so.   \n",
       "158  Exile Elvish Spirit Guide from your hand: Add ...   \n",
       "169             Green creatures you control get +1/+1.   \n",
       "157                                               none   \n",
       "100                                             Flying   \n",
       "108                    {T}: Add {B} to your mana pool.   \n",
       "89        {T}: Add {G}, {U}, or {B} to your mana pool.   \n",
       "11   Trample (This creature can deal excess combat ...   \n",
       "54   Whenever a creature with power 5 or greater en...   \n",
       "102  If you would draw a card, instead reveal the t...   \n",
       "140  As long as you control another multicolored pe...   \n",
       "245  Haste\\n{T}: Add one mana of any color to your ...   \n",
       "176  {T}: Add one mana of any color to your mana pool.   \n",
       "192  Rally — Whenever Tajuru Beastmaster or another...   \n",
       "193  Converge — Tajuru Stalwart enters the battlefi...   \n",
       "194  Rally — Whenever Tajuru Warcaller or another A...   \n",
       "211  Rally — Whenever Grovetender Druids or another...   \n",
       "219  Flying\\nConverge — Skyrider Elf enters the bat...   \n",
       "43   Whenever a creature with power 2 or less enter...   \n",
       "..                                                 ...   \n",
       "115  {T}: Target land you control becomes an X/X El...   \n",
       "159                          {T}: Untap target Forest.   \n",
       "190  Whenever Turntimber Ranger or another Ally ent...   \n",
       "171  You may play an additional land on each of you...   \n",
       "22   Whenever Tajuru Archer or another Ally enters ...   \n",
       "16   Whenever Joraga Bard or another Ally enters th...   \n",
       "11   {3}{G}, {T}: Search your library for a basic l...   \n",
       "163                 {T}: Add {G}{G} to your mana pool.   \n",
       "81   When Coiling Oracle enters the battlefield, re...   \n",
       "50   {T}: Add {G}{G}{G} to your mana pool.\\nForestc...   \n",
       "201  Other Elf creatures you control get +1/+1.\\n{G...   \n",
       "10   Each other Warrior creature you control enters...   \n",
       "129  When Elvish Visionary enters the battlefield, ...   \n",
       "49   Haste\\nCascade (When you cast this spell, exil...   \n",
       "18   As an additional cost to cast Wren's Run Vanqu...   \n",
       "172                    {T}: Add {G} to your mana pool.   \n",
       "110  Infect (This creature deals damage to creature...   \n",
       "17                                           Vigilance   \n",
       "100  Echo {3}{G}{G} (At the beginning of your upkee...   \n",
       "202  Multikicker {1}{G} (You may pay an additional ...   \n",
       "26   When Trostani's Summoner enters the battlefiel...   \n",
       "24   {G}{U}: This turn, each creature you control e...   \n",
       "193  When Reclamation Sage enters the battlefield, ...   \n",
       "100  You may exile two green cards from your hand r...   \n",
       "226  Champion an Elf (When this creature enters the...   \n",
       "95   First strike, deathtouch\\nWhenever a creature ...   \n",
       "239  Other Elf creatures get +1/+1 and have forestw...   \n",
       "121  When you cycle Naya Sojourners or it dies, you...   \n",
       "215  When Sylvan Ranger enters the battlefield, you...   \n",
       "12   If Nissa's Chosen would die, put it on the bot...   \n",
       "\n",
       "                            printings  \\\n",
       "98                                5DN   \n",
       "99                                5DN   \n",
       "88                            5DN,10E   \n",
       "123                               ALA   \n",
       "126                               ALA   \n",
       "127                               ALA   \n",
       "132                               ALA   \n",
       "134                               ALA   \n",
       "145                               ALA   \n",
       "178                           ALA,C13   \n",
       "56                                ALL   \n",
       "235                       ALL,DKM,9ED   \n",
       "158                           ALL,ME2   \n",
       "169                           ALL,ME2   \n",
       "157                       ALL,POR,ME2   \n",
       "100                               APC   \n",
       "108                               APC   \n",
       "89                                APC   \n",
       "11                APC,EVG,DD3_EVG,ORI   \n",
       "54                                ARB   \n",
       "102                               ARB   \n",
       "140                               ARB   \n",
       "245                               BFZ   \n",
       "176                               BFZ   \n",
       "192                               BFZ   \n",
       "193                               BFZ   \n",
       "194                               BFZ   \n",
       "211                               BFZ   \n",
       "219                               BFZ   \n",
       "43                                C15   \n",
       "..                                ...   \n",
       "115                               WWK   \n",
       "159                           WWK,M13   \n",
       "190                               ZEN   \n",
       "171                               ZEN   \n",
       "22                            ZEN,DDP   \n",
       "16                            ZEN,DDP   \n",
       "11                            ZEN,DDP   \n",
       "163                           ZEN,DPA   \n",
       "81                   pARL,DIS,DDO,C15   \n",
       "50               pARL,SCG,CMD,CNS,VMA   \n",
       "201  pCMP,LRW,EVG,DPA,C14,DD3_EVG,EMA   \n",
       "10                           pCMP,MOR   \n",
       "129  pFNM,ALA,M10,DPA,M13,C14,ORI,C15   \n",
       "49                   pFNM,ARB,PC2,EMA   \n",
       "18               pFNM,LRW,EVG,DD3_EVG   \n",
       "172                  pFNM,M14,M15,C14   \n",
       "110                          pFNM,NPH   \n",
       "17                       pGTW,SHM,DDG   \n",
       "100                      pJGP,ULG,VMA   \n",
       "202                      pLPA,WWK,C14   \n",
       "26                           pMGD,DGM   \n",
       "24                           pMGD,GTC   \n",
       "193                      pMGD,M15,C14   \n",
       "100              pPRE,CSP,EVG,DD3_EVG   \n",
       "226                      pPRE,LRW,C14   \n",
       "95                           pPRE,MBS   \n",
       "239      pSUS,INV,7ED,8ED,9ED,10E,DPA   \n",
       "121                          pWPN,ARB   \n",
       "215                  pWPN,M11,DDH,C14   \n",
       "12                           pWPN,ZEN   \n",
       "\n",
       "                                                flavor  layout multiverseid  \\\n",
       "98   A small band of elves pledged many years ago t...  normal        50188   \n",
       "99   They know a hoverguard's only blind spot is di...  normal        73583   \n",
       "88   A talented apprentice makes all things. The ma...  normal        72928   \n",
       "123  \"Mine is an insatiable god, with appetites as ...  normal       175263   \n",
       "126  From her sunsail tent high above the forest fl...  normal       174935   \n",
       "127  Although the Anima herself remains at the Sace...  normal       174903   \n",
       "132  \"Gargantuans die not in moments but in moons. ...  normal       174822   \n",
       "134  He watches over the valley where Progenitus sl...  normal       175033   \n",
       "145  Her connection to the gargantuans puts her in ...  normal       174828   \n",
       "178  The sacred Anima's eyes are blind to all but t...  normal       175058   \n",
       "56   \"Honor those who honor Fyndhorn above themselv...  normal         3135   \n",
       "235  Helplessly drawn in, the bard's enemies quickl...  normal        82960   \n",
       "158  \"We are never without guidance, if we but seek...  normal       184542   \n",
       "169  Kaysa speaks as the elder druid, but Yavimaya ...  normal       184553   \n",
       "157  \"How can any human hope to match our skills? W...  normal       184691   \n",
       "100  The grace of the forest and the spirit of the ...  normal        26757   \n",
       "108  Just as leaves fall from the branches of a liv...  normal        26759   \n",
       "89   The elves of Urborg are as deadly and capricio...  normal        26717   \n",
       "11                                                none  normal       393990   \n",
       "54   \"The behemoths are content to graze like cattl...  normal       183994   \n",
       "102  Godtrackers found new pantheons of beast-gods ...  normal       180601   \n",
       "140                                               none  normal       188969   \n",
       "245  \"They come because I call. They stay because I...  normal         none   \n",
       "176  \"The land is not dead, merely sick. I will nur...  normal       401940   \n",
       "192  \"My mount needs neither reins nor bridle. We b...  normal       402066   \n",
       "193  \"In its time of hardship, all of Zendikar crie...  normal       402067   \n",
       "194  Her rallying cry reaches far beyond the Tajuru...  normal       402068   \n",
       "211  \"The seedlings scream for us to loose them upo...  normal       401904   \n",
       "219  \"It may be unconventional, but I'll take any s...  normal       402039   \n",
       "43                                                none  normal       405221   \n",
       "..                                                 ...     ...          ...   \n",
       "115  He calls on the forests for counsel and summon...  normal       201566   \n",
       "159  \"The forest will surround you with its life if...  normal       249840   \n",
       "190                          The lone wolf dies alone.  normal       169971   \n",
       "171                                               none  normal       185737   \n",
       "22                                                none  normal       401665   \n",
       "16   Adventuring bards recite Chanter's Epics, neve...  normal       401659   \n",
       "11   \"The elders say Zendikar has no safe, peaceful...  normal       401654   \n",
       "163  The other tribes call them fanatics, but none ...  normal       185694   \n",
       "81   Snaking remnants of nature directed by a body ...  normal         none   \n",
       "50                                                none  normal         none   \n",
       "201  In a culture of beauty, the most beautiful are...  normal       389554   \n",
       "10                                                none  normal         none   \n",
       "129  Before any major undertaking, a Cylian elf see...  normal       175124   \n",
       "49                                                none  normal       185053   \n",
       "18                                                none  normal       394002   \n",
       "172  \"Life grows everywhere. My kin merely find tho...  normal       383229   \n",
       "110  \"Beg me for life, and I will fill you with the...  normal       233052   \n",
       "17   Every elf in Shadowmoor is charged from birth ...  normal         none   \n",
       "100                                               none  normal        12458   \n",
       "202                                               none  normal       389569   \n",
       "26                                                none  normal         none   \n",
       "24                                                none  normal         none   \n",
       "193  \"What was once formed by masons, shaped by smi...  normal       383359   \n",
       "100                                               none  normal       121157   \n",
       "226                                               none  normal       389755   \n",
       "95                                                none  normal       214072   \n",
       "239  \"For what are leaves but countless blades\\nTo ...  normal        11582   \n",
       "121  The elves had entered a land like an open grav...  normal       188970   \n",
       "215     \"Not all paths are found on the forest floor.\"  normal       389708   \n",
       "12                                                none  normal         none   \n",
       "\n",
       "    power toughness       rarity           subtypes     types  \n",
       "98      3         3     Uncommon         Elf,Shaman  Creature  \n",
       "99      1         2       Common  Elf,Warrior,Scout  Creature  \n",
       "88      2         1         Rare          Elf,Druid  Creature  \n",
       "123     1         1     Uncommon         Elf,Shaman  Creature  \n",
       "126     2         2       Common          Elf,Scout  Creature  \n",
       "127     1         1       Common          Elf,Druid  Creature  \n",
       "132     2         2       Common         Elf,Cleric  Creature  \n",
       "134     1         3         Rare          Elf,Druid  Creature  \n",
       "145     2         2         Rare          Elf,Druid  Creature  \n",
       "178     2         3  Mythic Rare         Elf,Shaman  Creature  \n",
       "56      2         2       Common          Elf,Druid  Creature  \n",
       "235     2         4     Uncommon         Elf,Shaman  Creature  \n",
       "158     2         2     Uncommon         Elf,Spirit  Creature  \n",
       "169     2         3         Rare          Elf,Druid  Creature  \n",
       "157     4         1       Common                Elf  Creature  \n",
       "100     2         2       Common        Elf,Merfolk  Creature  \n",
       "108     2         2       Common         Zombie,Elf  Creature  \n",
       "89      1         1       Common          Elf,Druid  Creature  \n",
       "11      2         2     Uncommon                Elf  Creature  \n",
       "54      2         2       Common         Elf,Shaman  Creature  \n",
       "102     3         4         Rare         Elf,Wizard  Creature  \n",
       "140     2         1       Common          Elf,Rogue  Creature  \n",
       "245     1         1      Special    Elf,Shaman,Ally  Creature  \n",
       "176     2         1       Common          Elf,Druid  Creature  \n",
       "192     5         5       Common   Elf,Warrior,Ally  Creature  \n",
       "193     0         1       Common     Elf,Scout,Ally  Creature  \n",
       "194     2         1     Uncommon   Elf,Warrior,Ally  Creature  \n",
       "211     3         3     Uncommon     Elf,Druid,Ally  Creature  \n",
       "219     0         0     Uncommon   Elf,Warrior,Ally  Creature  \n",
       "43      3         3  Mythic Rare        Elf,Warrior  Creature  \n",
       "..    ...       ...          ...                ...       ...  \n",
       "115     1         1     Uncommon    Elf,Shaman,Ally  Creature  \n",
       "159     1         1       Common          Elf,Druid  Creature  \n",
       "190     2         2         Rare     Elf,Scout,Ally  Creature  \n",
       "171     2         2         Rare         Elf,Shaman  Creature  \n",
       "22      1         2     Uncommon    Elf,Archer,Ally  Creature  \n",
       "16      1         4       Common     Elf,Rogue,Ally  Creature  \n",
       "11      1         1     Uncommon          Elf,Scout  Creature  \n",
       "163     1         1     Uncommon          Elf,Druid  Creature  \n",
       "81      1         1      Special    Snake,Elf,Druid  Creature  \n",
       "50      4         5      Special         Elf,Mutant  Creature  \n",
       "201     2         2     Uncommon        Elf,Warrior  Creature  \n",
       "10      2         2      Special        Elf,Warrior  Creature  \n",
       "129     1         1       Common         Elf,Shaman  Creature  \n",
       "49      3         2     Uncommon      Elf,Berserker  Creature  \n",
       "18      3         3     Uncommon        Elf,Warrior  Creature  \n",
       "172     1         1       Common          Elf,Druid  Creature  \n",
       "110     1         1       Common        Elf,Warrior  Creature  \n",
       "17      3         4      Special         Elf,Knight  Creature  \n",
       "100     1         1         Rare                Elf  Creature  \n",
       "202     1         1         Rare        Elf,Warrior  Creature  \n",
       "26      1         1      Special         Elf,Shaman  Creature  \n",
       "24      2         2      Special         Elf,Wizard  Creature  \n",
       "193     2         1     Uncommon         Elf,Shaman  Creature  \n",
       "100   1+*       1+*         Rare        Elf,Warrior  Creature  \n",
       "226     5         5         Rare        Elf,Warrior  Creature  \n",
       "95      3         3  Mythic Rare         Zombie,Elf  Creature  \n",
       "239     2         2         Rare                Elf  Creature  \n",
       "121     5         3       Common         Elf,Shaman  Creature  \n",
       "215     1         1       Common          Elf,Scout  Creature  \n",
       "12      2         3      Special        Elf,Warrior  Creature  \n",
       "\n",
       "[305 rows x 17 columns]"
      ]
     },
     "execution_count": 5,
     "metadata": {},
     "output_type": "execute_result"
    }
   ],
   "source": [
    "# Filter based on type containing 'elf'\n",
    "card_type = \"elf\"\n",
    "elves_all = get_subtype_df(data_sets, card_type)\n",
    "# Get all sets that contain elves\n",
    "elf_sets = elves_all[\"printings\"].values\n",
    "\n",
    "print(\"Number of unique %s cards: %d\" %(card_type, elves_all.shape[0]))\n",
    "elves_all"
   ]
  },
  {
   "cell_type": "markdown",
   "metadata": {
    "deletable": true,
    "editable": true
   },
   "source": [
    "### Load Images\n",
    "Load images from the sets that have been pre-sized and examined.\n",
    "\n",
    "All sets in the `/data/images/set_dimensions_big.csv` are legitimate, and have had their card art properly bordered."
   ]
  },
  {
   "cell_type": "code",
   "execution_count": 6,
   "metadata": {
    "collapsed": true,
    "deletable": true,
    "editable": true
   },
   "outputs": [],
   "source": [
    "# Load all image directory names\n",
    "images_path = \"../data/images/sets\"\n",
    "sets = os.listdir(images_path)\n",
    "\n",
    "# Load preconfigured set_dimensions file\n",
    "sets_dimensions = pd.read_csv(\"../data/images/set_dimensions_big.csv\",header=0)"
   ]
  },
  {
   "cell_type": "code",
   "execution_count": 7,
   "metadata": {
    "collapsed": false,
    "deletable": true,
    "editable": true,
    "scrolled": true
   },
   "outputs": [
    {
     "name": "stdout",
     "output_type": "stream",
     "text": [
      "435\n",
      "Number of elf card images: 435\n",
      "Dimensions of images: (135, 183, 3)\n"
     ]
    }
   ],
   "source": [
    "subtype = 'elf'\n",
    "\n",
    "pics = load_images_type_dim(sets_dimensions, subtype, images_path)\n",
    "print(len(pics))\n",
    "print(\"Number of %s card images: %d\" %(subtype, len(pics)))\n",
    "print(\"Dimensions of images:\", pics[0].shape)\n",
    "\n",
    "# for image in pics:\n",
    "#     plt.figure()\n",
    "#     plt.imshow(image)"
   ]
  },
  {
   "cell_type": "code",
   "execution_count": 9,
   "metadata": {
    "collapsed": false,
    "deletable": true,
    "editable": true
   },
   "outputs": [
    {
     "data": {
      "text/plain": [
       "(435, 135, 183, 3)"
      ]
     },
     "execution_count": 9,
     "metadata": {},
     "output_type": "execute_result"
    }
   ],
   "source": [
    "# Explore image data\n",
    "pics = np.asarray(pics)\n",
    "pics.shape"
   ]
  },
  {
   "cell_type": "markdown",
   "metadata": {
    "deletable": true,
    "editable": true
   },
   "source": [
    "### Set up train/test split"
   ]
  },
  {
   "cell_type": "code",
   "execution_count": 10,
   "metadata": {
    "collapsed": true,
    "deletable": true,
    "editable": true
   },
   "outputs": [],
   "source": [
    "# Create labels. Half the data will be assigned 0, and half 1. \n",
    "# These labels won't really be used, but they're there just in\n",
    "# case we need them. GANs are more unsupervised anyway.\n",
    "labels = np.zeros(pics.shape[0],dtype=np.int8)\n",
    "# Assign half of the labels to 1\n",
    "labels[int(labels.shape[0]/2):]=1\n",
    "\n",
    "indices = np.random.permutation(pics.shape[0])\n",
    "\n",
    "train_split = 0.6\n",
    "rand_seed = 42\n",
    "X_train, X_test, y_train, y_test = train_test_split(\n",
    "        pics, indices, test_size=1-train_split, random_state = rand_seed)\n"
   ]
  },
  {
   "cell_type": "markdown",
   "metadata": {
    "deletable": true,
    "editable": true
   },
   "source": [
    "### Set Up GAN"
   ]
  },
  {
   "cell_type": "code",
   "execution_count": 11,
   "metadata": {
    "collapsed": true,
    "deletable": true,
    "editable": true
   },
   "outputs": [],
   "source": [
    "def initNormal(shape, name):\n",
    "    return initializers.normal(shape, scale=0.02, name=name)\n",
    "\n",
    "randomDim = 100\n",
    "\n",
    "# Optimizer\n",
    "adam = Adam(lr=0.0002, beta_1=0.5)"
   ]
  },
  {
   "cell_type": "code",
   "execution_count": 12,
   "metadata": {
    "collapsed": false,
    "deletable": true,
    "editable": true
   },
   "outputs": [
    {
     "name": "stdout",
     "output_type": "stream",
     "text": [
      "Picture shape: (435, 135, 183, 3)\n"
     ]
    }
   ],
   "source": [
    "# Generator inputs\n",
    "print(\"Picture shape:\", pics.shape)\n",
    "# In = 100\n",
    "# Out = dim x dim x depth\n",
    "depth = 64 + 64 + 64 + 64\n",
    "dim = ()"
   ]
  },
  {
   "cell_type": "markdown",
   "metadata": {
    "deletable": true,
    "editable": true
   },
   "source": [
    "#### Generator"
   ]
  },
  {
   "cell_type": "code",
   "execution_count": 13,
   "metadata": {
    "collapsed": true,
    "deletable": true,
    "editable": true
   },
   "outputs": [],
   "source": [
    "generator = Sequential()\n",
    "generator.add(Dense(256, input_dim=randomDim))\n",
    "generator.add(LeakyReLU(0.2))\n",
    "generator.add(Dense(512))\n",
    "generator.add(LeakyReLU(0.2))\n",
    "generator.add(Dense(1024))\n",
    "generator.add(LeakyReLU(0.2))\n",
    "generator.add(Dense(74115, activation='tanh'))\n",
    "generator.compile(loss='binary_crossentropy', optimizer=adam)"
   ]
  },
  {
   "cell_type": "code",
   "execution_count": 16,
   "metadata": {
    "collapsed": false,
    "deletable": true,
    "editable": true
   },
   "outputs": [],
   "source": [
    "gen = Sequential()\n",
    "gen.add(Dense(256, input_dim=randomDim))\n",
    "generator.add(LeakyReLU(0.2))\n",
    "gen.add(Dropout(dropout))\n"
   ]
  },
  {
   "cell_type": "code",
   "execution_count": 15,
   "metadata": {
    "collapsed": false,
    "deletable": true,
    "editable": true
   },
   "outputs": [
    {
     "name": "stdout",
     "output_type": "stream",
     "text": [
      "Picture shape: (435, 135, 183, 3)\n"
     ]
    }
   ],
   "source": [
    "# Discriminator input information\n",
    "print(\"Picture shape:\", pics.shape)\n",
    "# In = 135 x 183 x 3\n",
    "# Out = 33 x 45 x 3\n",
    "depth = 64\n",
    "dropout = 0.4"
   ]
  },
  {
   "cell_type": "markdown",
   "metadata": {
    "deletable": true,
    "editable": true
   },
   "source": [
    "#### Discriminator"
   ]
  },
  {
   "cell_type": "code",
   "execution_count": 17,
   "metadata": {
    "collapsed": true,
    "deletable": true,
    "editable": true
   },
   "outputs": [],
   "source": [
    "# Dense network\n",
    "#model.add(Dense(nb_neurons, activation=activation, input_shape=(input_shape,)))\n",
    "discriminator = Sequential()\n",
    "discriminator.add(Dense(1024, input_dim=74115))\n",
    "discriminator.add(LeakyReLU(0.2))\n",
    "discriminator.add(Dropout(0.3))\n",
    "discriminator.add(Dense(512))\n",
    "discriminator.add(LeakyReLU(0.2))\n",
    "discriminator.add(Dropout(0.3))\n",
    "discriminator.add(Dense(256))\n",
    "discriminator.add(LeakyReLU(0.2))\n",
    "discriminator.add(Dropout(0.3))\n",
    "discriminator.add(Dense(1, activation='sigmoid'))\n",
    "discriminator.compile(loss='binary_crossentropy', optimizer=adam)"
   ]
  },
  {
   "cell_type": "code",
   "execution_count": 18,
   "metadata": {
    "collapsed": true,
    "deletable": true,
    "editable": true
   },
   "outputs": [],
   "source": [
    "# Convolutional network\n",
    "disc = Sequential()\n",
    "# disc.add(Conv2D(128, 5, subsample=(2,2), input_dim=74115))\n",
    "disc.add(Conv2D(64, 5, strides=(2,2), input_shape=(135, 183, 3), padding='same'))\n",
    "disc.add(LeakyReLU(0.2))\n",
    "disc.add(Dropout(0.3))\n",
    "disc.add(Conv2D(128, 5, padding='same'))\n",
    "disc.add(LeakyReLU(0.2))\n",
    "disc.add(Dropout(0.3))\n",
    "disc.add(Conv2D(128, 3, padding='same'))\n",
    "disc.add(LeakyReLU(0.2))\n",
    "disc.add(Flatten())\n",
    "disc.add(Dense(1, activation='sigmoid'))\n",
    "disc.compile(loss='binary_crossentropy', optimizer=adam)"
   ]
  },
  {
   "cell_type": "markdown",
   "metadata": {
    "deletable": true,
    "editable": true
   },
   "source": [
    "#### Combined Network"
   ]
  },
  {
   "cell_type": "code",
   "execution_count": 19,
   "metadata": {
    "collapsed": false,
    "deletable": true,
    "editable": true
   },
   "outputs": [
    {
     "name": "stderr",
     "output_type": "stream",
     "text": [
      "/opt/conda/lib/python3.5/site-packages/ipykernel_launcher.py:5: UserWarning: Update your `Model` call to the Keras 2 API: `Model(inputs=Tensor(\"in..., outputs=Tensor(\"se...)`\n",
      "  \"\"\"\n"
     ]
    }
   ],
   "source": [
    "discriminator.trainable = False\n",
    "ganInput = Input(shape=(randomDim,))\n",
    "x = generator(ganInput)\n",
    "ganOutput = discriminator(x)\n",
    "gan = Model(inputs=ganInput, output = ganOutput)\n",
    "gan.compile(loss='binary_crossentropy',optimizer=adam)"
   ]
  },
  {
   "cell_type": "markdown",
   "metadata": {
    "deletable": true,
    "editable": true
   },
   "source": [
    "#### Plot loss from each batch"
   ]
  },
  {
   "cell_type": "code",
   "execution_count": 20,
   "metadata": {
    "collapsed": true,
    "deletable": true,
    "editable": true
   },
   "outputs": [],
   "source": [
    "dLosses = []\n",
    "gLosses = []\n",
    "\n",
    "def plotLoss(epoch):\n",
    "    plt.figure(figsize=(10,8))\n",
    "    plt.plot(dLosses, label='Discriminitive loss')\n",
    "    plt.plot(gLosses, label='Generative loss')\n",
    "    plt.xlabel('Epoch')\n",
    "    plt.ylabel('Loss')\n",
    "    plt.legend()\n",
    "    plt.savefig('../data/generated_images/v1/gan_loss_epoch_%d.png' % epoch)"
   ]
  },
  {
   "cell_type": "markdown",
   "metadata": {
    "deletable": true,
    "editable": true
   },
   "source": [
    "#### Create a wall of generated images"
   ]
  },
  {
   "cell_type": "code",
   "execution_count": 21,
   "metadata": {
    "collapsed": true,
    "deletable": true,
    "editable": true
   },
   "outputs": [],
   "source": [
    "def plotGeneratedImages(epoch, examples=9, dim=(3,3), figsize=(5,5)):\n",
    "    noise = np.random.normal(0, 1, size=[examples, randomDim])\n",
    "    generatedImages = generator.predict(noise)\n",
    "    generatedImages = generatedImages.reshape(examples, 135, 183, 3)\n",
    "    \n",
    "#     plt.figure(figsize=figsize)\n",
    "    for i in range(generatedImages.shape[0]):\n",
    "        plt.subplot(dim[0], dim[1], i+1)\n",
    "        plt.imshow(generatedImages[i], interpolation='nearest')\n",
    "        plt.axis('off')\n",
    "    #plt.tight_layout()\n",
    "    # Write save file location later\n",
    "    plt.savefig('images')"
   ]
  },
  {
   "cell_type": "code",
   "execution_count": 22,
   "metadata": {
    "collapsed": false,
    "deletable": true,
    "editable": true
   },
   "outputs": [
    {
     "data": {
      "image/png": "[encoded data removed]",
      "text/plain": [
       "<matplotlib.figure.Figure at 0x7f38df3e3240>"
      ]
     },
     "metadata": {},
     "output_type": "display_data"
    }
   ],
   "source": [
    "dim=(3,3)\n",
    "plt.figure(figsize=(5,5))\n",
    "for i in range(dim[0]*dim[1]):\n",
    "    plt.subplot(dim[0], dim[1], i+1)"
   ]
  },
  {
   "cell_type": "markdown",
   "metadata": {
    "deletable": true,
    "editable": true
   },
   "source": [
    "#### Save the generator and discriminator networks (and weights) for later use"
   ]
  },
  {
   "cell_type": "code",
   "execution_count": 24,
   "metadata": {
    "collapsed": true,
    "deletable": true,
    "editable": true
   },
   "outputs": [],
   "source": [
    "def saveModels(epoch):\n",
    "    generator.save('../models/v1/gan_generator_epoch_%d.h5' % epoch)\n",
    "    discriminator.save('../models/v1/gan_discriminator_epoch_%d.h5' % epoch)"
   ]
  },
  {
   "cell_type": "markdown",
   "metadata": {
    "deletable": true,
    "editable": true
   },
   "source": [
    "### Trainer"
   ]
  },
  {
   "cell_type": "code",
   "execution_count": 25,
   "metadata": {
    "collapsed": true,
    "deletable": true,
    "editable": true
   },
   "outputs": [],
   "source": [
    "def train(X_train, epochs = 1, batchSize = 4):\n",
    "    batchCount = int(X_train.shape[0] / batchSize)\n",
    "    print(\"X_train shape:\", X_train.shape[0])\n",
    "    print('Epochs', epochs)\n",
    "    print('Batch size:', batchSize)\n",
    "    print('Batches per epoch', batchCount)\n",
    "    \n",
    "    for e in range(1, epochs+1):\n",
    "        print('-'*15, 'Epoch %d' % e, '-'*15)\n",
    "        for _ in tqdm(range(0, batchCount)):\n",
    "            # Get a random set of input noise and images\n",
    "            noise = np.random.normal(0, 1, size=[batchSize, randomDim])\n",
    "            imageBatch = X_train[np.random.randint(0, X_train.shape[0], size=batchSize)]\n",
    "            \n",
    "            # Reshape imageBatch (might not be correct)\n",
    "            imageBatch = imageBatch.reshape(batchSize, imageBatch.shape[1]\n",
    "                                            *imageBatch.shape[2]*imageBatch.shape[3])\n",
    "            \n",
    "            # Generate fake MNIST images\n",
    "            generatedImages = generator.predict(noise)\n",
    "            # print (np.shape(imageBatch), np.shape(generatedImages)\n",
    "            print('imageBatch shape', imageBatch.shape)\n",
    "            print('generatedImages shape', generatedImages.shape)\n",
    "            X = np.concatenate([imageBatch, generatedImages])\n",
    "            \n",
    "            # Labels for generated and real data\n",
    "            yDis = np.zeros(2*batchSize)\n",
    "            # One-sided label smoothing\n",
    "            yDis[:batchSize] = 0.0\n",
    "            \n",
    "            # Train discriminator\n",
    "            discriminator.trainable = True\n",
    "            dloss = discriminator.train_on_batch(X, yDis)\n",
    "            \n",
    "            # Train generator\n",
    "            noise = np.random.normal(0, 1, size=[batchSize, randomDim])\n",
    "            yGen = np.ones(batchSize)\n",
    "            discriminator.trainable = False\n",
    "            gloss = gan.train_on_batch(noise, yGen)\n",
    "            \n",
    "        # Store loss of most recent batch from this epoch\n",
    "        dLosses.append(dloss)\n",
    "        gLosses.append(gloss)\n",
    "        \n",
    "        if e==1 or e % 20 == 0:\n",
    "            plotGeneratedImages(e)\n",
    "            saveModels(e)\n",
    "            \n",
    "    # plot losses from every epoch\n",
    "    plotLoss(e)"
   ]
  },
  {
   "cell_type": "code",
   "execution_count": 26,
   "metadata": {
    "collapsed": false,
    "deletable": true,
    "editable": true,
    "scrolled": true
   },
   "outputs": [
    {
     "name": "stderr",
     "output_type": "stream",
     "text": [
      "\r",
      "  0%|          | 0/65 [00:00<?, ?it/s]"
     ]
    },
    {
     "name": "stdout",
     "output_type": "stream",
     "text": [
      "X_train shape: 261\n",
      "Epochs 200\n",
      "Batch size: 4\n",
      "Batches per epoch 65\n",
      "--------------- Epoch 1 ---------------\n",
      "imageBatch shape (4, 74115)\n",
      "generatedImages shape (4, 74115)\n"
     ]
    },
    {
     "name": "stderr",
     "output_type": "stream",
     "text": [
      "\r",
      "  2%|▏         | 1/65 [00:07<07:47,  7.31s/it]"
     ]
    },
    {
     "name": "stdout",
     "output_type": "stream",
     "text": [
      "imageBatch shape (4, 74115)\n",
      "generatedImages shape (4, 74115)\n"
     ]
    },
    {
     "name": "stderr",
     "output_type": "stream",
     "text": [
      "\r",
      "  3%|▎         | 2/65 [00:11<06:42,  6.39s/it]"
     ]
    },
    {
     "name": "stdout",
     "output_type": "stream",
     "text": [
      "imageBatch shape (4, 74115)\n",
      "generatedImages shape (4, 74115)\n"
     ]
    },
    {
     "name": "stderr",
     "output_type": "stream",
     "text": [
      "\r",
      "  5%|▍         | 3/65 [00:15<05:54,  5.72s/it]"
     ]
    },
    {
     "name": "stdout",
     "output_type": "stream",
     "text": [
      "imageBatch shape (4, 74115)\n",
      "generatedImages shape (4, 74115)\n"
     ]
    },
    {
     "name": "stderr",
     "output_type": "stream",
     "text": [
      "\r",
      "  6%|▌         | 4/65 [00:20<05:25,  5.33s/it]"
     ]
    },
    {
     "name": "stdout",
     "output_type": "stream",
     "text": [
      "imageBatch shape (4, 74115)\n",
      "generatedImages shape (4, 74115)\n"
     ]
    },
    {
     "name": "stderr",
     "output_type": "stream",
     "text": [
      "\r",
      "  8%|▊         | 5/65 [00:24<05:03,  5.06s/it]"
     ]
    },
    {
     "name": "stdout",
     "output_type": "stream",
     "text": [
      "imageBatch shape (4, 74115)\n",
      "generatedImages shape (4, 74115)\n"
     ]
    },
    {
     "name": "stderr",
     "output_type": "stream",
     "text": [
      "\r",
      "  9%|▉         | 6/65 [00:28<04:43,  4.80s/it]"
     ]
    },
    {
     "name": "stdout",
     "output_type": "stream",
     "text": [
      "imageBatch shape (4, 74115)\n",
      "generatedImages shape (4, 74115)\n"
     ]
    },
    {
     "name": "stderr",
     "output_type": "stream",
     "text": [
      "\r",
      " 11%|█         | 7/65 [00:32<04:26,  4.59s/it]"
     ]
    },
    {
     "name": "stdout",
     "output_type": "stream",
     "text": [
      "imageBatch shape (4, 74115)\n",
      "generatedImages shape (4, 74115)\n"
     ]
    },
    {
     "name": "stderr",
     "output_type": "stream",
     "text": [
      "\r",
      " 12%|█▏        | 8/65 [00:36<04:13,  4.45s/it]"
     ]
    },
    {
     "name": "stdout",
     "output_type": "stream",
     "text": [
      "imageBatch shape (4, 74115)\n",
      "generatedImages shape (4, 74115)\n"
     ]
    },
    {
     "name": "stderr",
     "output_type": "stream",
     "text": [
      "\r",
      " 14%|█▍        | 9/65 [00:41<04:03,  4.35s/it]"
     ]
    },
    {
     "name": "stdout",
     "output_type": "stream",
     "text": [
      "imageBatch shape (4, 74115)\n",
      "generatedImages shape (4, 74115)\n"
     ]
    },
    {
     "name": "stderr",
     "output_type": "stream",
     "text": [
      "\r",
      " 15%|█▌        | 10/65 [00:45<03:55,  4.29s/it]"
     ]
    },
    {
     "name": "stdout",
     "output_type": "stream",
     "text": [
      "imageBatch shape (4, 74115)\n",
      "generatedImages shape (4, 74115)\n"
     ]
    },
    {
     "name": "stderr",
     "output_type": "stream",
     "text": [
      "\r",
      " 17%|█▋        | 11/65 [00:49<03:48,  4.24s/it]"
     ]
    },
    {
     "name": "stdout",
     "output_type": "stream",
     "text": [
      "imageBatch shape (4, 74115)\n",
      "generatedImages shape (4, 74115)\n"
     ]
    },
    {
     "name": "stderr",
     "output_type": "stream",
     "text": [
      "\r",
      " 18%|█▊        | 12/65 [00:53<03:44,  4.24s/it]"
     ]
    },
    {
     "name": "stdout",
     "output_type": "stream",
     "text": [
      "imageBatch shape (4, 74115)\n",
      "generatedImages shape (4, 74115)\n"
     ]
    },
    {
     "name": "stderr",
     "output_type": "stream",
     "text": [
      "\r",
      " 20%|██        | 13/65 [00:57<03:42,  4.27s/it]"
     ]
    },
    {
     "name": "stdout",
     "output_type": "stream",
     "text": [
      "imageBatch shape (4, 74115)\n",
      "generatedImages shape (4, 74115)\n"
     ]
    },
    {
     "name": "stderr",
     "output_type": "stream",
     "text": [
      "\r",
      " 22%|██▏       | 14/65 [01:02<03:38,  4.27s/it]"
     ]
    },
    {
     "name": "stdout",
     "output_type": "stream",
     "text": [
      "imageBatch shape (4, 74115)\n",
      "generatedImages shape (4, 74115)\n"
     ]
    },
    {
     "name": "stderr",
     "output_type": "stream",
     "text": [
      "\r",
      " 23%|██▎       | 15/65 [01:06<03:32,  4.25s/it]"
     ]
    },
    {
     "name": "stdout",
     "output_type": "stream",
     "text": [
      "imageBatch shape (4, 74115)\n",
      "generatedImages shape (4, 74115)\n"
     ]
    },
    {
     "name": "stderr",
     "output_type": "stream",
     "text": [
      "\r",
      " 25%|██▍       | 16/65 [01:10<03:26,  4.22s/it]"
     ]
    },
    {
     "name": "stdout",
     "output_type": "stream",
     "text": [
      "imageBatch shape (4, 74115)\n",
      "generatedImages shape (4, 74115)\n"
     ]
    },
    {
     "name": "stderr",
     "output_type": "stream",
     "text": [
      "\r",
      " 26%|██▌       | 17/65 [01:14<03:22,  4.23s/it]"
     ]
    },
    {
     "name": "stdout",
     "output_type": "stream",
     "text": [
      "imageBatch shape (4, 74115)\n",
      "generatedImages shape (4, 74115)\n"
     ]
    },
    {
     "name": "stderr",
     "output_type": "stream",
     "text": [
      "\r",
      " 28%|██▊       | 18/65 [01:19<03:20,  4.26s/it]"
     ]
    },
    {
     "name": "stdout",
     "output_type": "stream",
     "text": [
      "imageBatch shape (4, 74115)\n",
      "generatedImages shape (4, 74115)\n"
     ]
    },
    {
     "name": "stderr",
     "output_type": "stream",
     "text": [
      "\r",
      " 29%|██▉       | 19/65 [01:23<03:16,  4.27s/it]"
     ]
    },
    {
     "name": "stdout",
     "output_type": "stream",
     "text": [
      "imageBatch shape (4, 74115)\n",
      "generatedImages shape (4, 74115)\n"
     ]
    },
    {
     "name": "stderr",
     "output_type": "stream",
     "text": [
      "\r",
      " 31%|███       | 20/65 [01:27<03:11,  4.24s/it]"
     ]
    },
    {
     "name": "stdout",
     "output_type": "stream",
     "text": [
      "imageBatch shape (4, 74115)\n",
      "generatedImages shape (4, 74115)\n"
     ]
    },
    {
     "name": "stderr",
     "output_type": "stream",
     "text": [
      "\r",
      " 32%|███▏      | 21/65 [01:32<03:10,  4.33s/it]"
     ]
    },
    {
     "name": "stdout",
     "output_type": "stream",
     "text": [
      "imageBatch shape (4, 74115)\n",
      "generatedImages shape (4, 74115)\n"
     ]
    },
    {
     "name": "stderr",
     "output_type": "stream",
     "text": [
      "\r",
      " 34%|███▍      | 22/65 [01:36<03:05,  4.32s/it]"
     ]
    },
    {
     "name": "stdout",
     "output_type": "stream",
     "text": [
      "imageBatch shape (4, 74115)\n",
      "generatedImages shape (4, 74115)\n"
     ]
    },
    {
     "name": "stderr",
     "output_type": "stream",
     "text": [
      "\r",
      " 35%|███▌      | 23/65 [01:40<02:59,  4.28s/it]"
     ]
    },
    {
     "name": "stdout",
     "output_type": "stream",
     "text": [
      "imageBatch shape (4, 74115)\n",
      "generatedImages shape (4, 74115)\n"
     ]
    },
    {
     "name": "stderr",
     "output_type": "stream",
     "text": [
      "\r",
      " 37%|███▋      | 24/65 [01:44<02:53,  4.24s/it]"
     ]
    },
    {
     "name": "stdout",
     "output_type": "stream",
     "text": [
      "imageBatch shape (4, 74115)\n",
      "generatedImages shape (4, 74115)\n"
     ]
    },
    {
     "name": "stderr",
     "output_type": "stream",
     "text": [
      "\r",
      " 38%|███▊      | 25/65 [01:48<02:49,  4.23s/it]"
     ]
    },
    {
     "name": "stdout",
     "output_type": "stream",
     "text": [
      "imageBatch shape (4, 74115)\n",
      "generatedImages shape (4, 74115)\n"
     ]
    },
    {
     "name": "stderr",
     "output_type": "stream",
     "text": [
      "\r",
      " 40%|████      | 26/65 [01:53<02:44,  4.21s/it]"
     ]
    },
    {
     "name": "stdout",
     "output_type": "stream",
     "text": [
      "imageBatch shape (4, 74115)\n",
      "generatedImages shape (4, 74115)\n"
     ]
    },
    {
     "name": "stderr",
     "output_type": "stream",
     "text": [
      "\r",
      " 42%|████▏     | 27/65 [01:57<02:38,  4.18s/it]"
     ]
    },
    {
     "name": "stdout",
     "output_type": "stream",
     "text": [
      "imageBatch shape (4, 74115)\n",
      "generatedImages shape (4, 74115)\n"
     ]
    },
    {
     "name": "stderr",
     "output_type": "stream",
     "text": [
      "\r",
      " 43%|████▎     | 28/65 [02:01<02:34,  4.17s/it]"
     ]
    },
    {
     "name": "stdout",
     "output_type": "stream",
     "text": [
      "imageBatch shape (4, 74115)\n",
      "generatedImages shape (4, 74115)\n"
     ]
    },
    {
     "name": "stderr",
     "output_type": "stream",
     "text": [
      "\r",
      " 45%|████▍     | 29/65 [02:05<02:29,  4.15s/it]"
     ]
    },
    {
     "name": "stdout",
     "output_type": "stream",
     "text": [
      "imageBatch shape (4, 74115)\n",
      "generatedImages shape (4, 74115)\n"
     ]
    },
    {
     "name": "stderr",
     "output_type": "stream",
     "text": [
      "\r",
      " 46%|████▌     | 30/65 [02:09<02:27,  4.20s/it]"
     ]
    },
    {
     "name": "stdout",
     "output_type": "stream",
     "text": [
      "imageBatch shape (4, 74115)\n",
      "generatedImages shape (4, 74115)\n"
     ]
    },
    {
     "name": "stderr",
     "output_type": "stream",
     "text": [
      "\r",
      " 48%|████▊     | 31/65 [02:14<02:25,  4.27s/it]"
     ]
    },
    {
     "name": "stdout",
     "output_type": "stream",
     "text": [
      "imageBatch shape (4, 74115)\n",
      "generatedImages shape (4, 74115)\n"
     ]
    },
    {
     "name": "stderr",
     "output_type": "stream",
     "text": [
      "\r",
      " 49%|████▉     | 32/65 [02:18<02:20,  4.25s/it]"
     ]
    },
    {
     "name": "stdout",
     "output_type": "stream",
     "text": [
      "imageBatch shape (4, 74115)\n",
      "generatedImages shape (4, 74115)\n"
     ]
    },
    {
     "name": "stderr",
     "output_type": "stream",
     "text": [
      "\r",
      " 51%|█████     | 33/65 [02:22<02:17,  4.30s/it]"
     ]
    },
    {
     "name": "stdout",
     "output_type": "stream",
     "text": [
      "imageBatch shape (4, 74115)\n",
      "generatedImages shape (4, 74115)\n"
     ]
    },
    {
     "name": "stderr",
     "output_type": "stream",
     "text": [
      "\r",
      " 52%|█████▏    | 34/65 [02:27<02:12,  4.29s/it]"
     ]
    },
    {
     "name": "stdout",
     "output_type": "stream",
     "text": [
      "imageBatch shape (4, 74115)\n",
      "generatedImages shape (4, 74115)\n"
     ]
    },
    {
     "name": "stderr",
     "output_type": "stream",
     "text": [
      "\r",
      " 54%|█████▍    | 35/65 [02:31<02:07,  4.25s/it]"
     ]
    },
    {
     "name": "stdout",
     "output_type": "stream",
     "text": [
      "imageBatch shape (4, 74115)\n",
      "generatedImages shape (4, 74115)\n"
     ]
    },
    {
     "name": "stderr",
     "output_type": "stream",
     "text": [
      "\r",
      " 55%|█████▌    | 36/65 [02:35<02:02,  4.22s/it]"
     ]
    },
    {
     "name": "stdout",
     "output_type": "stream",
     "text": [
      "imageBatch shape (4, 74115)\n",
      "generatedImages shape (4, 74115)\n"
     ]
    },
    {
     "name": "stderr",
     "output_type": "stream",
     "text": [
      "\r",
      " 57%|█████▋    | 37/65 [02:39<01:57,  4.20s/it]"
     ]
    },
    {
     "name": "stdout",
     "output_type": "stream",
     "text": [
      "imageBatch shape (4, 74115)\n",
      "generatedImages shape (4, 74115)\n"
     ]
    },
    {
     "name": "stderr",
     "output_type": "stream",
     "text": [
      "\r",
      " 58%|█████▊    | 38/65 [02:43<01:52,  4.18s/it]"
     ]
    },
    {
     "name": "stdout",
     "output_type": "stream",
     "text": [
      "imageBatch shape (4, 74115)\n",
      "generatedImages shape (4, 74115)\n"
     ]
    },
    {
     "name": "stderr",
     "output_type": "stream",
     "text": [
      "\r",
      " 60%|██████    | 39/65 [02:48<01:50,  4.26s/it]"
     ]
    },
    {
     "name": "stdout",
     "output_type": "stream",
     "text": [
      "imageBatch shape (4, 74115)\n",
      "generatedImages shape (4, 74115)\n"
     ]
    },
    {
     "name": "stderr",
     "output_type": "stream",
     "text": [
      "\r",
      " 62%|██████▏   | 40/65 [02:52<01:48,  4.34s/it]"
     ]
    },
    {
     "name": "stdout",
     "output_type": "stream",
     "text": [
      "imageBatch shape (4, 74115)\n",
      "generatedImages shape (4, 74115)\n"
     ]
    },
    {
     "name": "stderr",
     "output_type": "stream",
     "text": [
      "\r",
      " 63%|██████▎   | 41/65 [02:57<01:44,  4.37s/it]"
     ]
    },
    {
     "name": "stdout",
     "output_type": "stream",
     "text": [
      "imageBatch shape (4, 74115)\n",
      "generatedImages shape (4, 74115)\n"
     ]
    },
    {
     "name": "stderr",
     "output_type": "stream",
     "text": [
      "\r",
      " 65%|██████▍   | 42/65 [03:01<01:42,  4.44s/it]"
     ]
    },
    {
     "name": "stdout",
     "output_type": "stream",
     "text": [
      "imageBatch shape (4, 74115)\n",
      "generatedImages shape (4, 74115)\n"
     ]
    },
    {
     "name": "stderr",
     "output_type": "stream",
     "text": [
      "\r",
      " 66%|██████▌   | 43/65 [03:06<01:38,  4.50s/it]"
     ]
    },
    {
     "name": "stdout",
     "output_type": "stream",
     "text": [
      "imageBatch shape (4, 74115)\n",
      "generatedImages shape (4, 74115)\n"
     ]
    },
    {
     "name": "stderr",
     "output_type": "stream",
     "text": [
      "\r",
      " 68%|██████▊   | 44/65 [03:10<01:35,  4.53s/it]"
     ]
    },
    {
     "name": "stdout",
     "output_type": "stream",
     "text": [
      "imageBatch shape (4, 74115)\n",
      "generatedImages shape (4, 74115)\n"
     ]
    },
    {
     "name": "stderr",
     "output_type": "stream",
     "text": [
      "\r",
      " 69%|██████▉   | 45/65 [03:15<01:29,  4.49s/it]"
     ]
    },
    {
     "name": "stdout",
     "output_type": "stream",
     "text": [
      "imageBatch shape (4, 74115)\n",
      "generatedImages shape (4, 74115)\n"
     ]
    },
    {
     "name": "stderr",
     "output_type": "stream",
     "text": [
      "\r",
      " 71%|███████   | 46/65 [03:19<01:24,  4.47s/it]"
     ]
    },
    {
     "name": "stdout",
     "output_type": "stream",
     "text": [
      "imageBatch shape (4, 74115)\n",
      "generatedImages shape (4, 74115)\n"
     ]
    },
    {
     "name": "stderr",
     "output_type": "stream",
     "text": [
      "\r",
      " 72%|███████▏  | 47/65 [03:24<01:19,  4.43s/it]"
     ]
    },
    {
     "name": "stdout",
     "output_type": "stream",
     "text": [
      "imageBatch shape (4, 74115)\n",
      "generatedImages shape (4, 74115)\n"
     ]
    },
    {
     "name": "stderr",
     "output_type": "stream",
     "text": [
      "\r",
      " 74%|███████▍  | 48/65 [03:28<01:13,  4.35s/it]"
     ]
    },
    {
     "name": "stdout",
     "output_type": "stream",
     "text": [
      "imageBatch shape (4, 74115)\n",
      "generatedImages shape (4, 74115)\n"
     ]
    },
    {
     "name": "stderr",
     "output_type": "stream",
     "text": [
      "\r",
      " 75%|███████▌  | 49/65 [03:32<01:08,  4.31s/it]"
     ]
    },
    {
     "name": "stdout",
     "output_type": "stream",
     "text": [
      "imageBatch shape (4, 74115)\n",
      "generatedImages shape (4, 74115)\n"
     ]
    },
    {
     "name": "stderr",
     "output_type": "stream",
     "text": [
      "\r",
      " 77%|███████▋  | 50/65 [03:36<01:03,  4.25s/it]"
     ]
    },
    {
     "name": "stdout",
     "output_type": "stream",
     "text": [
      "imageBatch shape (4, 74115)\n",
      "generatedImages shape (4, 74115)\n"
     ]
    },
    {
     "name": "stderr",
     "output_type": "stream",
     "text": [
      "\r",
      " 78%|███████▊  | 51/65 [03:40<00:59,  4.27s/it]"
     ]
    },
    {
     "name": "stdout",
     "output_type": "stream",
     "text": [
      "imageBatch shape (4, 74115)\n",
      "generatedImages shape (4, 74115)\n"
     ]
    },
    {
     "name": "stderr",
     "output_type": "stream",
     "text": [
      "\r",
      " 80%|████████  | 52/65 [03:45<00:56,  4.35s/it]"
     ]
    },
    {
     "name": "stdout",
     "output_type": "stream",
     "text": [
      "imageBatch shape (4, 74115)\n",
      "generatedImages shape (4, 74115)\n"
     ]
    },
    {
     "name": "stderr",
     "output_type": "stream",
     "text": [
      "\r",
      " 82%|████████▏ | 53/65 [03:49<00:52,  4.37s/it]"
     ]
    },
    {
     "name": "stdout",
     "output_type": "stream",
     "text": [
      "imageBatch shape (4, 74115)\n",
      "generatedImages shape (4, 74115)\n"
     ]
    },
    {
     "name": "stderr",
     "output_type": "stream",
     "text": [
      "\r",
      " 83%|████████▎ | 54/65 [03:54<00:48,  4.41s/it]"
     ]
    },
    {
     "name": "stdout",
     "output_type": "stream",
     "text": [
      "imageBatch shape (4, 74115)\n",
      "generatedImages shape (4, 74115)\n"
     ]
    },
    {
     "name": "stderr",
     "output_type": "stream",
     "text": [
      "\r",
      " 85%|████████▍ | 55/65 [03:58<00:44,  4.44s/it]"
     ]
    },
    {
     "name": "stdout",
     "output_type": "stream",
     "text": [
      "imageBatch shape (4, 74115)\n",
      "generatedImages shape (4, 74115)\n"
     ]
    },
    {
     "name": "stderr",
     "output_type": "stream",
     "text": [
      "\r",
      " 86%|████████▌ | 56/65 [04:03<00:39,  4.44s/it]"
     ]
    },
    {
     "name": "stdout",
     "output_type": "stream",
     "text": [
      "imageBatch shape (4, 74115)\n",
      "generatedImages shape (4, 74115)\n"
     ]
    },
    {
     "name": "stderr",
     "output_type": "stream",
     "text": [
      "\r",
      " 88%|████████▊ | 57/65 [04:07<00:35,  4.41s/it]"
     ]
    },
    {
     "name": "stdout",
     "output_type": "stream",
     "text": [
      "imageBatch shape (4, 74115)\n",
      "generatedImages shape (4, 74115)\n"
     ]
    },
    {
     "name": "stderr",
     "output_type": "stream",
     "text": [
      "\r",
      " 89%|████████▉ | 58/65 [04:11<00:30,  4.38s/it]"
     ]
    },
    {
     "name": "stdout",
     "output_type": "stream",
     "text": [
      "imageBatch shape (4, 74115)\n",
      "generatedImages shape (4, 74115)\n"
     ]
    },
    {
     "name": "stderr",
     "output_type": "stream",
     "text": [
      "\r",
      " 91%|█████████ | 59/65 [04:16<00:26,  4.34s/it]"
     ]
    },
    {
     "name": "stdout",
     "output_type": "stream",
     "text": [
      "imageBatch shape (4, 74115)\n",
      "generatedImages shape (4, 74115)\n"
     ]
    },
    {
     "name": "stderr",
     "output_type": "stream",
     "text": [
      "\r",
      " 92%|█████████▏| 60/65 [04:20<00:21,  4.32s/it]"
     ]
    },
    {
     "name": "stdout",
     "output_type": "stream",
     "text": [
      "imageBatch shape (4, 74115)\n",
      "generatedImages shape (4, 74115)\n"
     ]
    },
    {
     "name": "stderr",
     "output_type": "stream",
     "text": [
      "\r",
      " 94%|█████████▍| 61/65 [04:25<00:17,  4.40s/it]"
     ]
    },
    {
     "name": "stdout",
     "output_type": "stream",
     "text": [
      "imageBatch shape (4, 74115)\n",
      "generatedImages shape (4, 74115)\n"
     ]
    },
    {
     "name": "stderr",
     "output_type": "stream",
     "text": [
      "\r",
      " 95%|█████████▌| 62/65 [04:29<00:13,  4.46s/it]"
     ]
    },
    {
     "name": "stdout",
     "output_type": "stream",
     "text": [
      "imageBatch shape (4, 74115)\n",
      "generatedImages shape (4, 74115)\n"
     ]
    },
    {
     "name": "stderr",
     "output_type": "stream",
     "text": [
      "\r",
      " 97%|█████████▋| 63/65 [04:33<00:08,  4.34s/it]"
     ]
    },
    {
     "name": "stdout",
     "output_type": "stream",
     "text": [
      "imageBatch shape (4, 74115)\n",
      "generatedImages shape (4, 74115)\n"
     ]
    },
    {
     "name": "stderr",
     "output_type": "stream",
     "text": [
      "\r",
      " 98%|█████████▊| 64/65 [04:37<00:04,  4.27s/it]"
     ]
    },
    {
     "name": "stdout",
     "output_type": "stream",
     "text": [
      "imageBatch shape (4, 74115)\n",
      "generatedImages shape (4, 74115)\n"
     ]
    },
    {
     "name": "stderr",
     "output_type": "stream",
     "text": [
      "100%|██████████| 65/65 [04:42<00:00,  4.24s/it]\n",
      "  0%|          | 0/65 [00:00<?, ?it/s]"
     ]
    },
    {
     "name": "stdout",
     "output_type": "stream",
     "text": [
      "--------------- Epoch 2 ---------------\n",
      "imageBatch shape (4, 74115)\n",
      "generatedImages shape (4, 74115)\n"
     ]
    },
    {
     "name": "stderr",
     "output_type": "stream",
     "text": [
      "\r",
      "  2%|▏         | 1/65 [00:04<04:32,  4.26s/it]"
     ]
    },
    {
     "name": "stdout",
     "output_type": "stream",
     "text": [
      "imageBatch shape (4, 74115)\n",
      "generatedImages shape (4, 74115)\n"
     ]
    },
    {
     "name": "stderr",
     "output_type": "stream",
     "text": [
      "\r",
      "  3%|▎         | 2/65 [00:08<04:24,  4.21s/it]"
     ]
    },
    {
     "name": "stdout",
     "output_type": "stream",
     "text": [
      "imageBatch shape (4, 74115)\n",
      "generatedImages shape (4, 74115)\n"
     ]
    },
    {
     "name": "stderr",
     "output_type": "stream",
     "text": [
      "\r",
      "  5%|▍         | 3/65 [00:12<04:13,  4.09s/it]"
     ]
    },
    {
     "name": "stdout",
     "output_type": "stream",
     "text": [
      "imageBatch shape (4, 74115)\n",
      "generatedImages shape (4, 74115)\n"
     ]
    },
    {
     "name": "stderr",
     "output_type": "stream",
     "text": [
      "\r",
      "  6%|▌         | 4/65 [00:16<04:07,  4.05s/it]"
     ]
    },
    {
     "name": "stdout",
     "output_type": "stream",
     "text": [
      "imageBatch shape (4, 74115)\n",
      "generatedImages shape (4, 74115)\n"
     ]
    },
    {
     "name": "stderr",
     "output_type": "stream",
     "text": [
      "\r",
      "  8%|▊         | 5/65 [00:20<04:00,  4.01s/it]"
     ]
    },
    {
     "name": "stdout",
     "output_type": "stream",
     "text": [
      "imageBatch shape (4, 74115)\n",
      "generatedImages shape (4, 74115)\n"
     ]
    },
    {
     "name": "stderr",
     "output_type": "stream",
     "text": [
      "\r",
      "  9%|▉         | 6/65 [00:23<03:51,  3.92s/it]"
     ]
    },
    {
     "name": "stdout",
     "output_type": "stream",
     "text": [
      "imageBatch shape (4, 74115)\n",
      "generatedImages shape (4, 74115)\n"
     ]
    },
    {
     "name": "stderr",
     "output_type": "stream",
     "text": [
      "\r",
      " 11%|█         | 7/65 [00:27<03:44,  3.87s/it]"
     ]
    },
    {
     "name": "stdout",
     "output_type": "stream",
     "text": [
      "imageBatch shape (4, 74115)\n",
      "generatedImages shape (4, 74115)\n"
     ]
    },
    {
     "name": "stderr",
     "output_type": "stream",
     "text": [
      "\r",
      " 12%|█▏        | 8/65 [00:31<03:34,  3.76s/it]"
     ]
    },
    {
     "name": "stdout",
     "output_type": "stream",
     "text": [
      "imageBatch shape (4, 74115)\n",
      "generatedImages shape (4, 74115)\n"
     ]
    },
    {
     "name": "stderr",
     "output_type": "stream",
     "text": [
      "\r",
      " 14%|█▍        | 9/65 [00:34<03:30,  3.76s/it]"
     ]
    },
    {
     "name": "stdout",
     "output_type": "stream",
     "text": [
      "imageBatch shape (4, 74115)\n",
      "generatedImages shape (4, 74115)\n"
     ]
    },
    {
     "name": "stderr",
     "output_type": "stream",
     "text": [
      "\r",
      " 15%|█▌        | 10/65 [00:38<03:27,  3.77s/it]"
     ]
    },
    {
     "name": "stdout",
     "output_type": "stream",
     "text": [
      "imageBatch shape (4, 74115)\n",
      "generatedImages shape (4, 74115)\n"
     ]
    },
    {
     "name": "stderr",
     "output_type": "stream",
     "text": [
      "\r",
      " 17%|█▋        | 11/65 [00:42<03:25,  3.81s/it]"
     ]
    },
    {
     "name": "stdout",
     "output_type": "stream",
     "text": [
      "imageBatch shape (4, 74115)\n",
      "generatedImages shape (4, 74115)\n"
     ]
    },
    {
     "name": "stderr",
     "output_type": "stream",
     "text": [
      "\r",
      " 18%|█▊        | 12/65 [00:46<03:18,  3.75s/it]"
     ]
    },
    {
     "name": "stdout",
     "output_type": "stream",
     "text": [
      "imageBatch shape (4, 74115)\n",
      "generatedImages shape (4, 74115)\n"
     ]
    },
    {
     "name": "stderr",
     "output_type": "stream",
     "text": [
      "\r",
      " 20%|██        | 13/65 [00:49<03:12,  3.71s/it]"
     ]
    },
    {
     "name": "stdout",
     "output_type": "stream",
     "text": [
      "imageBatch shape (4, 74115)\n",
      "generatedImages shape (4, 74115)\n"
     ]
    },
    {
     "name": "stderr",
     "output_type": "stream",
     "text": [
      "\r",
      " 22%|██▏       | 14/65 [00:53<03:11,  3.76s/it]"
     ]
    },
    {
     "name": "stdout",
     "output_type": "stream",
     "text": [
      "imageBatch shape (4, 74115)\n",
      "generatedImages shape (4, 74115)\n"
     ]
    },
    {
     "name": "stderr",
     "output_type": "stream",
     "text": [
      "\r",
      " 23%|██▎       | 15/65 [00:57<03:10,  3.80s/it]"
     ]
    },
    {
     "name": "stdout",
     "output_type": "stream",
     "text": [
      "imageBatch shape (4, 74115)\n",
      "generatedImages shape (4, 74115)\n"
     ]
    },
    {
     "name": "stderr",
     "output_type": "stream",
     "text": [
      "\r",
      " 25%|██▍       | 16/65 [01:01<03:05,  3.78s/it]"
     ]
    },
    {
     "name": "stdout",
     "output_type": "stream",
     "text": [
      "imageBatch shape (4, 74115)\n",
      "generatedImages shape (4, 74115)\n"
     ]
    },
    {
     "name": "stderr",
     "output_type": "stream",
     "text": [
      "\r",
      " 26%|██▌       | 17/65 [01:04<03:00,  3.75s/it]"
     ]
    },
    {
     "name": "stdout",
     "output_type": "stream",
     "text": [
      "imageBatch shape (4, 74115)\n",
      "generatedImages shape (4, 74115)\n"
     ]
    },
    {
     "name": "stderr",
     "output_type": "stream",
     "text": [
      "\r",
      " 28%|██▊       | 18/65 [01:08<02:56,  3.76s/it]"
     ]
    },
    {
     "name": "stdout",
     "output_type": "stream",
     "text": [
      "imageBatch shape (4, 74115)\n",
      "generatedImages shape (4, 74115)\n"
     ]
    },
    {
     "name": "stderr",
     "output_type": "stream",
     "text": [
      "\r",
      " 29%|██▉       | 19/65 [01:12<02:51,  3.73s/it]"
     ]
    },
    {
     "name": "stdout",
     "output_type": "stream",
     "text": [
      "imageBatch shape (4, 74115)\n",
      "generatedImages shape (4, 74115)\n"
     ]
    },
    {
     "name": "stderr",
     "output_type": "stream",
     "text": [
      "\r",
      " 31%|███       | 20/65 [01:15<02:46,  3.71s/it]"
     ]
    },
    {
     "name": "stdout",
     "output_type": "stream",
     "text": [
      "imageBatch shape (4, 74115)\n",
      "generatedImages shape (4, 74115)\n"
     ]
    },
    {
     "name": "stderr",
     "output_type": "stream",
     "text": [
      "\r",
      " 32%|███▏      | 21/65 [01:19<02:43,  3.71s/it]"
     ]
    },
    {
     "name": "stdout",
     "output_type": "stream",
     "text": [
      "imageBatch shape (4, 74115)\n",
      "generatedImages shape (4, 74115)\n"
     ]
    },
    {
     "name": "stderr",
     "output_type": "stream",
     "text": [
      "\r",
      " 34%|███▍      | 22/65 [01:23<02:38,  3.68s/it]"
     ]
    },
    {
     "name": "stdout",
     "output_type": "stream",
     "text": [
      "imageBatch shape (4, 74115)\n",
      "generatedImages shape (4, 74115)\n"
     ]
    },
    {
     "name": "stderr",
     "output_type": "stream",
     "text": [
      "\r",
      " 35%|███▌      | 23/65 [01:26<02:34,  3.67s/it]"
     ]
    },
    {
     "name": "stdout",
     "output_type": "stream",
     "text": [
      "imageBatch shape (4, 74115)\n",
      "generatedImages shape (4, 74115)\n"
     ]
    },
    {
     "name": "stderr",
     "output_type": "stream",
     "text": [
      "\r",
      " 37%|███▋      | 24/65 [01:30<02:30,  3.66s/it]"
     ]
    },
    {
     "name": "stdout",
     "output_type": "stream",
     "text": [
      "imageBatch shape (4, 74115)\n",
      "generatedImages shape (4, 74115)\n"
     ]
    },
    {
     "name": "stderr",
     "output_type": "stream",
     "text": [
      "\r",
      " 38%|███▊      | 25/65 [01:34<02:27,  3.68s/it]"
     ]
    },
    {
     "name": "stdout",
     "output_type": "stream",
     "text": [
      "imageBatch shape (4, 74115)\n",
      "generatedImages shape (4, 74115)\n"
     ]
    },
    {
     "name": "stderr",
     "output_type": "stream",
     "text": [
      "\r",
      " 40%|████      | 26/65 [01:37<02:23,  3.69s/it]"
     ]
    },
    {
     "name": "stdout",
     "output_type": "stream",
     "text": [
      "imageBatch shape (4, 74115)\n",
      "generatedImages shape (4, 74115)\n"
     ]
    },
    {
     "name": "stderr",
     "output_type": "stream",
     "text": [
      "\r",
      " 42%|████▏     | 27/65 [01:41<02:19,  3.68s/it]"
     ]
    },
    {
     "name": "stdout",
     "output_type": "stream",
     "text": [
      "imageBatch shape (4, 74115)\n",
      "generatedImages shape (4, 74115)\n"
     ]
    },
    {
     "name": "stderr",
     "output_type": "stream",
     "text": [
      "\r",
      " 43%|████▎     | 28/65 [01:45<02:17,  3.71s/it]"
     ]
    },
    {
     "name": "stdout",
     "output_type": "stream",
     "text": [
      "imageBatch shape (4, 74115)\n",
      "generatedImages shape (4, 74115)\n"
     ]
    },
    {
     "name": "stderr",
     "output_type": "stream",
     "text": [
      "\r",
      " 45%|████▍     | 29/65 [01:49<02:13,  3.70s/it]"
     ]
    },
    {
     "name": "stdout",
     "output_type": "stream",
     "text": [
      "imageBatch shape (4, 74115)\n",
      "generatedImages shape (4, 74115)\n"
     ]
    },
    {
     "name": "stderr",
     "output_type": "stream",
     "text": [
      "\r",
      " 46%|████▌     | 30/65 [01:52<02:08,  3.67s/it]"
     ]
    },
    {
     "name": "stdout",
     "output_type": "stream",
     "text": [
      "imageBatch shape (4, 74115)\n",
      "generatedImages shape (4, 74115)\n"
     ]
    },
    {
     "name": "stderr",
     "output_type": "stream",
     "text": [
      "\r",
      " 48%|████▊     | 31/65 [01:56<02:03,  3.64s/it]"
     ]
    },
    {
     "name": "stdout",
     "output_type": "stream",
     "text": [
      "imageBatch shape (4, 74115)\n",
      "generatedImages shape (4, 74115)\n"
     ]
    },
    {
     "name": "stderr",
     "output_type": "stream",
     "text": [
      "\r",
      " 49%|████▉     | 32/65 [01:59<01:58,  3.61s/it]"
     ]
    },
    {
     "name": "stdout",
     "output_type": "stream",
     "text": [
      "imageBatch shape (4, 74115)\n",
      "generatedImages shape (4, 74115)\n"
     ]
    },
    {
     "name": "stderr",
     "output_type": "stream",
     "text": [
      "\r",
      " 51%|█████     | 33/65 [02:03<01:54,  3.59s/it]"
     ]
    },
    {
     "name": "stdout",
     "output_type": "stream",
     "text": [
      "imageBatch shape (4, 74115)\n",
      "generatedImages shape (4, 74115)\n"
     ]
    },
    {
     "name": "stderr",
     "output_type": "stream",
     "text": [
      "\r",
      " 52%|█████▏    | 34/65 [02:06<01:50,  3.57s/it]"
     ]
    },
    {
     "name": "stdout",
     "output_type": "stream",
     "text": [
      "imageBatch shape (4, 74115)\n",
      "generatedImages shape (4, 74115)\n"
     ]
    },
    {
     "name": "stderr",
     "output_type": "stream",
     "text": [
      "\r",
      " 54%|█████▍    | 35/65 [02:10<01:46,  3.57s/it]"
     ]
    },
    {
     "name": "stdout",
     "output_type": "stream",
     "text": [
      "imageBatch shape (4, 74115)\n",
      "generatedImages shape (4, 74115)\n"
     ]
    },
    {
     "name": "stderr",
     "output_type": "stream",
     "text": [
      "\r",
      " 55%|█████▌    | 36/65 [02:14<01:43,  3.57s/it]"
     ]
    },
    {
     "name": "stdout",
     "output_type": "stream",
     "text": [
      "imageBatch shape (4, 74115)\n",
      "generatedImages shape (4, 74115)\n"
     ]
    },
    {
     "name": "stderr",
     "output_type": "stream",
     "text": [
      "\r",
      " 57%|█████▋    | 37/65 [02:17<01:39,  3.54s/it]"
     ]
    },
    {
     "name": "stdout",
     "output_type": "stream",
     "text": [
      "imageBatch shape (4, 74115)\n",
      "generatedImages shape (4, 74115)\n"
     ]
    },
    {
     "name": "stderr",
     "output_type": "stream",
     "text": [
      "\r",
      " 58%|█████▊    | 38/65 [02:21<01:35,  3.55s/it]"
     ]
    },
    {
     "name": "stdout",
     "output_type": "stream",
     "text": [
      "imageBatch shape (4, 74115)\n",
      "generatedImages shape (4, 74115)\n"
     ]
    },
    {
     "name": "stderr",
     "output_type": "stream",
     "text": [
      "\r",
      " 60%|██████    | 39/65 [02:24<01:32,  3.55s/it]"
     ]
    },
    {
     "name": "stdout",
     "output_type": "stream",
     "text": [
      "imageBatch shape (4, 74115)\n",
      "generatedImages shape (4, 74115)\n"
     ]
    },
    {
     "name": "stderr",
     "output_type": "stream",
     "text": [
      "\r",
      " 62%|██████▏   | 40/65 [02:28<01:29,  3.56s/it]"
     ]
    },
    {
     "name": "stdout",
     "output_type": "stream",
     "text": [
      "imageBatch shape (4, 74115)\n",
      "generatedImages shape (4, 74115)\n"
     ]
    },
    {
     "name": "stderr",
     "output_type": "stream",
     "text": [
      "\r",
      " 63%|██████▎   | 41/65 [02:31<01:26,  3.61s/it]"
     ]
    },
    {
     "name": "stdout",
     "output_type": "stream",
     "text": [
      "imageBatch shape (4, 74115)\n",
      "generatedImages shape (4, 74115)\n"
     ]
    },
    {
     "name": "stderr",
     "output_type": "stream",
     "text": [
      "\r",
      " 65%|██████▍   | 42/65 [02:35<01:23,  3.62s/it]"
     ]
    },
    {
     "name": "stdout",
     "output_type": "stream",
     "text": [
      "imageBatch shape (4, 74115)\n",
      "generatedImages shape (4, 74115)\n"
     ]
    },
    {
     "name": "stderr",
     "output_type": "stream",
     "text": [
      "\r",
      " 66%|██████▌   | 43/65 [02:39<01:19,  3.60s/it]"
     ]
    },
    {
     "name": "stdout",
     "output_type": "stream",
     "text": [
      "imageBatch shape (4, 74115)\n",
      "generatedImages shape (4, 74115)\n"
     ]
    },
    {
     "name": "stderr",
     "output_type": "stream",
     "text": [
      "\r",
      " 68%|██████▊   | 44/65 [02:42<01:15,  3.58s/it]"
     ]
    },
    {
     "name": "stdout",
     "output_type": "stream",
     "text": [
      "imageBatch shape (4, 74115)\n",
      "generatedImages shape (4, 74115)\n"
     ]
    },
    {
     "name": "stderr",
     "output_type": "stream",
     "text": [
      "\r",
      " 69%|██████▉   | 45/65 [02:46<01:10,  3.54s/it]"
     ]
    },
    {
     "name": "stdout",
     "output_type": "stream",
     "text": [
      "imageBatch shape (4, 74115)\n",
      "generatedImages shape (4, 74115)\n"
     ]
    },
    {
     "name": "stderr",
     "output_type": "stream",
     "text": [
      "\r",
      " 71%|███████   | 46/65 [02:49<01:06,  3.48s/it]"
     ]
    },
    {
     "name": "stdout",
     "output_type": "stream",
     "text": [
      "imageBatch shape (4, 74115)\n",
      "generatedImages shape (4, 74115)\n"
     ]
    },
    {
     "name": "stderr",
     "output_type": "stream",
     "text": [
      "\r",
      " 72%|███████▏  | 47/65 [02:53<01:03,  3.55s/it]"
     ]
    },
    {
     "name": "stdout",
     "output_type": "stream",
     "text": [
      "imageBatch shape (4, 74115)\n",
      "generatedImages shape (4, 74115)\n"
     ]
    },
    {
     "name": "stderr",
     "output_type": "stream",
     "text": [
      "\r",
      " 74%|███████▍  | 48/65 [02:57<01:02,  3.66s/it]"
     ]
    },
    {
     "name": "stdout",
     "output_type": "stream",
     "text": [
      "imageBatch shape (4, 74115)\n",
      "generatedImages shape (4, 74115)\n"
     ]
    },
    {
     "name": "stderr",
     "output_type": "stream",
     "text": [
      "\r",
      " 75%|███████▌  | 49/65 [03:00<00:59,  3.71s/it]"
     ]
    },
    {
     "name": "stdout",
     "output_type": "stream",
     "text": [
      "imageBatch shape (4, 74115)\n",
      "generatedImages shape (4, 74115)\n"
     ]
    },
    {
     "name": "stderr",
     "output_type": "stream",
     "text": [
      "\r",
      " 77%|███████▋  | 50/65 [03:04<00:55,  3.73s/it]"
     ]
    },
    {
     "name": "stdout",
     "output_type": "stream",
     "text": [
      "imageBatch shape (4, 74115)\n",
      "generatedImages shape (4, 74115)\n"
     ]
    },
    {
     "name": "stderr",
     "output_type": "stream",
     "text": [
      "\r",
      " 78%|███████▊  | 51/65 [03:08<00:51,  3.71s/it]"
     ]
    },
    {
     "name": "stdout",
     "output_type": "stream",
     "text": [
      "imageBatch shape (4, 74115)\n",
      "generatedImages shape (4, 74115)\n"
     ]
    },
    {
     "name": "stderr",
     "output_type": "stream",
     "text": [
      "\r",
      " 80%|████████  | 52/65 [03:11<00:47,  3.65s/it]"
     ]
    },
    {
     "name": "stdout",
     "output_type": "stream",
     "text": [
      "imageBatch shape (4, 74115)\n",
      "generatedImages shape (4, 74115)\n"
     ]
    },
    {
     "name": "stderr",
     "output_type": "stream",
     "text": [
      "\r",
      " 82%|████████▏ | 53/65 [03:15<00:43,  3.61s/it]"
     ]
    },
    {
     "name": "stdout",
     "output_type": "stream",
     "text": [
      "imageBatch shape (4, 74115)\n",
      "generatedImages shape (4, 74115)\n"
     ]
    },
    {
     "name": "stderr",
     "output_type": "stream",
     "text": [
      "\r",
      " 83%|████████▎ | 54/65 [03:18<00:39,  3.61s/it]"
     ]
    },
    {
     "name": "stdout",
     "output_type": "stream",
     "text": [
      "imageBatch shape (4, 74115)\n",
      "generatedImages shape (4, 74115)\n"
     ]
    },
    {
     "name": "stderr",
     "output_type": "stream",
     "text": [
      "\r",
      " 85%|████████▍ | 55/65 [03:22<00:35,  3.60s/it]"
     ]
    },
    {
     "name": "stdout",
     "output_type": "stream",
     "text": [
      "imageBatch shape (4, 74115)\n",
      "generatedImages shape (4, 74115)\n"
     ]
    },
    {
     "name": "stderr",
     "output_type": "stream",
     "text": [
      "\r",
      " 86%|████████▌ | 56/65 [03:26<00:32,  3.60s/it]"
     ]
    },
    {
     "name": "stdout",
     "output_type": "stream",
     "text": [
      "imageBatch shape (4, 74115)\n",
      "generatedImages shape (4, 74115)\n"
     ]
    },
    {
     "name": "stderr",
     "output_type": "stream",
     "text": [
      "\r",
      " 88%|████████▊ | 57/65 [03:29<00:28,  3.60s/it]"
     ]
    },
    {
     "name": "stdout",
     "output_type": "stream",
     "text": [
      "imageBatch shape (4, 74115)\n",
      "generatedImages shape (4, 74115)\n"
     ]
    },
    {
     "name": "stderr",
     "output_type": "stream",
     "text": [
      "\r",
      " 89%|████████▉ | 58/65 [03:33<00:25,  3.58s/it]"
     ]
    },
    {
     "name": "stdout",
     "output_type": "stream",
     "text": [
      "imageBatch shape (4, 74115)\n",
      "generatedImages shape (4, 74115)\n"
     ]
    },
    {
     "name": "stderr",
     "output_type": "stream",
     "text": [
      "\r",
      " 91%|█████████ | 59/65 [03:36<00:21,  3.55s/it]"
     ]
    },
    {
     "name": "stdout",
     "output_type": "stream",
     "text": [
      "imageBatch shape (4, 74115)\n",
      "generatedImages shape (4, 74115)\n"
     ]
    },
    {
     "name": "stderr",
     "output_type": "stream",
     "text": [
      "\r",
      " 92%|█████████▏| 60/65 [03:40<00:17,  3.59s/it]"
     ]
    },
    {
     "name": "stdout",
     "output_type": "stream",
     "text": [
      "imageBatch shape (4, 74115)\n",
      "generatedImages shape (4, 74115)\n"
     ]
    },
    {
     "name": "stderr",
     "output_type": "stream",
     "text": [
      "\r",
      " 94%|█████████▍| 61/65 [03:44<00:14,  3.62s/it]"
     ]
    },
    {
     "name": "stdout",
     "output_type": "stream",
     "text": [
      "imageBatch shape (4, 74115)\n",
      "generatedImages shape (4, 74115)\n"
     ]
    },
    {
     "name": "stderr",
     "output_type": "stream",
     "text": [
      "\r",
      " 95%|█████████▌| 62/65 [03:47<00:10,  3.65s/it]"
     ]
    },
    {
     "name": "stdout",
     "output_type": "stream",
     "text": [
      "imageBatch shape (4, 74115)\n",
      "generatedImages shape (4, 74115)\n"
     ]
    },
    {
     "name": "stderr",
     "output_type": "stream",
     "text": [
      "\r",
      " 97%|█████████▋| 63/65 [03:51<00:07,  3.68s/it]"
     ]
    },
    {
     "name": "stdout",
     "output_type": "stream",
     "text": [
      "imageBatch shape (4, 74115)\n",
      "generatedImages shape (4, 74115)\n"
     ]
    },
    {
     "name": "stderr",
     "output_type": "stream",
     "text": [
      "\r",
      " 98%|█████████▊| 64/65 [03:55<00:03,  3.68s/it]"
     ]
    },
    {
     "name": "stdout",
     "output_type": "stream",
     "text": [
      "imageBatch shape (4, 74115)\n",
      "generatedImages shape (4, 74115)\n"
     ]
    },
    {
     "name": "stderr",
     "output_type": "stream",
     "text": [
      "100%|██████████| 65/65 [03:59<00:00,  3.72s/it]\n",
      "  0%|          | 0/65 [00:00<?, ?it/s]"
     ]
    },
    {
     "name": "stdout",
     "output_type": "stream",
     "text": [
      "--------------- Epoch 3 ---------------\n",
      "imageBatch shape (4, 74115)\n",
      "generatedImages shape (4, 74115)\n"
     ]
    },
    {
     "name": "stderr",
     "output_type": "stream",
     "text": [
      "\r",
      "  2%|▏         | 1/65 [00:03<03:58,  3.73s/it]"
     ]
    },
    {
     "name": "stdout",
     "output_type": "stream",
     "text": [
      "imageBatch shape (4, 74115)\n",
      "generatedImages shape (4, 74115)\n"
     ]
    },
    {
     "name": "stderr",
     "output_type": "stream",
     "text": [
      "\r",
      "  3%|▎         | 2/65 [00:07<03:53,  3.71s/it]"
     ]
    },
    {
     "name": "stdout",
     "output_type": "stream",
     "text": [
      "imageBatch shape (4, 74115)\n",
      "generatedImages shape (4, 74115)\n"
     ]
    },
    {
     "name": "stderr",
     "output_type": "stream",
     "text": [
      "\r",
      "  5%|▍         | 3/65 [00:11<03:49,  3.70s/it]"
     ]
    },
    {
     "name": "stdout",
     "output_type": "stream",
     "text": [
      "imageBatch shape (4, 74115)\n",
      "generatedImages shape (4, 74115)\n"
     ]
    },
    {
     "name": "stderr",
     "output_type": "stream",
     "text": [
      "\r",
      "  6%|▌         | 4/65 [00:14<03:45,  3.69s/it]"
     ]
    },
    {
     "name": "stdout",
     "output_type": "stream",
     "text": [
      "imageBatch shape (4, 74115)\n",
      "generatedImages shape (4, 74115)\n"
     ]
    },
    {
     "name": "stderr",
     "output_type": "stream",
     "text": [
      "\r",
      "  8%|▊         | 5/65 [00:18<03:40,  3.67s/it]"
     ]
    },
    {
     "name": "stdout",
     "output_type": "stream",
     "text": [
      "imageBatch shape (4, 74115)\n",
      "generatedImages shape (4, 74115)\n"
     ]
    },
    {
     "name": "stderr",
     "output_type": "stream",
     "text": [
      "\r",
      "  9%|▉         | 6/65 [00:21<03:35,  3.65s/it]"
     ]
    },
    {
     "name": "stdout",
     "output_type": "stream",
     "text": [
      "imageBatch shape (4, 74115)\n",
      "generatedImages shape (4, 74115)\n"
     ]
    },
    {
     "name": "stderr",
     "output_type": "stream",
     "text": [
      "\r",
      " 11%|█         | 7/65 [00:25<03:34,  3.70s/it]"
     ]
    },
    {
     "name": "stdout",
     "output_type": "stream",
     "text": [
      "imageBatch shape (4, 74115)\n",
      "generatedImages shape (4, 74115)\n"
     ]
    },
    {
     "name": "stderr",
     "output_type": "stream",
     "text": [
      "\r",
      " 12%|█▏        | 8/65 [00:29<03:29,  3.67s/it]"
     ]
    },
    {
     "name": "stdout",
     "output_type": "stream",
     "text": [
      "imageBatch shape (4, 74115)\n",
      "generatedImages shape (4, 74115)\n"
     ]
    },
    {
     "name": "stderr",
     "output_type": "stream",
     "text": [
      "\r",
      " 14%|█▍        | 9/65 [00:32<03:23,  3.64s/it]"
     ]
    },
    {
     "name": "stdout",
     "output_type": "stream",
     "text": [
      "imageBatch shape (4, 74115)\n",
      "generatedImages shape (4, 74115)\n"
     ]
    },
    {
     "name": "stderr",
     "output_type": "stream",
     "text": [
      "\r",
      " 15%|█▌        | 10/65 [00:36<03:19,  3.62s/it]"
     ]
    },
    {
     "name": "stdout",
     "output_type": "stream",
     "text": [
      "imageBatch shape (4, 74115)\n",
      "generatedImages shape (4, 74115)\n"
     ]
    },
    {
     "name": "stderr",
     "output_type": "stream",
     "text": [
      "\r",
      " 17%|█▋        | 11/65 [00:40<03:16,  3.64s/it]"
     ]
    },
    {
     "name": "stdout",
     "output_type": "stream",
     "text": [
      "imageBatch shape (4, 74115)\n",
      "generatedImages shape (4, 74115)\n"
     ]
    },
    {
     "name": "stderr",
     "output_type": "stream",
     "text": [
      "\r",
      " 18%|█▊        | 12/65 [00:43<03:09,  3.57s/it]"
     ]
    },
    {
     "name": "stdout",
     "output_type": "stream",
     "text": [
      "imageBatch shape (4, 74115)\n",
      "generatedImages shape (4, 74115)\n"
     ]
    },
    {
     "name": "stderr",
     "output_type": "stream",
     "text": [
      "\r",
      " 20%|██        | 13/65 [00:47<03:06,  3.58s/it]"
     ]
    },
    {
     "name": "stdout",
     "output_type": "stream",
     "text": [
      "imageBatch shape (4, 74115)\n",
      "generatedImages shape (4, 74115)\n"
     ]
    },
    {
     "name": "stderr",
     "output_type": "stream",
     "text": [
      "\r",
      " 22%|██▏       | 14/65 [00:50<03:03,  3.60s/it]"
     ]
    },
    {
     "name": "stdout",
     "output_type": "stream",
     "text": [
      "imageBatch shape (4, 74115)\n",
      "generatedImages shape (4, 74115)\n"
     ]
    },
    {
     "name": "stderr",
     "output_type": "stream",
     "text": [
      "\r",
      " 23%|██▎       | 15/65 [00:54<03:01,  3.63s/it]"
     ]
    },
    {
     "name": "stdout",
     "output_type": "stream",
     "text": [
      "imageBatch shape (4, 74115)\n",
      "generatedImages shape (4, 74115)\n"
     ]
    },
    {
     "name": "stderr",
     "output_type": "stream",
     "text": [
      "\r",
      " 25%|██▍       | 16/65 [00:58<02:58,  3.64s/it]"
     ]
    },
    {
     "name": "stdout",
     "output_type": "stream",
     "text": [
      "imageBatch shape (4, 74115)\n",
      "generatedImages shape (4, 74115)\n"
     ]
    },
    {
     "name": "stderr",
     "output_type": "stream",
     "text": [
      "\r",
      " 26%|██▌       | 17/65 [01:01<02:52,  3.60s/it]"
     ]
    },
    {
     "name": "stdout",
     "output_type": "stream",
     "text": [
      "imageBatch shape (4, 74115)\n",
      "generatedImages shape (4, 74115)\n"
     ]
    },
    {
     "name": "stderr",
     "output_type": "stream",
     "text": [
      "\r",
      " 28%|██▊       | 18/65 [01:05<02:48,  3.59s/it]"
     ]
    },
    {
     "name": "stdout",
     "output_type": "stream",
     "text": [
      "imageBatch shape (4, 74115)\n",
      "generatedImages shape (4, 74115)\n"
     ]
    },
    {
     "name": "stderr",
     "output_type": "stream",
     "text": [
      "\r",
      " 29%|██▉       | 19/65 [01:08<02:44,  3.57s/it]"
     ]
    },
    {
     "name": "stdout",
     "output_type": "stream",
     "text": [
      "imageBatch shape (4, 74115)\n",
      "generatedImages shape (4, 74115)\n"
     ]
    },
    {
     "name": "stderr",
     "output_type": "stream",
     "text": [
      "\r",
      " 31%|███       | 20/65 [01:12<02:39,  3.55s/it]"
     ]
    },
    {
     "name": "stdout",
     "output_type": "stream",
     "text": [
      "imageBatch shape (4, 74115)\n",
      "generatedImages shape (4, 74115)\n"
     ]
    },
    {
     "name": "stderr",
     "output_type": "stream",
     "text": [
      "\r",
      " 32%|███▏      | 21/65 [01:16<02:38,  3.60s/it]"
     ]
    },
    {
     "name": "stdout",
     "output_type": "stream",
     "text": [
      "imageBatch shape (4, 74115)\n",
      "generatedImages shape (4, 74115)\n"
     ]
    },
    {
     "name": "stderr",
     "output_type": "stream",
     "text": [
      "\r",
      " 34%|███▍      | 22/65 [01:19<02:34,  3.60s/it]"
     ]
    },
    {
     "name": "stdout",
     "output_type": "stream",
     "text": [
      "imageBatch shape (4, 74115)\n",
      "generatedImages shape (4, 74115)\n"
     ]
    },
    {
     "name": "stderr",
     "output_type": "stream",
     "text": [
      "\r",
      " 35%|███▌      | 23/65 [01:23<02:32,  3.62s/it]"
     ]
    },
    {
     "name": "stdout",
     "output_type": "stream",
     "text": [
      "imageBatch shape (4, 74115)\n",
      "generatedImages shape (4, 74115)\n"
     ]
    },
    {
     "name": "stderr",
     "output_type": "stream",
     "text": [
      "\r",
      " 37%|███▋      | 24/65 [01:27<02:29,  3.65s/it]"
     ]
    },
    {
     "name": "stdout",
     "output_type": "stream",
     "text": [
      "imageBatch shape (4, 74115)\n",
      "generatedImages shape (4, 74115)\n"
     ]
    },
    {
     "name": "stderr",
     "output_type": "stream",
     "text": [
      "\r",
      " 38%|███▊      | 25/65 [01:30<02:25,  3.63s/it]"
     ]
    },
    {
     "name": "stdout",
     "output_type": "stream",
     "text": [
      "imageBatch shape (4, 74115)\n",
      "generatedImages shape (4, 74115)\n"
     ]
    },
    {
     "name": "stderr",
     "output_type": "stream",
     "text": [
      "\r",
      " 40%|████      | 26/65 [01:34<02:20,  3.60s/it]"
     ]
    },
    {
     "name": "stdout",
     "output_type": "stream",
     "text": [
      "imageBatch shape (4, 74115)\n",
      "generatedImages shape (4, 74115)\n"
     ]
    },
    {
     "name": "stderr",
     "output_type": "stream",
     "text": [
      "\r",
      " 42%|████▏     | 27/65 [01:37<02:17,  3.63s/it]"
     ]
    },
    {
     "name": "stdout",
     "output_type": "stream",
     "text": [
      "imageBatch shape (4, 74115)\n",
      "generatedImages shape (4, 74115)\n"
     ]
    },
    {
     "name": "stderr",
     "output_type": "stream",
     "text": [
      "\r",
      " 43%|████▎     | 28/65 [01:41<02:16,  3.69s/it]"
     ]
    },
    {
     "name": "stdout",
     "output_type": "stream",
     "text": [
      "imageBatch shape (4, 74115)\n",
      "generatedImages shape (4, 74115)\n"
     ]
    },
    {
     "name": "stderr",
     "output_type": "stream",
     "text": [
      "\r",
      " 45%|████▍     | 29/65 [01:45<02:12,  3.69s/it]"
     ]
    },
    {
     "name": "stdout",
     "output_type": "stream",
     "text": [
      "imageBatch shape (4, 74115)\n",
      "generatedImages shape (4, 74115)\n"
     ]
    },
    {
     "name": "stderr",
     "output_type": "stream",
     "text": [
      "\r",
      " 46%|████▌     | 30/65 [01:48<02:06,  3.62s/it]"
     ]
    },
    {
     "name": "stdout",
     "output_type": "stream",
     "text": [
      "imageBatch shape (4, 74115)\n",
      "generatedImages shape (4, 74115)\n"
     ]
    },
    {
     "name": "stderr",
     "output_type": "stream",
     "text": [
      "\r",
      " 48%|████▊     | 31/65 [01:52<02:01,  3.58s/it]"
     ]
    },
    {
     "name": "stdout",
     "output_type": "stream",
     "text": [
      "imageBatch shape (4, 74115)\n",
      "generatedImages shape (4, 74115)\n"
     ]
    },
    {
     "name": "stderr",
     "output_type": "stream",
     "text": [
      "\r",
      " 49%|████▉     | 32/65 [01:55<01:56,  3.54s/it]"
     ]
    },
    {
     "name": "stdout",
     "output_type": "stream",
     "text": [
      "imageBatch shape (4, 74115)\n",
      "generatedImages shape (4, 74115)\n"
     ]
    },
    {
     "name": "stderr",
     "output_type": "stream",
     "text": [
      "\r",
      " 51%|█████     | 33/65 [01:59<01:53,  3.53s/it]"
     ]
    },
    {
     "name": "stdout",
     "output_type": "stream",
     "text": [
      "imageBatch shape (4, 74115)\n",
      "generatedImages shape (4, 74115)\n"
     ]
    },
    {
     "name": "stderr",
     "output_type": "stream",
     "text": [
      "\r",
      " 52%|█████▏    | 34/65 [02:02<01:49,  3.53s/it]"
     ]
    },
    {
     "name": "stdout",
     "output_type": "stream",
     "text": [
      "imageBatch shape (4, 74115)\n",
      "generatedImages shape (4, 74115)\n"
     ]
    },
    {
     "name": "stderr",
     "output_type": "stream",
     "text": [
      "\r",
      " 54%|█████▍    | 35/65 [02:06<01:46,  3.54s/it]"
     ]
    },
    {
     "name": "stdout",
     "output_type": "stream",
     "text": [
      "imageBatch shape (4, 74115)\n",
      "generatedImages shape (4, 74115)\n"
     ]
    },
    {
     "name": "stderr",
     "output_type": "stream",
     "text": [
      "\r",
      " 55%|█████▌    | 36/65 [02:10<01:44,  3.61s/it]"
     ]
    },
    {
     "name": "stdout",
     "output_type": "stream",
     "text": [
      "imageBatch shape (4, 74115)\n",
      "generatedImages shape (4, 74115)\n"
     ]
    },
    {
     "name": "stderr",
     "output_type": "stream",
     "text": [
      "\r",
      " 57%|█████▋    | 37/65 [02:13<01:41,  3.64s/it]"
     ]
    },
    {
     "name": "stdout",
     "output_type": "stream",
     "text": [
      "imageBatch shape (4, 74115)\n",
      "generatedImages shape (4, 74115)\n"
     ]
    },
    {
     "name": "stderr",
     "output_type": "stream",
     "text": [
      "\r",
      " 58%|█████▊    | 38/65 [02:17<01:38,  3.65s/it]"
     ]
    },
    {
     "name": "stdout",
     "output_type": "stream",
     "text": [
      "imageBatch shape (4, 74115)\n",
      "generatedImages shape (4, 74115)\n"
     ]
    },
    {
     "name": "stderr",
     "output_type": "stream",
     "text": [
      "\r",
      " 60%|██████    | 39/65 [02:21<01:34,  3.65s/it]"
     ]
    },
    {
     "name": "stdout",
     "output_type": "stream",
     "text": [
      "imageBatch shape (4, 74115)\n",
      "generatedImages shape (4, 74115)\n"
     ]
    },
    {
     "name": "stderr",
     "output_type": "stream",
     "text": [
      "\r",
      " 62%|██████▏   | 40/65 [02:24<01:31,  3.67s/it]"
     ]
    },
    {
     "name": "stdout",
     "output_type": "stream",
     "text": [
      "imageBatch shape (4, 74115)\n",
      "generatedImages shape (4, 74115)\n"
     ]
    },
    {
     "name": "stderr",
     "output_type": "stream",
     "text": [
      "\r",
      " 63%|██████▎   | 41/65 [02:28<01:28,  3.69s/it]"
     ]
    },
    {
     "name": "stdout",
     "output_type": "stream",
     "text": [
      "imageBatch shape (4, 74115)\n",
      "generatedImages shape (4, 74115)\n"
     ]
    },
    {
     "name": "stderr",
     "output_type": "stream",
     "text": [
      "\r",
      " 65%|██████▍   | 42/65 [02:32<01:24,  3.68s/it]"
     ]
    },
    {
     "name": "stdout",
     "output_type": "stream",
     "text": [
      "imageBatch shape (4, 74115)\n",
      "generatedImages shape (4, 74115)\n"
     ]
    },
    {
     "name": "stderr",
     "output_type": "stream",
     "text": [
      "\r",
      " 66%|██████▌   | 43/65 [02:35<01:19,  3.63s/it]"
     ]
    },
    {
     "name": "stdout",
     "output_type": "stream",
     "text": [
      "imageBatch shape (4, 74115)\n",
      "generatedImages shape (4, 74115)\n"
     ]
    },
    {
     "name": "stderr",
     "output_type": "stream",
     "text": [
      "\r",
      " 68%|██████▊   | 44/65 [02:39<01:15,  3.62s/it]"
     ]
    },
    {
     "name": "stdout",
     "output_type": "stream",
     "text": [
      "imageBatch shape (4, 74115)\n",
      "generatedImages shape (4, 74115)\n"
     ]
    },
    {
     "name": "stderr",
     "output_type": "stream",
     "text": [
      "\r",
      " 69%|██████▉   | 45/65 [02:42<01:11,  3.59s/it]"
     ]
    },
    {
     "name": "stdout",
     "output_type": "stream",
     "text": [
      "imageBatch shape (4, 74115)\n",
      "generatedImages shape (4, 74115)\n"
     ]
    },
    {
     "name": "stderr",
     "output_type": "stream",
     "text": [
      "\r",
      " 71%|███████   | 46/65 [02:46<01:07,  3.57s/it]"
     ]
    },
    {
     "name": "stdout",
     "output_type": "stream",
     "text": [
      "imageBatch shape (4, 74115)\n",
      "generatedImages shape (4, 74115)\n"
     ]
    },
    {
     "name": "stderr",
     "output_type": "stream",
     "text": [
      "\r",
      " 72%|███████▏  | 47/65 [02:49<01:03,  3.54s/it]"
     ]
    },
    {
     "name": "stdout",
     "output_type": "stream",
     "text": [
      "imageBatch shape (4, 74115)\n",
      "generatedImages shape (4, 74115)\n"
     ]
    },
    {
     "name": "stderr",
     "output_type": "stream",
     "text": [
      "\r",
      " 74%|███████▍  | 48/65 [02:53<01:00,  3.55s/it]"
     ]
    },
    {
     "name": "stdout",
     "output_type": "stream",
     "text": [
      "imageBatch shape (4, 74115)\n",
      "generatedImages shape (4, 74115)\n"
     ]
    },
    {
     "name": "stderr",
     "output_type": "stream",
     "text": [
      "\r",
      " 75%|███████▌  | 49/65 [02:56<00:56,  3.54s/it]"
     ]
    },
    {
     "name": "stdout",
     "output_type": "stream",
     "text": [
      "imageBatch shape (4, 74115)\n",
      "generatedImages shape (4, 74115)\n"
     ]
    },
    {
     "name": "stderr",
     "output_type": "stream",
     "text": [
      "\r",
      " 77%|███████▋  | 50/65 [03:00<00:52,  3.53s/it]"
     ]
    },
    {
     "name": "stdout",
     "output_type": "stream",
     "text": [
      "imageBatch shape (4, 74115)\n",
      "generatedImages shape (4, 74115)\n"
     ]
    },
    {
     "name": "stderr",
     "output_type": "stream",
     "text": [
      "\r",
      " 78%|███████▊  | 51/65 [03:04<00:49,  3.53s/it]"
     ]
    },
    {
     "name": "stdout",
     "output_type": "stream",
     "text": [
      "imageBatch shape (4, 74115)\n",
      "generatedImages shape (4, 74115)\n"
     ]
    },
    {
     "name": "stderr",
     "output_type": "stream",
     "text": [
      "\r",
      " 80%|████████  | 52/65 [03:07<00:45,  3.51s/it]"
     ]
    },
    {
     "name": "stdout",
     "output_type": "stream",
     "text": [
      "imageBatch shape (4, 74115)\n",
      "generatedImages shape (4, 74115)\n"
     ]
    },
    {
     "name": "stderr",
     "output_type": "stream",
     "text": [
      "\r",
      " 82%|████████▏ | 53/65 [03:11<00:42,  3.51s/it]"
     ]
    },
    {
     "name": "stdout",
     "output_type": "stream",
     "text": [
      "imageBatch shape (4, 74115)\n",
      "generatedImages shape (4, 74115)\n"
     ]
    },
    {
     "name": "stderr",
     "output_type": "stream",
     "text": [
      "\r",
      " 83%|████████▎ | 54/65 [03:14<00:38,  3.52s/it]"
     ]
    },
    {
     "name": "stdout",
     "output_type": "stream",
     "text": [
      "imageBatch shape (4, 74115)\n",
      "generatedImages shape (4, 74115)\n"
     ]
    },
    {
     "name": "stderr",
     "output_type": "stream",
     "text": [
      "\r",
      " 85%|████████▍ | 55/65 [03:18<00:35,  3.52s/it]"
     ]
    },
    {
     "name": "stdout",
     "output_type": "stream",
     "text": [
      "imageBatch shape (4, 74115)\n",
      "generatedImages shape (4, 74115)\n"
     ]
    },
    {
     "name": "stderr",
     "output_type": "stream",
     "text": [
      "\r",
      " 86%|████████▌ | 56/65 [03:21<00:32,  3.56s/it]"
     ]
    },
    {
     "name": "stdout",
     "output_type": "stream",
     "text": [
      "imageBatch shape (4, 74115)\n",
      "generatedImages shape (4, 74115)\n"
     ]
    },
    {
     "name": "stderr",
     "output_type": "stream",
     "text": [
      "\r",
      " 88%|████████▊ | 57/65 [03:25<00:29,  3.63s/it]"
     ]
    },
    {
     "name": "stdout",
     "output_type": "stream",
     "text": [
      "imageBatch shape (4, 74115)\n",
      "generatedImages shape (4, 74115)\n"
     ]
    },
    {
     "name": "stderr",
     "output_type": "stream",
     "text": [
      "\r",
      " 89%|████████▉ | 58/65 [03:29<00:25,  3.61s/it]"
     ]
    },
    {
     "name": "stdout",
     "output_type": "stream",
     "text": [
      "imageBatch shape (4, 74115)\n",
      "generatedImages shape (4, 74115)\n"
     ]
    },
    {
     "name": "stderr",
     "output_type": "stream",
     "text": [
      "\r",
      " 91%|█████████ | 59/65 [03:32<00:21,  3.57s/it]"
     ]
    },
    {
     "name": "stdout",
     "output_type": "stream",
     "text": [
      "imageBatch shape (4, 74115)\n",
      "generatedImages shape (4, 74115)\n"
     ]
    },
    {
     "name": "stderr",
     "output_type": "stream",
     "text": [
      "\r",
      " 92%|█████████▏| 60/65 [03:36<00:17,  3.54s/it]"
     ]
    },
    {
     "name": "stdout",
     "output_type": "stream",
     "text": [
      "imageBatch shape (4, 74115)\n",
      "generatedImages shape (4, 74115)\n"
     ]
    },
    {
     "name": "stderr",
     "output_type": "stream",
     "text": [
      "\r",
      " 94%|█████████▍| 61/65 [03:39<00:14,  3.56s/it]"
     ]
    },
    {
     "name": "stdout",
     "output_type": "stream",
     "text": [
      "imageBatch shape (4, 74115)\n",
      "generatedImages shape (4, 74115)\n"
     ]
    },
    {
     "name": "stderr",
     "output_type": "stream",
     "text": [
      "\r",
      " 95%|█████████▌| 62/65 [03:43<00:10,  3.53s/it]"
     ]
    },
    {
     "name": "stdout",
     "output_type": "stream",
     "text": [
      "imageBatch shape (4, 74115)\n",
      "generatedImages shape (4, 74115)\n"
     ]
    },
    {
     "name": "stderr",
     "output_type": "stream",
     "text": [
      "\r",
      " 97%|█████████▋| 63/65 [03:46<00:07,  3.51s/it]"
     ]
    },
    {
     "name": "stdout",
     "output_type": "stream",
     "text": [
      "imageBatch shape (4, 74115)\n",
      "generatedImages shape (4, 74115)\n"
     ]
    },
    {
     "name": "stderr",
     "output_type": "stream",
     "text": [
      "\r",
      " 98%|█████████▊| 64/65 [03:50<00:03,  3.52s/it]"
     ]
    },
    {
     "name": "stdout",
     "output_type": "stream",
     "text": [
      "imageBatch shape (4, 74115)\n",
      "generatedImages shape (4, 74115)\n"
     ]
    },
    {
     "name": "stderr",
     "output_type": "stream",
     "text": [
      "100%|██████████| 65/65 [03:53<00:00,  3.51s/it]\n",
      "  0%|          | 0/65 [00:00<?, ?it/s]"
     ]
    },
    {
     "name": "stdout",
     "output_type": "stream",
     "text": [
      "--------------- Epoch 4 ---------------\n",
      "imageBatch shape (4, 74115)\n",
      "generatedImages shape (4, 74115)\n"
     ]
    },
    {
     "name": "stderr",
     "output_type": "stream",
     "text": [
      "\r",
      "  2%|▏         | 1/65 [00:03<03:46,  3.53s/it]"
     ]
    },
    {
     "name": "stdout",
     "output_type": "stream",
     "text": [
      "imageBatch shape (4, 74115)\n",
      "generatedImages shape (4, 74115)\n"
     ]
    },
    {
     "name": "stderr",
     "output_type": "stream",
     "text": [
      "\r",
      "  3%|▎         | 2/65 [00:07<03:41,  3.51s/it]"
     ]
    },
    {
     "name": "stdout",
     "output_type": "stream",
     "text": [
      "imageBatch shape (4, 74115)\n",
      "generatedImages shape (4, 74115)\n"
     ]
    },
    {
     "name": "stderr",
     "output_type": "stream",
     "text": [
      "\r",
      "  5%|▍         | 3/65 [00:10<03:37,  3.50s/it]"
     ]
    },
    {
     "name": "stdout",
     "output_type": "stream",
     "text": [
      "imageBatch shape (4, 74115)\n",
      "generatedImages shape (4, 74115)\n"
     ]
    },
    {
     "name": "stderr",
     "output_type": "stream",
     "text": [
      "\r",
      "  6%|▌         | 4/65 [00:13<03:32,  3.48s/it]"
     ]
    },
    {
     "name": "stdout",
     "output_type": "stream",
     "text": [
      "imageBatch shape (4, 74115)\n",
      "generatedImages shape (4, 74115)\n"
     ]
    },
    {
     "name": "stderr",
     "output_type": "stream",
     "text": [
      "\r",
      "  8%|▊         | 5/65 [00:17<03:30,  3.51s/it]"
     ]
    },
    {
     "name": "stdout",
     "output_type": "stream",
     "text": [
      "imageBatch shape (4, 74115)\n",
      "generatedImages shape (4, 74115)\n"
     ]
    },
    {
     "name": "stderr",
     "output_type": "stream",
     "text": [
      "\r",
      "  9%|▉         | 6/65 [00:21<03:27,  3.52s/it]"
     ]
    },
    {
     "name": "stdout",
     "output_type": "stream",
     "text": [
      "imageBatch shape (4, 74115)\n",
      "generatedImages shape (4, 74115)\n"
     ]
    },
    {
     "name": "stderr",
     "output_type": "stream",
     "text": [
      "\r",
      " 11%|█         | 7/65 [00:24<03:22,  3.50s/it]"
     ]
    },
    {
     "name": "stdout",
     "output_type": "stream",
     "text": [
      "imageBatch shape (4, 74115)\n",
      "generatedImages shape (4, 74115)\n"
     ]
    },
    {
     "name": "stderr",
     "output_type": "stream",
     "text": [
      "\r",
      " 12%|█▏        | 8/65 [00:28<03:20,  3.51s/it]"
     ]
    },
    {
     "name": "stdout",
     "output_type": "stream",
     "text": [
      "imageBatch shape (4, 74115)\n",
      "generatedImages shape (4, 74115)\n"
     ]
    },
    {
     "name": "stderr",
     "output_type": "stream",
     "text": [
      "\r",
      " 14%|█▍        | 9/65 [00:31<03:17,  3.53s/it]"
     ]
    },
    {
     "name": "stdout",
     "output_type": "stream",
     "text": [
      "imageBatch shape (4, 74115)\n",
      "generatedImages shape (4, 74115)\n"
     ]
    },
    {
     "name": "stderr",
     "output_type": "stream",
     "text": [
      "\r",
      " 15%|█▌        | 10/65 [00:35<03:12,  3.50s/it]"
     ]
    },
    {
     "name": "stdout",
     "output_type": "stream",
     "text": [
      "imageBatch shape (4, 74115)\n",
      "generatedImages shape (4, 74115)\n"
     ]
    },
    {
     "name": "stderr",
     "output_type": "stream",
     "text": [
      "\r",
      " 17%|█▋        | 11/65 [00:38<03:09,  3.50s/it]"
     ]
    },
    {
     "name": "stdout",
     "output_type": "stream",
     "text": [
      "imageBatch shape (4, 74115)\n",
      "generatedImages shape (4, 74115)\n"
     ]
    },
    {
     "name": "stderr",
     "output_type": "stream",
     "text": [
      "\r",
      " 18%|█▊        | 12/65 [00:42<03:07,  3.54s/it]"
     ]
    },
    {
     "name": "stdout",
     "output_type": "stream",
     "text": [
      "imageBatch shape (4, 74115)\n",
      "generatedImages shape (4, 74115)\n"
     ]
    },
    {
     "name": "stderr",
     "output_type": "stream",
     "text": [
      "\r",
      " 20%|██        | 13/65 [00:45<03:04,  3.55s/it]"
     ]
    },
    {
     "name": "stdout",
     "output_type": "stream",
     "text": [
      "imageBatch shape (4, 74115)\n",
      "generatedImages shape (4, 74115)\n"
     ]
    },
    {
     "name": "stderr",
     "output_type": "stream",
     "text": [
      "\r",
      " 22%|██▏       | 14/65 [00:49<02:58,  3.51s/it]"
     ]
    },
    {
     "name": "stdout",
     "output_type": "stream",
     "text": [
      "imageBatch shape (4, 74115)\n",
      "generatedImages shape (4, 74115)\n"
     ]
    },
    {
     "name": "stderr",
     "output_type": "stream",
     "text": [
      "\r",
      " 23%|██▎       | 15/65 [00:52<02:54,  3.50s/it]"
     ]
    },
    {
     "name": "stdout",
     "output_type": "stream",
     "text": [
      "imageBatch shape (4, 74115)\n",
      "generatedImages shape (4, 74115)\n"
     ]
    },
    {
     "name": "stderr",
     "output_type": "stream",
     "text": [
      "\r",
      " 25%|██▍       | 16/65 [00:56<02:52,  3.51s/it]"
     ]
    },
    {
     "name": "stdout",
     "output_type": "stream",
     "text": [
      "imageBatch shape (4, 74115)\n",
      "generatedImages shape (4, 74115)\n"
     ]
    },
    {
     "name": "stderr",
     "output_type": "stream",
     "text": [
      "\r",
      " 26%|██▌       | 17/65 [00:59<02:46,  3.48s/it]"
     ]
    },
    {
     "name": "stdout",
     "output_type": "stream",
     "text": [
      "imageBatch shape (4, 74115)\n",
      "generatedImages shape (4, 74115)\n"
     ]
    },
    {
     "name": "stderr",
     "output_type": "stream",
     "text": [
      "\r",
      " 28%|██▊       | 18/65 [01:03<02:47,  3.56s/it]"
     ]
    },
    {
     "name": "stdout",
     "output_type": "stream",
     "text": [
      "imageBatch shape (4, 74115)\n",
      "generatedImages shape (4, 74115)\n"
     ]
    },
    {
     "name": "stderr",
     "output_type": "stream",
     "text": [
      "\r",
      " 29%|██▉       | 19/65 [01:07<02:46,  3.63s/it]"
     ]
    },
    {
     "name": "stdout",
     "output_type": "stream",
     "text": [
      "imageBatch shape (4, 74115)\n",
      "generatedImages shape (4, 74115)\n"
     ]
    },
    {
     "name": "stderr",
     "output_type": "stream",
     "text": [
      "\r",
      " 31%|███       | 20/65 [01:10<02:41,  3.58s/it]"
     ]
    },
    {
     "name": "stdout",
     "output_type": "stream",
     "text": [
      "imageBatch shape (4, 74115)\n",
      "generatedImages shape (4, 74115)\n"
     ]
    },
    {
     "name": "stderr",
     "output_type": "stream",
     "text": [
      "\r",
      " 32%|███▏      | 21/65 [01:14<02:36,  3.56s/it]"
     ]
    },
    {
     "name": "stdout",
     "output_type": "stream",
     "text": [
      "imageBatch shape (4, 74115)\n",
      "generatedImages shape (4, 74115)\n"
     ]
    },
    {
     "name": "stderr",
     "output_type": "stream",
     "text": [
      "\r",
      " 34%|███▍      | 22/65 [01:17<02:28,  3.45s/it]"
     ]
    },
    {
     "name": "stdout",
     "output_type": "stream",
     "text": [
      "imageBatch shape (4, 74115)\n",
      "generatedImages shape (4, 74115)\n"
     ]
    },
    {
     "name": "stderr",
     "output_type": "stream",
     "text": [
      "\r",
      " 35%|███▌      | 23/65 [01:20<02:21,  3.37s/it]"
     ]
    },
    {
     "name": "stdout",
     "output_type": "stream",
     "text": [
      "imageBatch shape (4, 74115)\n",
      "generatedImages shape (4, 74115)\n"
     ]
    },
    {
     "name": "stderr",
     "output_type": "stream",
     "text": [
      "\r",
      " 37%|███▋      | 24/65 [01:23<02:16,  3.33s/it]"
     ]
    },
    {
     "name": "stdout",
     "output_type": "stream",
     "text": [
      "imageBatch shape (4, 74115)\n",
      "generatedImages shape (4, 74115)\n"
     ]
    },
    {
     "name": "stderr",
     "output_type": "stream",
     "text": [
      "\r",
      " 38%|███▊      | 25/65 [01:26<02:10,  3.27s/it]"
     ]
    },
    {
     "name": "stdout",
     "output_type": "stream",
     "text": [
      "imageBatch shape (4, 74115)\n",
      "generatedImages shape (4, 74115)\n"
     ]
    },
    {
     "name": "stderr",
     "output_type": "stream",
     "text": [
      "\r",
      " 40%|████      | 26/65 [01:29<02:05,  3.21s/it]"
     ]
    },
    {
     "name": "stdout",
     "output_type": "stream",
     "text": [
      "imageBatch shape (4, 74115)\n",
      "generatedImages shape (4, 74115)\n"
     ]
    },
    {
     "name": "stderr",
     "output_type": "stream",
     "text": [
      "\r",
      " 42%|████▏     | 27/65 [01:32<02:00,  3.17s/it]"
     ]
    },
    {
     "name": "stdout",
     "output_type": "stream",
     "text": [
      "imageBatch shape (4, 74115)\n",
      "generatedImages shape (4, 74115)\n"
     ]
    },
    {
     "name": "stderr",
     "output_type": "stream",
     "text": [
      "\r",
      " 43%|████▎     | 28/65 [01:36<01:56,  3.16s/it]"
     ]
    },
    {
     "name": "stdout",
     "output_type": "stream",
     "text": [
      "imageBatch shape (4, 74115)\n",
      "generatedImages shape (4, 74115)\n"
     ]
    },
    {
     "name": "stderr",
     "output_type": "stream",
     "text": [
      "\r",
      " 45%|████▍     | 29/65 [01:39<01:52,  3.13s/it]"
     ]
    },
    {
     "name": "stdout",
     "output_type": "stream",
     "text": [
      "imageBatch shape (4, 74115)\n",
      "generatedImages shape (4, 74115)\n"
     ]
    },
    {
     "name": "stderr",
     "output_type": "stream",
     "text": [
      "\r",
      " 46%|████▌     | 30/65 [01:42<01:49,  3.13s/it]"
     ]
    },
    {
     "name": "stdout",
     "output_type": "stream",
     "text": [
      "imageBatch shape (4, 74115)\n",
      "generatedImages shape (4, 74115)\n"
     ]
    },
    {
     "name": "stderr",
     "output_type": "stream",
     "text": [
      "\r",
      " 48%|████▊     | 31/65 [01:45<01:46,  3.12s/it]"
     ]
    },
    {
     "name": "stdout",
     "output_type": "stream",
     "text": [
      "imageBatch shape (4, 74115)\n",
      "generatedImages shape (4, 74115)\n"
     ]
    },
    {
     "name": "stderr",
     "output_type": "stream",
     "text": [
      "\r",
      " 49%|████▉     | 32/65 [01:48<01:44,  3.15s/it]"
     ]
    },
    {
     "name": "stdout",
     "output_type": "stream",
     "text": [
      "imageBatch shape (4, 74115)\n",
      "generatedImages shape (4, 74115)\n"
     ]
    },
    {
     "name": "stderr",
     "output_type": "stream",
     "text": [
      "\r",
      " 51%|█████     | 33/65 [01:51<01:40,  3.14s/it]"
     ]
    },
    {
     "name": "stdout",
     "output_type": "stream",
     "text": [
      "imageBatch shape (4, 74115)\n",
      "generatedImages shape (4, 74115)\n"
     ]
    },
    {
     "name": "stderr",
     "output_type": "stream",
     "text": [
      "\r",
      " 52%|█████▏    | 34/65 [01:54<01:37,  3.14s/it]"
     ]
    },
    {
     "name": "stdout",
     "output_type": "stream",
     "text": [
      "imageBatch shape (4, 74115)\n",
      "generatedImages shape (4, 74115)\n"
     ]
    },
    {
     "name": "stderr",
     "output_type": "stream",
     "text": [
      "\r",
      " 54%|█████▍    | 35/65 [01:58<01:36,  3.22s/it]"
     ]
    },
    {
     "name": "stdout",
     "output_type": "stream",
     "text": [
      "imageBatch shape (4, 74115)\n",
      "generatedImages shape (4, 74115)\n"
     ]
    },
    {
     "name": "stderr",
     "output_type": "stream",
     "text": [
      "\r",
      " 55%|█████▌    | 36/65 [02:01<01:34,  3.25s/it]"
     ]
    },
    {
     "name": "stdout",
     "output_type": "stream",
     "text": [
      "imageBatch shape (4, 74115)\n",
      "generatedImages shape (4, 74115)\n"
     ]
    },
    {
     "name": "stderr",
     "output_type": "stream",
     "text": [
      "\r",
      " 57%|█████▋    | 37/65 [02:04<01:31,  3.28s/it]"
     ]
    },
    {
     "name": "stdout",
     "output_type": "stream",
     "text": [
      "imageBatch shape (4, 74115)\n",
      "generatedImages shape (4, 74115)\n"
     ]
    },
    {
     "name": "stderr",
     "output_type": "stream",
     "text": [
      "\r",
      " 58%|█████▊    | 38/65 [02:08<01:27,  3.25s/it]"
     ]
    },
    {
     "name": "stdout",
     "output_type": "stream",
     "text": [
      "imageBatch shape (4, 74115)\n",
      "generatedImages shape (4, 74115)\n"
     ]
    },
    {
     "name": "stderr",
     "output_type": "stream",
     "text": [
      "\r",
      " 60%|██████    | 39/65 [02:11<01:24,  3.24s/it]"
     ]
    },
    {
     "name": "stdout",
     "output_type": "stream",
     "text": [
      "imageBatch shape (4, 74115)\n",
      "generatedImages shape (4, 74115)\n"
     ]
    },
    {
     "name": "stderr",
     "output_type": "stream",
     "text": [
      "\r",
      " 62%|██████▏   | 40/65 [02:14<01:20,  3.23s/it]"
     ]
    },
    {
     "name": "stdout",
     "output_type": "stream",
     "text": [
      "imageBatch shape (4, 74115)\n",
      "generatedImages shape (4, 74115)\n"
     ]
    },
    {
     "name": "stderr",
     "output_type": "stream",
     "text": [
      "\r",
      " 63%|██████▎   | 41/65 [02:17<01:16,  3.20s/it]"
     ]
    },
    {
     "name": "stdout",
     "output_type": "stream",
     "text": [
      "imageBatch shape (4, 74115)\n",
      "generatedImages shape (4, 74115)\n"
     ]
    },
    {
     "name": "stderr",
     "output_type": "stream",
     "text": [
      "\r",
      " 65%|██████▍   | 42/65 [02:20<01:12,  3.17s/it]"
     ]
    },
    {
     "name": "stdout",
     "output_type": "stream",
     "text": [
      "imageBatch shape (4, 74115)\n",
      "generatedImages shape (4, 74115)\n"
     ]
    },
    {
     "name": "stderr",
     "output_type": "stream",
     "text": [
      "\r",
      " 66%|██████▌   | 43/65 [02:23<01:09,  3.15s/it]"
     ]
    },
    {
     "name": "stdout",
     "output_type": "stream",
     "text": [
      "imageBatch shape (4, 74115)\n",
      "generatedImages shape (4, 74115)\n"
     ]
    },
    {
     "name": "stderr",
     "output_type": "stream",
     "text": [
      "\r",
      " 68%|██████▊   | 44/65 [02:26<01:05,  3.13s/it]"
     ]
    },
    {
     "name": "stdout",
     "output_type": "stream",
     "text": [
      "imageBatch shape (4, 74115)\n",
      "generatedImages shape (4, 74115)\n"
     ]
    },
    {
     "name": "stderr",
     "output_type": "stream",
     "text": [
      "\r",
      " 69%|██████▉   | 45/65 [02:30<01:02,  3.12s/it]"
     ]
    },
    {
     "name": "stdout",
     "output_type": "stream",
     "text": [
      "imageBatch shape (4, 74115)\n",
      "generatedImages shape (4, 74115)\n"
     ]
    },
    {
     "name": "stderr",
     "output_type": "stream",
     "text": [
      "\r",
      " 71%|███████   | 46/65 [02:33<00:59,  3.12s/it]"
     ]
    },
    {
     "name": "stdout",
     "output_type": "stream",
     "text": [
      "imageBatch shape (4, 74115)\n",
      "generatedImages shape (4, 74115)\n"
     ]
    },
    {
     "name": "stderr",
     "output_type": "stream",
     "text": [
      "\r",
      " 72%|███████▏  | 47/65 [02:36<00:55,  3.10s/it]"
     ]
    },
    {
     "name": "stdout",
     "output_type": "stream",
     "text": [
      "imageBatch shape (4, 74115)\n",
      "generatedImages shape (4, 74115)\n"
     ]
    },
    {
     "name": "stderr",
     "output_type": "stream",
     "text": [
      "\r",
      " 74%|███████▍  | 48/65 [02:39<00:52,  3.11s/it]"
     ]
    },
    {
     "name": "stdout",
     "output_type": "stream",
     "text": [
      "imageBatch shape (4, 74115)\n",
      "generatedImages shape (4, 74115)\n"
     ]
    },
    {
     "name": "stderr",
     "output_type": "stream",
     "text": [
      "\r",
      " 75%|███████▌  | 49/65 [02:42<00:49,  3.10s/it]"
     ]
    },
    {
     "name": "stdout",
     "output_type": "stream",
     "text": [
      "imageBatch shape (4, 74115)\n",
      "generatedImages shape (4, 74115)\n"
     ]
    },
    {
     "name": "stderr",
     "output_type": "stream",
     "text": [
      "\r",
      " 77%|███████▋  | 50/65 [02:45<00:46,  3.10s/it]"
     ]
    },
    {
     "name": "stdout",
     "output_type": "stream",
     "text": [
      "imageBatch shape (4, 74115)\n",
      "generatedImages shape (4, 74115)\n"
     ]
    },
    {
     "name": "stderr",
     "output_type": "stream",
     "text": [
      "\r",
      " 78%|███████▊  | 51/65 [02:48<00:43,  3.10s/it]"
     ]
    },
    {
     "name": "stdout",
     "output_type": "stream",
     "text": [
      "imageBatch shape (4, 74115)\n",
      "generatedImages shape (4, 74115)\n"
     ]
    },
    {
     "name": "stderr",
     "output_type": "stream",
     "text": [
      "\r",
      " 80%|████████  | 52/65 [02:51<00:40,  3.08s/it]"
     ]
    },
    {
     "name": "stdout",
     "output_type": "stream",
     "text": [
      "imageBatch shape (4, 74115)\n",
      "generatedImages shape (4, 74115)\n"
     ]
    },
    {
     "name": "stderr",
     "output_type": "stream",
     "text": [
      "\r",
      " 82%|████████▏ | 53/65 [02:54<00:36,  3.08s/it]"
     ]
    },
    {
     "name": "stdout",
     "output_type": "stream",
     "text": [
      "imageBatch shape (4, 74115)\n",
      "generatedImages shape (4, 74115)\n"
     ]
    },
    {
     "name": "stderr",
     "output_type": "stream",
     "text": [
      "\r",
      " 83%|████████▎ | 54/65 [02:57<00:33,  3.07s/it]"
     ]
    },
    {
     "name": "stdout",
     "output_type": "stream",
     "text": [
      "imageBatch shape (4, 74115)\n",
      "generatedImages shape (4, 74115)\n"
     ]
    },
    {
     "name": "stderr",
     "output_type": "stream",
     "text": [
      "\r",
      " 85%|████████▍ | 55/65 [03:00<00:30,  3.08s/it]"
     ]
    },
    {
     "name": "stdout",
     "output_type": "stream",
     "text": [
      "imageBatch shape (4, 74115)\n",
      "generatedImages shape (4, 74115)\n"
     ]
    },
    {
     "name": "stderr",
     "output_type": "stream",
     "text": [
      "\r",
      " 86%|████████▌ | 56/65 [03:04<00:27,  3.10s/it]"
     ]
    },
    {
     "name": "stdout",
     "output_type": "stream",
     "text": [
      "imageBatch shape (4, 74115)\n",
      "generatedImages shape (4, 74115)\n"
     ]
    },
    {
     "name": "stderr",
     "output_type": "stream",
     "text": [
      "\r",
      " 88%|████████▊ | 57/65 [03:07<00:25,  3.13s/it]"
     ]
    },
    {
     "name": "stdout",
     "output_type": "stream",
     "text": [
      "imageBatch shape (4, 74115)\n",
      "generatedImages shape (4, 74115)\n"
     ]
    },
    {
     "name": "stderr",
     "output_type": "stream",
     "text": [
      "\r",
      " 89%|████████▉ | 58/65 [03:10<00:21,  3.13s/it]"
     ]
    },
    {
     "name": "stdout",
     "output_type": "stream",
     "text": [
      "imageBatch shape (4, 74115)\n",
      "generatedImages shape (4, 74115)\n"
     ]
    },
    {
     "name": "stderr",
     "output_type": "stream",
     "text": [
      "\r",
      " 91%|█████████ | 59/65 [03:13<00:18,  3.12s/it]"
     ]
    },
    {
     "name": "stdout",
     "output_type": "stream",
     "text": [
      "imageBatch shape (4, 74115)\n",
      "generatedImages shape (4, 74115)\n"
     ]
    },
    {
     "name": "stderr",
     "output_type": "stream",
     "text": [
      "\r",
      " 92%|█████████▏| 60/65 [03:16<00:15,  3.14s/it]"
     ]
    },
    {
     "name": "stdout",
     "output_type": "stream",
     "text": [
      "imageBatch shape (4, 74115)\n",
      "generatedImages shape (4, 74115)\n"
     ]
    },
    {
     "name": "stderr",
     "output_type": "stream",
     "text": [
      "\r",
      " 94%|█████████▍| 61/65 [03:19<00:12,  3.14s/it]"
     ]
    },
    {
     "name": "stdout",
     "output_type": "stream",
     "text": [
      "imageBatch shape (4, 74115)\n",
      "generatedImages shape (4, 74115)\n"
     ]
    },
    {
     "name": "stderr",
     "output_type": "stream",
     "text": [
      "\r",
      " 95%|█████████▌| 62/65 [03:22<00:09,  3.13s/it]"
     ]
    },
    {
     "name": "stdout",
     "output_type": "stream",
     "text": [
      "imageBatch shape (4, 74115)\n",
      "generatedImages shape (4, 74115)\n"
     ]
    },
    {
     "name": "stderr",
     "output_type": "stream",
     "text": [
      "\r",
      " 97%|█████████▋| 63/65 [03:26<00:06,  3.18s/it]"
     ]
    },
    {
     "name": "stdout",
     "output_type": "stream",
     "text": [
      "imageBatch shape (4, 74115)\n",
      "generatedImages shape (4, 74115)\n"
     ]
    },
    {
     "name": "stderr",
     "output_type": "stream",
     "text": [
      "\r",
      " 98%|█████████▊| 64/65 [03:29<00:03,  3.16s/it]"
     ]
    },
    {
     "name": "stdout",
     "output_type": "stream",
     "text": [
      "imageBatch shape (4, 74115)\n",
      "generatedImages shape (4, 74115)\n"
     ]
    },
    {
     "name": "stderr",
     "output_type": "stream",
     "text": [
      "100%|██████████| 65/65 [03:32<00:00,  3.17s/it]\n",
      "  0%|          | 0/65 [00:00<?, ?it/s]"
     ]
    },
    {
     "name": "stdout",
     "output_type": "stream",
     "text": [
      "--------------- Epoch 5 ---------------\n",
      "imageBatch shape (4, 74115)\n",
      "generatedImages shape (4, 74115)\n"
     ]
    },
    {
     "name": "stderr",
     "output_type": "stream",
     "text": [
      "\r",
      "  2%|▏         | 1/65 [00:03<03:19,  3.12s/it]"
     ]
    },
    {
     "name": "stdout",
     "output_type": "stream",
     "text": [
      "imageBatch shape (4, 74115)\n",
      "generatedImages shape (4, 74115)\n"
     ]
    },
    {
     "name": "stderr",
     "output_type": "stream",
     "text": [
      "\r",
      "  3%|▎         | 2/65 [00:06<03:16,  3.12s/it]"
     ]
    },
    {
     "name": "stdout",
     "output_type": "stream",
     "text": [
      "imageBatch shape (4, 74115)\n",
      "generatedImages shape (4, 74115)\n"
     ]
    },
    {
     "name": "stderr",
     "output_type": "stream",
     "text": [
      "\r",
      "  5%|▍         | 3/65 [00:09<03:15,  3.15s/it]"
     ]
    },
    {
     "name": "stdout",
     "output_type": "stream",
     "text": [
      "imageBatch shape (4, 74115)\n",
      "generatedImages shape (4, 74115)\n"
     ]
    },
    {
     "name": "stderr",
     "output_type": "stream",
     "text": [
      "\r",
      "  6%|▌         | 4/65 [00:12<03:11,  3.14s/it]"
     ]
    },
    {
     "name": "stdout",
     "output_type": "stream",
     "text": [
      "imageBatch shape (4, 74115)\n",
      "generatedImages shape (4, 74115)\n"
     ]
    },
    {
     "name": "stderr",
     "output_type": "stream",
     "text": [
      "\r",
      "  8%|▊         | 5/65 [00:15<03:07,  3.13s/it]"
     ]
    },
    {
     "name": "stdout",
     "output_type": "stream",
     "text": [
      "imageBatch shape (4, 74115)\n",
      "generatedImages shape (4, 74115)\n"
     ]
    },
    {
     "name": "stderr",
     "output_type": "stream",
     "text": [
      "\r",
      "  9%|▉         | 6/65 [00:18<03:04,  3.12s/it]"
     ]
    },
    {
     "name": "stdout",
     "output_type": "stream",
     "text": [
      "imageBatch shape (4, 74115)\n",
      "generatedImages shape (4, 74115)\n"
     ]
    },
    {
     "name": "stderr",
     "output_type": "stream",
     "text": [
      "\r",
      " 11%|█         | 7/65 [00:21<03:01,  3.13s/it]"
     ]
    },
    {
     "name": "stdout",
     "output_type": "stream",
     "text": [
      "imageBatch shape (4, 74115)\n",
      "generatedImages shape (4, 74115)\n"
     ]
    },
    {
     "name": "stderr",
     "output_type": "stream",
     "text": [
      "\r",
      " 12%|█▏        | 8/65 [00:25<02:57,  3.12s/it]"
     ]
    },
    {
     "name": "stdout",
     "output_type": "stream",
     "text": [
      "imageBatch shape (4, 74115)\n",
      "generatedImages shape (4, 74115)\n"
     ]
    },
    {
     "name": "stderr",
     "output_type": "stream",
     "text": [
      "\r",
      " 14%|█▍        | 9/65 [00:28<02:53,  3.11s/it]"
     ]
    },
    {
     "name": "stdout",
     "output_type": "stream",
     "text": [
      "imageBatch shape (4, 74115)\n",
      "generatedImages shape (4, 74115)\n"
     ]
    },
    {
     "name": "stderr",
     "output_type": "stream",
     "text": [
      "\r",
      " 15%|█▌        | 10/65 [00:31<02:50,  3.10s/it]"
     ]
    },
    {
     "name": "stdout",
     "output_type": "stream",
     "text": [
      "imageBatch shape (4, 74115)\n",
      "generatedImages shape (4, 74115)\n"
     ]
    },
    {
     "name": "stderr",
     "output_type": "stream",
     "text": [
      "\r",
      " 17%|█▋        | 11/65 [00:34<02:47,  3.11s/it]"
     ]
    },
    {
     "name": "stdout",
     "output_type": "stream",
     "text": [
      "imageBatch shape (4, 74115)\n",
      "generatedImages shape (4, 74115)\n"
     ]
    },
    {
     "name": "stderr",
     "output_type": "stream",
     "text": [
      "\r",
      " 18%|█▊        | 12/65 [00:37<02:44,  3.10s/it]"
     ]
    },
    {
     "name": "stdout",
     "output_type": "stream",
     "text": [
      "imageBatch shape (4, 74115)\n",
      "generatedImages shape (4, 74115)\n"
     ]
    },
    {
     "name": "stderr",
     "output_type": "stream",
     "text": [
      "\r",
      " 20%|██        | 13/65 [00:40<02:41,  3.10s/it]"
     ]
    },
    {
     "name": "stdout",
     "output_type": "stream",
     "text": [
      "imageBatch shape (4, 74115)\n",
      "generatedImages shape (4, 74115)\n"
     ]
    },
    {
     "name": "stderr",
     "output_type": "stream",
     "text": [
      "\r",
      " 22%|██▏       | 14/65 [00:43<02:37,  3.09s/it]"
     ]
    },
    {
     "name": "stdout",
     "output_type": "stream",
     "text": [
      "imageBatch shape (4, 74115)\n",
      "generatedImages shape (4, 74115)\n"
     ]
    },
    {
     "name": "stderr",
     "output_type": "stream",
     "text": [
      "\r",
      " 23%|██▎       | 15/65 [00:46<02:34,  3.08s/it]"
     ]
    },
    {
     "name": "stdout",
     "output_type": "stream",
     "text": [
      "imageBatch shape (4, 74115)\n",
      "generatedImages shape (4, 74115)\n"
     ]
    },
    {
     "name": "stderr",
     "output_type": "stream",
     "text": [
      "\r",
      " 25%|██▍       | 16/65 [00:49<02:31,  3.09s/it]"
     ]
    },
    {
     "name": "stdout",
     "output_type": "stream",
     "text": [
      "imageBatch shape (4, 74115)\n",
      "generatedImages shape (4, 74115)\n"
     ]
    },
    {
     "name": "stderr",
     "output_type": "stream",
     "text": [
      "\r",
      " 26%|██▌       | 17/65 [00:52<02:30,  3.14s/it]"
     ]
    },
    {
     "name": "stdout",
     "output_type": "stream",
     "text": [
      "imageBatch shape (4, 74115)\n",
      "generatedImages shape (4, 74115)\n"
     ]
    },
    {
     "name": "stderr",
     "output_type": "stream",
     "text": [
      "\r",
      " 28%|██▊       | 18/65 [00:56<02:27,  3.14s/it]"
     ]
    },
    {
     "name": "stdout",
     "output_type": "stream",
     "text": [
      "imageBatch shape (4, 74115)\n",
      "generatedImages shape (4, 74115)\n"
     ]
    },
    {
     "name": "stderr",
     "output_type": "stream",
     "text": [
      "\r",
      " 29%|██▉       | 19/65 [00:59<02:25,  3.16s/it]"
     ]
    },
    {
     "name": "stdout",
     "output_type": "stream",
     "text": [
      "imageBatch shape (4, 74115)\n",
      "generatedImages shape (4, 74115)\n"
     ]
    },
    {
     "name": "stderr",
     "output_type": "stream",
     "text": [
      "\r",
      " 31%|███       | 20/65 [01:02<02:23,  3.19s/it]"
     ]
    },
    {
     "name": "stdout",
     "output_type": "stream",
     "text": [
      "imageBatch shape (4, 74115)\n",
      "generatedImages shape (4, 74115)\n"
     ]
    },
    {
     "name": "stderr",
     "output_type": "stream",
     "text": [
      "\r",
      " 32%|███▏      | 21/65 [01:05<02:21,  3.22s/it]"
     ]
    },
    {
     "name": "stdout",
     "output_type": "stream",
     "text": [
      "imageBatch shape (4, 74115)\n",
      "generatedImages shape (4, 74115)\n"
     ]
    },
    {
     "name": "stderr",
     "output_type": "stream",
     "text": [
      "\r",
      " 34%|███▍      | 22/65 [01:09<02:18,  3.22s/it]"
     ]
    },
    {
     "name": "stdout",
     "output_type": "stream",
     "text": [
      "imageBatch shape (4, 74115)\n",
      "generatedImages shape (4, 74115)\n"
     ]
    },
    {
     "name": "stderr",
     "output_type": "stream",
     "text": [
      "\r",
      " 35%|███▌      | 23/65 [01:12<02:14,  3.21s/it]"
     ]
    },
    {
     "name": "stdout",
     "output_type": "stream",
     "text": [
      "imageBatch shape (4, 74115)\n",
      "generatedImages shape (4, 74115)\n"
     ]
    },
    {
     "name": "stderr",
     "output_type": "stream",
     "text": [
      "\r",
      " 37%|███▋      | 24/65 [01:15<02:13,  3.26s/it]"
     ]
    },
    {
     "name": "stdout",
     "output_type": "stream",
     "text": [
      "imageBatch shape (4, 74115)\n",
      "generatedImages shape (4, 74115)\n"
     ]
    },
    {
     "name": "stderr",
     "output_type": "stream",
     "text": [
      "\r",
      " 38%|███▊      | 25/65 [01:19<02:11,  3.29s/it]"
     ]
    },
    {
     "name": "stdout",
     "output_type": "stream",
     "text": [
      "imageBatch shape (4, 74115)\n",
      "generatedImages shape (4, 74115)\n"
     ]
    },
    {
     "name": "stderr",
     "output_type": "stream",
     "text": [
      "\r",
      " 40%|████      | 26/65 [01:22<02:07,  3.28s/it]"
     ]
    },
    {
     "name": "stdout",
     "output_type": "stream",
     "text": [
      "imageBatch shape (4, 74115)\n",
      "generatedImages shape (4, 74115)\n"
     ]
    },
    {
     "name": "stderr",
     "output_type": "stream",
     "text": [
      "\r",
      " 42%|████▏     | 27/65 [01:25<02:05,  3.29s/it]"
     ]
    },
    {
     "name": "stdout",
     "output_type": "stream",
     "text": [
      "imageBatch shape (4, 74115)\n",
      "generatedImages shape (4, 74115)\n"
     ]
    },
    {
     "name": "stderr",
     "output_type": "stream",
     "text": [
      "\r",
      " 43%|████▎     | 28/65 [01:28<02:00,  3.25s/it]"
     ]
    },
    {
     "name": "stdout",
     "output_type": "stream",
     "text": [
      "imageBatch shape (4, 74115)\n",
      "generatedImages shape (4, 74115)\n"
     ]
    },
    {
     "name": "stderr",
     "output_type": "stream",
     "text": [
      "\r",
      " 45%|████▍     | 29/65 [01:31<01:57,  3.25s/it]"
     ]
    },
    {
     "name": "stdout",
     "output_type": "stream",
     "text": [
      "imageBatch shape (4, 74115)\n",
      "generatedImages shape (4, 74115)\n"
     ]
    },
    {
     "name": "stderr",
     "output_type": "stream",
     "text": [
      "\r",
      " 46%|████▌     | 30/65 [01:35<01:54,  3.28s/it]"
     ]
    },
    {
     "name": "stdout",
     "output_type": "stream",
     "text": [
      "imageBatch shape (4, 74115)\n",
      "generatedImages shape (4, 74115)\n"
     ]
    },
    {
     "name": "stderr",
     "output_type": "stream",
     "text": [
      "\r",
      " 48%|████▊     | 31/65 [01:38<01:50,  3.26s/it]"
     ]
    },
    {
     "name": "stdout",
     "output_type": "stream",
     "text": [
      "imageBatch shape (4, 74115)\n",
      "generatedImages shape (4, 74115)\n"
     ]
    },
    {
     "name": "stderr",
     "output_type": "stream",
     "text": [
      "\r",
      " 49%|████▉     | 32/65 [01:41<01:47,  3.25s/it]"
     ]
    },
    {
     "name": "stdout",
     "output_type": "stream",
     "text": [
      "imageBatch shape (4, 74115)\n",
      "generatedImages shape (4, 74115)\n"
     ]
    },
    {
     "name": "stderr",
     "output_type": "stream",
     "text": [
      "\r",
      " 51%|█████     | 33/65 [01:44<01:42,  3.20s/it]"
     ]
    },
    {
     "name": "stdout",
     "output_type": "stream",
     "text": [
      "imageBatch shape (4, 74115)\n",
      "generatedImages shape (4, 74115)\n"
     ]
    },
    {
     "name": "stderr",
     "output_type": "stream",
     "text": [
      "\r",
      " 52%|█████▏    | 34/65 [01:48<01:41,  3.28s/it]"
     ]
    },
    {
     "name": "stdout",
     "output_type": "stream",
     "text": [
      "imageBatch shape (4, 74115)\n",
      "generatedImages shape (4, 74115)\n"
     ]
    },
    {
     "name": "stderr",
     "output_type": "stream",
     "text": [
      "\r",
      " 54%|█████▍    | 35/65 [01:51<01:38,  3.28s/it]"
     ]
    },
    {
     "name": "stdout",
     "output_type": "stream",
     "text": [
      "imageBatch shape (4, 74115)\n",
      "generatedImages shape (4, 74115)\n"
     ]
    },
    {
     "name": "stderr",
     "output_type": "stream",
     "text": [
      "\r",
      " 55%|█████▌    | 36/65 [01:54<01:35,  3.29s/it]"
     ]
    },
    {
     "name": "stdout",
     "output_type": "stream",
     "text": [
      "imageBatch shape (4, 74115)\n",
      "generatedImages shape (4, 74115)\n"
     ]
    },
    {
     "name": "stderr",
     "output_type": "stream",
     "text": [
      "\r",
      " 57%|█████▋    | 37/65 [01:58<01:30,  3.24s/it]"
     ]
    },
    {
     "name": "stdout",
     "output_type": "stream",
     "text": [
      "imageBatch shape (4, 74115)\n",
      "generatedImages shape (4, 74115)\n"
     ]
    },
    {
     "name": "stderr",
     "output_type": "stream",
     "text": [
      "\r",
      " 58%|█████▊    | 38/65 [02:01<01:26,  3.21s/it]"
     ]
    },
    {
     "name": "stdout",
     "output_type": "stream",
     "text": [
      "imageBatch shape (4, 74115)\n",
      "generatedImages shape (4, 74115)\n"
     ]
    },
    {
     "name": "stderr",
     "output_type": "stream",
     "text": [
      "\r",
      " 60%|██████    | 39/65 [02:04<01:22,  3.16s/it]"
     ]
    },
    {
     "name": "stdout",
     "output_type": "stream",
     "text": [
      "imageBatch shape (4, 74115)\n",
      "generatedImages shape (4, 74115)\n"
     ]
    },
    {
     "name": "stderr",
     "output_type": "stream",
     "text": [
      "\r",
      " 62%|██████▏   | 40/65 [02:07<01:18,  3.14s/it]"
     ]
    },
    {
     "name": "stdout",
     "output_type": "stream",
     "text": [
      "imageBatch shape (4, 74115)\n",
      "generatedImages shape (4, 74115)\n"
     ]
    },
    {
     "name": "stderr",
     "output_type": "stream",
     "text": [
      "\r",
      " 63%|██████▎   | 41/65 [02:10<01:17,  3.21s/it]"
     ]
    },
    {
     "name": "stdout",
     "output_type": "stream",
     "text": [
      "imageBatch shape (4, 74115)\n",
      "generatedImages shape (4, 74115)\n"
     ]
    },
    {
     "name": "stderr",
     "output_type": "stream",
     "text": [
      "\r",
      " 65%|██████▍   | 42/65 [02:13<01:13,  3.20s/it]"
     ]
    },
    {
     "name": "stdout",
     "output_type": "stream",
     "text": [
      "imageBatch shape (4, 74115)\n",
      "generatedImages shape (4, 74115)\n"
     ]
    },
    {
     "name": "stderr",
     "output_type": "stream",
     "text": [
      "\r",
      " 66%|██████▌   | 43/65 [02:16<01:09,  3.16s/it]"
     ]
    },
    {
     "name": "stdout",
     "output_type": "stream",
     "text": [
      "imageBatch shape (4, 74115)\n",
      "generatedImages shape (4, 74115)\n"
     ]
    },
    {
     "name": "stderr",
     "output_type": "stream",
     "text": [
      "\r",
      " 68%|██████▊   | 44/65 [02:20<01:06,  3.16s/it]"
     ]
    },
    {
     "name": "stdout",
     "output_type": "stream",
     "text": [
      "imageBatch shape (4, 74115)\n",
      "generatedImages shape (4, 74115)\n"
     ]
    },
    {
     "name": "stderr",
     "output_type": "stream",
     "text": [
      "\r",
      " 69%|██████▉   | 45/65 [02:23<01:02,  3.13s/it]"
     ]
    },
    {
     "name": "stdout",
     "output_type": "stream",
     "text": [
      "imageBatch shape (4, 74115)\n",
      "generatedImages shape (4, 74115)\n"
     ]
    },
    {
     "name": "stderr",
     "output_type": "stream",
     "text": [
      "\r",
      " 71%|███████   | 46/65 [02:26<00:58,  3.10s/it]"
     ]
    },
    {
     "name": "stdout",
     "output_type": "stream",
     "text": [
      "imageBatch shape (4, 74115)\n",
      "generatedImages shape (4, 74115)\n"
     ]
    },
    {
     "name": "stderr",
     "output_type": "stream",
     "text": [
      "\r",
      " 72%|███████▏  | 47/65 [02:29<00:56,  3.12s/it]"
     ]
    },
    {
     "name": "stdout",
     "output_type": "stream",
     "text": [
      "imageBatch shape (4, 74115)\n",
      "generatedImages shape (4, 74115)\n"
     ]
    },
    {
     "name": "stderr",
     "output_type": "stream",
     "text": [
      "\r",
      " 74%|███████▍  | 48/65 [02:32<00:53,  3.12s/it]"
     ]
    },
    {
     "name": "stdout",
     "output_type": "stream",
     "text": [
      "imageBatch shape (4, 74115)\n",
      "generatedImages shape (4, 74115)\n"
     ]
    },
    {
     "name": "stderr",
     "output_type": "stream",
     "text": [
      "\r",
      " 75%|███████▌  | 49/65 [02:35<00:49,  3.12s/it]"
     ]
    },
    {
     "name": "stdout",
     "output_type": "stream",
     "text": [
      "imageBatch shape (4, 74115)\n",
      "generatedImages shape (4, 74115)\n"
     ]
    },
    {
     "name": "stderr",
     "output_type": "stream",
     "text": [
      "\r",
      " 77%|███████▋  | 50/65 [02:38<00:47,  3.13s/it]"
     ]
    },
    {
     "name": "stdout",
     "output_type": "stream",
     "text": [
      "imageBatch shape (4, 74115)\n",
      "generatedImages shape (4, 74115)\n"
     ]
    },
    {
     "name": "stderr",
     "output_type": "stream",
     "text": [
      "\r",
      " 78%|███████▊  | 51/65 [02:41<00:43,  3.14s/it]"
     ]
    },
    {
     "name": "stdout",
     "output_type": "stream",
     "text": [
      "imageBatch shape (4, 74115)\n",
      "generatedImages shape (4, 74115)\n"
     ]
    },
    {
     "name": "stderr",
     "output_type": "stream",
     "text": [
      "\r",
      " 80%|████████  | 52/65 [02:45<00:40,  3.15s/it]"
     ]
    },
    {
     "name": "stdout",
     "output_type": "stream",
     "text": [
      "imageBatch shape (4, 74115)\n",
      "generatedImages shape (4, 74115)\n"
     ]
    },
    {
     "name": "stderr",
     "output_type": "stream",
     "text": [
      "\r",
      " 82%|████████▏ | 53/65 [02:48<00:37,  3.14s/it]"
     ]
    },
    {
     "name": "stdout",
     "output_type": "stream",
     "text": [
      "imageBatch shape (4, 74115)\n",
      "generatedImages shape (4, 74115)\n"
     ]
    },
    {
     "name": "stderr",
     "output_type": "stream",
     "text": [
      "\r",
      " 83%|████████▎ | 54/65 [02:51<00:34,  3.11s/it]"
     ]
    },
    {
     "name": "stdout",
     "output_type": "stream",
     "text": [
      "imageBatch shape (4, 74115)\n",
      "generatedImages shape (4, 74115)\n"
     ]
    },
    {
     "name": "stderr",
     "output_type": "stream",
     "text": [
      "\r",
      " 85%|████████▍ | 55/65 [02:54<00:31,  3.12s/it]"
     ]
    },
    {
     "name": "stdout",
     "output_type": "stream",
     "text": [
      "imageBatch shape (4, 74115)\n",
      "generatedImages shape (4, 74115)\n"
     ]
    },
    {
     "name": "stderr",
     "output_type": "stream",
     "text": [
      "\r",
      " 86%|████████▌ | 56/65 [02:57<00:28,  3.11s/it]"
     ]
    },
    {
     "name": "stdout",
     "output_type": "stream",
     "text": [
      "imageBatch shape (4, 74115)\n",
      "generatedImages shape (4, 74115)\n"
     ]
    },
    {
     "name": "stderr",
     "output_type": "stream",
     "text": [
      "\r",
      " 88%|████████▊ | 57/65 [03:00<00:25,  3.16s/it]"
     ]
    },
    {
     "name": "stdout",
     "output_type": "stream",
     "text": [
      "imageBatch shape (4, 74115)\n",
      "generatedImages shape (4, 74115)\n"
     ]
    },
    {
     "name": "stderr",
     "output_type": "stream",
     "text": [
      "\r",
      " 89%|████████▉ | 58/65 [03:03<00:22,  3.15s/it]"
     ]
    },
    {
     "name": "stdout",
     "output_type": "stream",
     "text": [
      "imageBatch shape (4, 74115)\n",
      "generatedImages shape (4, 74115)\n"
     ]
    },
    {
     "name": "stderr",
     "output_type": "stream",
     "text": [
      "\r",
      " 91%|█████████ | 59/65 [03:07<00:18,  3.15s/it]"
     ]
    },
    {
     "name": "stdout",
     "output_type": "stream",
     "text": [
      "imageBatch shape (4, 74115)\n",
      "generatedImages shape (4, 74115)\n"
     ]
    },
    {
     "name": "stderr",
     "output_type": "stream",
     "text": [
      "\r",
      " 92%|█████████▏| 60/65 [03:10<00:15,  3.16s/it]"
     ]
    },
    {
     "name": "stdout",
     "output_type": "stream",
     "text": [
      "imageBatch shape (4, 74115)\n",
      "generatedImages shape (4, 74115)\n"
     ]
    },
    {
     "name": "stderr",
     "output_type": "stream",
     "text": [
      "\r",
      " 94%|█████████▍| 61/65 [03:13<00:12,  3.22s/it]"
     ]
    },
    {
     "name": "stdout",
     "output_type": "stream",
     "text": [
      "imageBatch shape (4, 74115)\n",
      "generatedImages shape (4, 74115)\n"
     ]
    },
    {
     "name": "stderr",
     "output_type": "stream",
     "text": [
      "\r",
      " 95%|█████████▌| 62/65 [03:17<00:09,  3.29s/it]"
     ]
    },
    {
     "name": "stdout",
     "output_type": "stream",
     "text": [
      "imageBatch shape (4, 74115)\n",
      "generatedImages shape (4, 74115)\n"
     ]
    },
    {
     "name": "stderr",
     "output_type": "stream",
     "text": [
      "\r",
      " 97%|█████████▋| 63/65 [03:20<00:06,  3.36s/it]"
     ]
    },
    {
     "name": "stdout",
     "output_type": "stream",
     "text": [
      "imageBatch shape (4, 74115)\n",
      "generatedImages shape (4, 74115)\n"
     ]
    },
    {
     "name": "stderr",
     "output_type": "stream",
     "text": [
      "\r",
      " 98%|█████████▊| 64/65 [03:23<00:03,  3.37s/it]"
     ]
    },
    {
     "name": "stdout",
     "output_type": "stream",
     "text": [
      "imageBatch shape (4, 74115)\n",
      "generatedImages shape (4, 74115)\n"
     ]
    },
    {
     "name": "stderr",
     "output_type": "stream",
     "text": [
      "100%|██████████| 65/65 [03:27<00:00,  3.41s/it]\n",
      "  0%|          | 0/65 [00:00<?, ?it/s]"
     ]
    },
    {
     "name": "stdout",
     "output_type": "stream",
     "text": [
      "--------------- Epoch 6 ---------------\n",
      "imageBatch shape (4, 74115)\n",
      "generatedImages shape (4, 74115)\n"
     ]
    },
    {
     "name": "stderr",
     "output_type": "stream",
     "text": [
      "\r",
      "  2%|▏         | 1/65 [00:03<03:42,  3.48s/it]"
     ]
    },
    {
     "name": "stdout",
     "output_type": "stream",
     "text": [
      "imageBatch shape (4, 74115)\n",
      "generatedImages shape (4, 74115)\n"
     ]
    },
    {
     "name": "stderr",
     "output_type": "stream",
     "text": [
      "\r",
      "  3%|▎         | 2/65 [00:06<03:38,  3.47s/it]"
     ]
    },
    {
     "name": "stdout",
     "output_type": "stream",
     "text": [
      "imageBatch shape (4, 74115)\n",
      "generatedImages shape (4, 74115)\n"
     ]
    },
    {
     "name": "stderr",
     "output_type": "stream",
     "text": [
      "\r",
      "  5%|▍         | 3/65 [00:10<03:32,  3.43s/it]"
     ]
    },
    {
     "name": "stdout",
     "output_type": "stream",
     "text": [
      "imageBatch shape (4, 74115)\n",
      "generatedImages shape (4, 74115)\n"
     ]
    },
    {
     "ename": "KeyboardInterrupt",
     "evalue": "",
     "output_type": "error",
     "traceback": [
      "\u001b[1;31m---------------------------------------------------------------------------\u001b[0m",
      "\u001b[1;31mKeyboardInterrupt\u001b[0m                         Traceback (most recent call last)",
      "\u001b[1;32m<ipython-input-26-54ba894f384b>\u001b[0m in \u001b[0;36m<module>\u001b[1;34m()\u001b[0m\n\u001b[0;32m      1\u001b[0m \u001b[1;32mif\u001b[0m \u001b[0m__name__\u001b[0m \u001b[1;33m==\u001b[0m \u001b[1;34m'__main__'\u001b[0m\u001b[1;33m:\u001b[0m\u001b[1;33m\u001b[0m\u001b[0m\n\u001b[1;32m----> 2\u001b[1;33m     \u001b[0mtrain\u001b[0m\u001b[1;33m(\u001b[0m\u001b[0mX_train\u001b[0m\u001b[1;33m,\u001b[0m \u001b[1;36m200\u001b[0m\u001b[1;33m,\u001b[0m \u001b[1;36m4\u001b[0m\u001b[1;33m)\u001b[0m\u001b[1;33m\u001b[0m\u001b[0m\n\u001b[0m",
      "\u001b[1;32m<ipython-input-25-6ad4569b9323>\u001b[0m in \u001b[0;36mtrain\u001b[1;34m(X_train, epochs, batchSize)\u001b[0m\n\u001b[0;32m     37\u001b[0m             \u001b[0myGen\u001b[0m \u001b[1;33m=\u001b[0m \u001b[0mnp\u001b[0m\u001b[1;33m.\u001b[0m\u001b[0mones\u001b[0m\u001b[1;33m(\u001b[0m\u001b[0mbatchSize\u001b[0m\u001b[1;33m)\u001b[0m\u001b[1;33m\u001b[0m\u001b[0m\n\u001b[0;32m     38\u001b[0m             \u001b[0mdiscriminator\u001b[0m\u001b[1;33m.\u001b[0m\u001b[0mtrainable\u001b[0m \u001b[1;33m=\u001b[0m \u001b[1;32mFalse\u001b[0m\u001b[1;33m\u001b[0m\u001b[0m\n\u001b[1;32m---> 39\u001b[1;33m             \u001b[0mgloss\u001b[0m \u001b[1;33m=\u001b[0m \u001b[0mgan\u001b[0m\u001b[1;33m.\u001b[0m\u001b[0mtrain_on_batch\u001b[0m\u001b[1;33m(\u001b[0m\u001b[0mnoise\u001b[0m\u001b[1;33m,\u001b[0m \u001b[0myGen\u001b[0m\u001b[1;33m)\u001b[0m\u001b[1;33m\u001b[0m\u001b[0m\n\u001b[0m\u001b[0;32m     40\u001b[0m \u001b[1;33m\u001b[0m\u001b[0m\n\u001b[0;32m     41\u001b[0m         \u001b[1;31m# Store loss of most recent batch from this epoch\u001b[0m\u001b[1;33m\u001b[0m\u001b[1;33m\u001b[0m\u001b[0m\n",
      "\u001b[1;32m/opt/conda/lib/python3.5/site-packages/keras/engine/training.py\u001b[0m in \u001b[0;36mtrain_on_batch\u001b[1;34m(self, x, y, sample_weight, class_weight)\u001b[0m\n\u001b[0;32m   1760\u001b[0m             \u001b[0mins\u001b[0m \u001b[1;33m=\u001b[0m \u001b[0mx\u001b[0m \u001b[1;33m+\u001b[0m \u001b[0my\u001b[0m \u001b[1;33m+\u001b[0m \u001b[0msample_weights\u001b[0m\u001b[1;33m\u001b[0m\u001b[0m\n\u001b[0;32m   1761\u001b[0m         \u001b[0mself\u001b[0m\u001b[1;33m.\u001b[0m\u001b[0m_make_train_function\u001b[0m\u001b[1;33m(\u001b[0m\u001b[1;33m)\u001b[0m\u001b[1;33m\u001b[0m\u001b[0m\n\u001b[1;32m-> 1762\u001b[1;33m         \u001b[0moutputs\u001b[0m \u001b[1;33m=\u001b[0m \u001b[0mself\u001b[0m\u001b[1;33m.\u001b[0m\u001b[0mtrain_function\u001b[0m\u001b[1;33m(\u001b[0m\u001b[0mins\u001b[0m\u001b[1;33m)\u001b[0m\u001b[1;33m\u001b[0m\u001b[0m\n\u001b[0m\u001b[0;32m   1763\u001b[0m         \u001b[1;32mif\u001b[0m \u001b[0mlen\u001b[0m\u001b[1;33m(\u001b[0m\u001b[0moutputs\u001b[0m\u001b[1;33m)\u001b[0m \u001b[1;33m==\u001b[0m \u001b[1;36m1\u001b[0m\u001b[1;33m:\u001b[0m\u001b[1;33m\u001b[0m\u001b[0m\n\u001b[0;32m   1764\u001b[0m             \u001b[1;32mreturn\u001b[0m \u001b[0moutputs\u001b[0m\u001b[1;33m[\u001b[0m\u001b[1;36m0\u001b[0m\u001b[1;33m]\u001b[0m\u001b[1;33m\u001b[0m\u001b[0m\n",
      "\u001b[1;32m/opt/conda/lib/python3.5/site-packages/keras/backend/tensorflow_backend.py\u001b[0m in \u001b[0;36m__call__\u001b[1;34m(self, inputs)\u001b[0m\n\u001b[0;32m   2271\u001b[0m         updated = session.run(self.outputs + [self.updates_op],\n\u001b[0;32m   2272\u001b[0m                               \u001b[0mfeed_dict\u001b[0m\u001b[1;33m=\u001b[0m\u001b[0mfeed_dict\u001b[0m\u001b[1;33m,\u001b[0m\u001b[1;33m\u001b[0m\u001b[0m\n\u001b[1;32m-> 2273\u001b[1;33m                               **self.session_kwargs)\n\u001b[0m\u001b[0;32m   2274\u001b[0m         \u001b[1;32mreturn\u001b[0m \u001b[0mupdated\u001b[0m\u001b[1;33m[\u001b[0m\u001b[1;33m:\u001b[0m\u001b[0mlen\u001b[0m\u001b[1;33m(\u001b[0m\u001b[0mself\u001b[0m\u001b[1;33m.\u001b[0m\u001b[0moutputs\u001b[0m\u001b[1;33m)\u001b[0m\u001b[1;33m]\u001b[0m\u001b[1;33m\u001b[0m\u001b[0m\n\u001b[0;32m   2275\u001b[0m \u001b[1;33m\u001b[0m\u001b[0m\n",
      "\u001b[1;32m/opt/conda/lib/python3.5/site-packages/tensorflow/python/client/session.py\u001b[0m in \u001b[0;36mrun\u001b[1;34m(self, fetches, feed_dict, options, run_metadata)\u001b[0m\n\u001b[0;32m    893\u001b[0m     \u001b[1;32mtry\u001b[0m\u001b[1;33m:\u001b[0m\u001b[1;33m\u001b[0m\u001b[0m\n\u001b[0;32m    894\u001b[0m       result = self._run(None, fetches, feed_dict, options_ptr,\n\u001b[1;32m--> 895\u001b[1;33m                          run_metadata_ptr)\n\u001b[0m\u001b[0;32m    896\u001b[0m       \u001b[1;32mif\u001b[0m \u001b[0mrun_metadata\u001b[0m\u001b[1;33m:\u001b[0m\u001b[1;33m\u001b[0m\u001b[0m\n\u001b[0;32m    897\u001b[0m         \u001b[0mproto_data\u001b[0m \u001b[1;33m=\u001b[0m \u001b[0mtf_session\u001b[0m\u001b[1;33m.\u001b[0m\u001b[0mTF_GetBuffer\u001b[0m\u001b[1;33m(\u001b[0m\u001b[0mrun_metadata_ptr\u001b[0m\u001b[1;33m)\u001b[0m\u001b[1;33m\u001b[0m\u001b[0m\n",
      "\u001b[1;32m/opt/conda/lib/python3.5/site-packages/tensorflow/python/client/session.py\u001b[0m in \u001b[0;36m_run\u001b[1;34m(self, handle, fetches, feed_dict, options, run_metadata)\u001b[0m\n\u001b[0;32m   1122\u001b[0m     \u001b[1;32mif\u001b[0m \u001b[0mfinal_fetches\u001b[0m \u001b[1;32mor\u001b[0m \u001b[0mfinal_targets\u001b[0m \u001b[1;32mor\u001b[0m \u001b[1;33m(\u001b[0m\u001b[0mhandle\u001b[0m \u001b[1;32mand\u001b[0m \u001b[0mfeed_dict_tensor\u001b[0m\u001b[1;33m)\u001b[0m\u001b[1;33m:\u001b[0m\u001b[1;33m\u001b[0m\u001b[0m\n\u001b[0;32m   1123\u001b[0m       results = self._do_run(handle, final_targets, final_fetches,\n\u001b[1;32m-> 1124\u001b[1;33m                              feed_dict_tensor, options, run_metadata)\n\u001b[0m\u001b[0;32m   1125\u001b[0m     \u001b[1;32melse\u001b[0m\u001b[1;33m:\u001b[0m\u001b[1;33m\u001b[0m\u001b[0m\n\u001b[0;32m   1126\u001b[0m       \u001b[0mresults\u001b[0m \u001b[1;33m=\u001b[0m \u001b[1;33m[\u001b[0m\u001b[1;33m]\u001b[0m\u001b[1;33m\u001b[0m\u001b[0m\n",
      "\u001b[1;32m/opt/conda/lib/python3.5/site-packages/tensorflow/python/client/session.py\u001b[0m in \u001b[0;36m_do_run\u001b[1;34m(self, handle, target_list, fetch_list, feed_dict, options, run_metadata)\u001b[0m\n\u001b[0;32m   1319\u001b[0m     \u001b[1;32mif\u001b[0m \u001b[0mhandle\u001b[0m \u001b[1;32mis\u001b[0m \u001b[1;32mNone\u001b[0m\u001b[1;33m:\u001b[0m\u001b[1;33m\u001b[0m\u001b[0m\n\u001b[0;32m   1320\u001b[0m       return self._do_call(_run_fn, self._session, feeds, fetches, targets,\n\u001b[1;32m-> 1321\u001b[1;33m                            options, run_metadata)\n\u001b[0m\u001b[0;32m   1322\u001b[0m     \u001b[1;32melse\u001b[0m\u001b[1;33m:\u001b[0m\u001b[1;33m\u001b[0m\u001b[0m\n\u001b[0;32m   1323\u001b[0m       \u001b[1;32mreturn\u001b[0m \u001b[0mself\u001b[0m\u001b[1;33m.\u001b[0m\u001b[0m_do_call\u001b[0m\u001b[1;33m(\u001b[0m\u001b[0m_prun_fn\u001b[0m\u001b[1;33m,\u001b[0m \u001b[0mself\u001b[0m\u001b[1;33m.\u001b[0m\u001b[0m_session\u001b[0m\u001b[1;33m,\u001b[0m \u001b[0mhandle\u001b[0m\u001b[1;33m,\u001b[0m \u001b[0mfeeds\u001b[0m\u001b[1;33m,\u001b[0m \u001b[0mfetches\u001b[0m\u001b[1;33m)\u001b[0m\u001b[1;33m\u001b[0m\u001b[0m\n",
      "\u001b[1;32m/opt/conda/lib/python3.5/site-packages/tensorflow/python/client/session.py\u001b[0m in \u001b[0;36m_do_call\u001b[1;34m(self, fn, *args)\u001b[0m\n\u001b[0;32m   1325\u001b[0m   \u001b[1;32mdef\u001b[0m \u001b[0m_do_call\u001b[0m\u001b[1;33m(\u001b[0m\u001b[0mself\u001b[0m\u001b[1;33m,\u001b[0m \u001b[0mfn\u001b[0m\u001b[1;33m,\u001b[0m \u001b[1;33m*\u001b[0m\u001b[0margs\u001b[0m\u001b[1;33m)\u001b[0m\u001b[1;33m:\u001b[0m\u001b[1;33m\u001b[0m\u001b[0m\n\u001b[0;32m   1326\u001b[0m     \u001b[1;32mtry\u001b[0m\u001b[1;33m:\u001b[0m\u001b[1;33m\u001b[0m\u001b[0m\n\u001b[1;32m-> 1327\u001b[1;33m       \u001b[1;32mreturn\u001b[0m \u001b[0mfn\u001b[0m\u001b[1;33m(\u001b[0m\u001b[1;33m*\u001b[0m\u001b[0margs\u001b[0m\u001b[1;33m)\u001b[0m\u001b[1;33m\u001b[0m\u001b[0m\n\u001b[0m\u001b[0;32m   1328\u001b[0m     \u001b[1;32mexcept\u001b[0m \u001b[0merrors\u001b[0m\u001b[1;33m.\u001b[0m\u001b[0mOpError\u001b[0m \u001b[1;32mas\u001b[0m \u001b[0me\u001b[0m\u001b[1;33m:\u001b[0m\u001b[1;33m\u001b[0m\u001b[0m\n\u001b[0;32m   1329\u001b[0m       \u001b[0mmessage\u001b[0m \u001b[1;33m=\u001b[0m \u001b[0mcompat\u001b[0m\u001b[1;33m.\u001b[0m\u001b[0mas_text\u001b[0m\u001b[1;33m(\u001b[0m\u001b[0me\u001b[0m\u001b[1;33m.\u001b[0m\u001b[0mmessage\u001b[0m\u001b[1;33m)\u001b[0m\u001b[1;33m\u001b[0m\u001b[0m\n",
      "\u001b[1;32m/opt/conda/lib/python3.5/site-packages/tensorflow/python/client/session.py\u001b[0m in \u001b[0;36m_run_fn\u001b[1;34m(session, feed_dict, fetch_list, target_list, options, run_metadata)\u001b[0m\n\u001b[0;32m   1304\u001b[0m           return tf_session.TF_Run(session, options,\n\u001b[0;32m   1305\u001b[0m                                    \u001b[0mfeed_dict\u001b[0m\u001b[1;33m,\u001b[0m \u001b[0mfetch_list\u001b[0m\u001b[1;33m,\u001b[0m \u001b[0mtarget_list\u001b[0m\u001b[1;33m,\u001b[0m\u001b[1;33m\u001b[0m\u001b[0m\n\u001b[1;32m-> 1306\u001b[1;33m                                    status, run_metadata)\n\u001b[0m\u001b[0;32m   1307\u001b[0m \u001b[1;33m\u001b[0m\u001b[0m\n\u001b[0;32m   1308\u001b[0m     \u001b[1;32mdef\u001b[0m \u001b[0m_prun_fn\u001b[0m\u001b[1;33m(\u001b[0m\u001b[0msession\u001b[0m\u001b[1;33m,\u001b[0m \u001b[0mhandle\u001b[0m\u001b[1;33m,\u001b[0m \u001b[0mfeed_dict\u001b[0m\u001b[1;33m,\u001b[0m \u001b[0mfetch_list\u001b[0m\u001b[1;33m)\u001b[0m\u001b[1;33m:\u001b[0m\u001b[1;33m\u001b[0m\u001b[0m\n",
      "\u001b[1;31mKeyboardInterrupt\u001b[0m: "
     ]
    },
    {
     "data": {
      "image/png": "[encoded data removed]",
      "text/plain": [
       "<matplotlib.figure.Figure at 0x7f38df219518>"
      ]
     },
     "metadata": {},
     "output_type": "display_data"
    }
   ],
   "source": [
    "if __name__ == '__main__':\n",
    "    train(X_train, 200, 4)"
   ]
  },
  {
   "cell_type": "code",
   "execution_count": null,
   "metadata": {
    "collapsed": true,
    "deletable": true,
    "editable": true
   },
   "outputs": [],
   "source": [
    "# Load model\n",
    "model = load_weights"
   ]
  },
  {
   "cell_type": "code",
   "execution_count": 27,
   "metadata": {
    "collapsed": false
   },
   "outputs": [
    {
     "data": {
      "text/plain": [
       "(4, 1)"
      ]
     },
     "execution_count": 27,
     "metadata": {},
     "output_type": "execute_result"
    }
   ],
   "source": [
    "A = np.random.randn(4,3)\n",
    "B = np.sum(A, axis = 1, keepdims = True)\n",
    "B.shape"
   ]
  }
 ],
 "metadata": {
  "kernelspec": {
   "display_name": "Python 3",
   "language": "python",
   "name": "python3"
  },
  "language_info": {
   "codemirror_mode": {
    "name": "ipython",
    "version": 3
   },
   "file_extension": ".py",
   "mimetype": "text/x-python",
   "name": "python",
   "nbconvert_exporter": "python",
   "pygments_lexer": "ipython3",
   "version": "3.5.2"
  }
 },
 "nbformat": 4,
 "nbformat_minor": 2
}
