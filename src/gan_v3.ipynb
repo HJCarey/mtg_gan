{
 "cells": [
  {
   "cell_type": "code",
   "execution_count": 1,
   "metadata": {
    "collapsed": false
   },
   "outputs": [
    {
     "name": "stderr",
     "output_type": "stream",
     "text": [
      "Using TensorFlow backend.\n"
     ]
    }
   ],
   "source": [
    "import os\n",
    "import numpy as np\n",
    "import pandas as pd\n",
    "import sklearn as sk\n",
    "import PIL.Image as Image\n",
    "from IPython import display\n",
    "import pylab as pl\n",
    "import matplotlib.pyplot as plt\n",
    "import tensorflow as tf\n",
    "import keras\n",
    "from collections import Counter\n",
    "import operator\n",
    "import time\n",
    "from tqdm import tqdm\n",
    "from skimage.transform import resize, rescale, downscale_local_mean\n",
    "\n",
    "from sklearn.model_selection import train_test_split\n",
    "\n",
    "%matplotlib inline"
   ]
  },
  {
   "cell_type": "code",
   "execution_count": 2,
   "metadata": {
    "collapsed": true
   },
   "outputs": [],
   "source": [
    "def generator(self, z):\n",
    "    self.z_, self.h0_w, self.h0_b = linear(z, self.gf_dim*8*4*4,\n",
    "                                           'g_h0_lin', with_w=True)\n",
    "\n",
    "    self.h0 = tf.reshape(self.z_, [-1, 4, 4, self.gf_dim * 8])\n",
    "    h0 = tf.nn.relu(self.g_bn0(self.h0))\n",
    "\n",
    "    self.h1, self.h1_w, self.h1_b = conv2d_transpose(h0,\n",
    "        [self.batch_size, 8, 8, self.gf_dim*4], name='g_h1', with_w=True)\n",
    "    h1 = tf.nn.relu(self.g_bn1(self.h1))\n",
    "\n",
    "    h2, self.h2_w, self.h2_b = conv2d_transpose(h1,\n",
    "        [self.batch_size, 16, 16, self.gf_dim*2], name='g_h2', with_w=True)\n",
    "    h2 = tf.nn.relu(self.g_bn2(h2))\n",
    "\n",
    "    h3, self.h3_w, self.h3_b = conv2d_transpose(h2,\n",
    "        [self.batch_size, 32, 32, self.gf_dim*1], name='g_h3', with_w=True)\n",
    "    h3 = tf.nn.relu(self.g_bn3(h3))\n",
    "\n",
    "    h4, self.h4_w, self.h4_b = conv2d_transpose(h3,\n",
    "        [self.batch_size, 64, 64, 3], name='g_h4', with_w=True)\n",
    "\n",
    "    return tf.nn.tanh(h4)\n",
    "\n",
    "def discriminator(self, image, reuse=False):\n",
    "    if reuse:\n",
    "        tf.get_variable_scope().reuse_variables()\n",
    "\n",
    "    h0 = lrelu(conv2d(image, self.df_dim, name='d_h0_conv'))\n",
    "    h1 = lrelu(self.d_bn1(conv2d(h0, self.df_dim*2, name='d_h1_conv')))\n",
    "    h2 = lrelu(self.d_bn2(conv2d(h1, self.df_dim*4, name='d_h2_conv')))\n",
    "    h3 = lrelu(self.d_bn3(conv2d(h2, self.df_dim*8, name='d_h3_conv')))\n",
    "    h4 = linear(tf.reshape(h3, [-1, 8192]), 1, 'd_h3_lin')\n",
    "\n",
    "    return tf.nn.sigmoid(h4), h4"
   ]
  }
 ],
 "metadata": {
  "kernelspec": {
   "display_name": "Python 3",
   "language": "python",
   "name": "python3"
  },
  "language_info": {
   "codemirror_mode": {
    "name": "ipython",
    "version": 3
   },
   "file_extension": ".py",
   "mimetype": "text/x-python",
   "name": "python",
   "nbconvert_exporter": "python",
   "pygments_lexer": "ipython3",
   "version": "3.5.2"
  }
 },
 "nbformat": 4,
 "nbformat_minor": 2
}
